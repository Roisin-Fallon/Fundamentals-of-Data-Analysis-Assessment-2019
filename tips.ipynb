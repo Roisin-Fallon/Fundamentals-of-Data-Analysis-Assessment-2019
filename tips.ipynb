{
 "cells": [
  {
   "cell_type": "markdown",
   "metadata": {},
   "source": [
    "# <font color=blue> Fundamentals of Data Analysis Project 2019 </font>\n",
    "\n",
    "## <center> Tips Dataset </center>"
   ]
  },
  {
   "cell_type": "markdown",
   "metadata": {},
   "source": [
    "### Table of Contents\n",
    "\n",
    "\n",
    "1. [ Python Libraries ](#lib)\n",
    "2. [ Tips dataset csv ](#tip)\n",
    "3. [ Dataset Summary](#sum)\n",
    "    * [Shape](#shape)\n",
<<<<<<< HEAD
    "    * [ Info ](#info)\n",
    "    * [ Null Values ](#isnull)\n",
    "    * [ Head of tips dataset](#head)\n",
    "    * [ Tail of each species ](#tail)\n",
    "    * [ Class Distribution ](#class)\n",
=======
    "    * [ Columns ](#columns)\n",
    "    * [ Info ](#info)\n",
    "    * [ Unique Species ](#unique)\n",
    "    * [ Null Values ](#isnull)\n",
    "    * [ Class Distribution ](#class)\n",
    "    * [ Head of each species ](#head)\n",
    "    * [ Tail of each species ](#tail)\n",
>>>>>>> ac79f396595ef44d04138b76cf8d50e9d55ea8ab
    "8. [Statistics of the Iris Dataset](#stat)\n",
    "9. [Visualize the dataset](#visualize)\n",
    "    * [Boxplot](#box)\n",
    "    * [ Histograms ](#hist)\n",
    "    * [Distplot ](#dist)\n",
    "    * [ Scatterplot ](#scatter)\n",
    "    * [ Pairplot ](#pair)\n",
    "10. [Conclusion](#con)\n",
    "11. [Bibliography](#bib)"
   ]
  },
  {
   "cell_type": "markdown",
   "metadata": {},
   "source": [
    "<a name=\"lib\"></a>\n",
    "### Python Libraries:\n",
    "\n",
    "<b> Anaconda on your device (version 3.7 +) </b>\n",
    "\n",
    " <a href=https://www.anaconda.com/distribution/> Download here </a>\n",
    "\n",
    "This contains porting for the library listed below. By downloading Anaconda it removes the need to import numerous libraries seperately.\n",
    " \n",
    " <b> Pandas </b> \n",
    " \n",
    " <a href=https://pandas.pydata.org/getpandas.html> Download here </a>\n",
    " \n",
    "This is a Python package designed to strucure information in rows and columns.  It is known for quick and easy data manipulation, aggregation, and visualization.  Python takes in data via a CSV, TSV file or SQL database and creates a Python object called a data frame. Brief Introducton of Panda outlined <a href=https://towardsdatascience.com/a-quick-introduction-to-the-pandas-python-library-f1b678f34673> here. </a>\n",
    "\n",
    "<b> NumPy </b> \n",
    "\n",
    "<a href=http://www.numpy.org/> Download here </a>\n",
    "\n",
    "This is a numerical library, performs many mathematical operations and handles i.  Brief introductiion outlined <a href=https://towardsdatascience.com/a-quick-introduction-to-the-numpy-library-6f61b7dee4db> here. </a>\n",
    "\n",
    "<b> Matplotlib </b> \n",
    "\n",
    "<a href=https://matplotlib.org/downloads.htmll> Download here </a>\n",
    "\n",
    "This is a plotting library, makes  2D plots  that helps in the visualisation of figures using one or multiple numeric variables. It can generate histograms, pie charts, time series, boxplot, violin plot, stack plot, stem plots and scatter plots.  It can be used in Python scripts, Jupyter notebook, and web application servers.  Brief Introduction outlined  <a href=https://towardsdatascience.com/data-visualization-using-matplotlib-16f1aae5ce70> here. </a>\n",
    "\n",
    "<b> Seaborn </b>\n",
    "\n",
    "This a satistical plotting library  which has more advanced data visualisation than matplotlib (both are plotting libraries). Seaborn produces nice visualizations eliminating much of the work necessary for producing similar visualizations with matplotlib. It gives a high-level interface to draw statistical graphs, making it easier to generate more complex visualizations. Brief introduction outlined <a href=https://towardsdatascience.com/data-visualization-using-seaborn-fc24db95a850> here. </a>\n",
    "\n",
    "<b> Scikit-learn </b>\n",
    "\n",
    "Simple and efficient tool that can be used for data miming or data analysis. It's library contains a lot of effiecient tools for machine learning and statistical modeling including classification, regression, clustering and dimensionality reduction. It comes as part of the anaconda package Brief introduction outlined <https://scikit-learn.org/stable/install.html > here. </a>\n"
   ]
  },
  {
   "cell_type": "code",
<<<<<<< HEAD
   "execution_count": 5,
=======
   "execution_count": 32,
>>>>>>> ac79f396595ef44d04138b76cf8d50e9d55ea8ab
   "metadata": {},
   "outputs": [],
   "source": [
    "# Import the following libraries:\n",
    "\n",
    "import pandas as pd\n",
    "import matplotlib.pyplot as plt\n",
    "import numpy as np\n",
<<<<<<< HEAD
    "import seaborn as sns \n",
    "%matplotlib inline\n",
    "\n",
    "# current version of seaborn creates warnings this will remove them\n",
    "import warnings\n",
    "warnings.filterwarnings(\"ignore\")"
=======
    "import seaborn as sns "
>>>>>>> ac79f396595ef44d04138b76cf8d50e9d55ea8ab
   ]
  },
  {
   "cell_type": "markdown",
   "metadata": {},
   "source": [
    "<a name=\"tip\"></a>\n",
    "### Tips dataset csv:\n",
    "\n",
    " <a href=https://github.com/pandas-dev/pandas/blob/master/doc/data/tips.csv> Download here </a>"
   ]
  },
  {
   "cell_type": "code",
<<<<<<< HEAD
   "execution_count": 18,
=======
   "execution_count": 33,
>>>>>>> ac79f396595ef44d04138b76cf8d50e9d55ea8ab
   "metadata": {},
   "outputs": [],
   "source": [
    "# Read the csv file\n",
    "tips = sns.load_dataset(\"tips\")"
   ]
  },
  {
   "cell_type": "markdown",
   "metadata": {},
   "source": [
    "<a name=\"sum\"></a>\n",
<<<<<<< HEAD
    "### Descriptive Dataset Summary"
=======
    "###  Dataset Summary"
>>>>>>> ac79f396595ef44d04138b76cf8d50e9d55ea8ab
   ]
  },
  {
   "cell_type": "markdown",
   "metadata": {},
   "source": [
    "<a name=\"shape\"></a>\n",
    "<b> A. Shape </b>\n",
    "\n",
    "Confirms the shape of the tips dataset in terms of the number of rows and columns"
   ]
  },
  {
   "cell_type": "code",
<<<<<<< HEAD
   "execution_count": 19,
=======
   "execution_count": 31,
>>>>>>> ac79f396595ef44d04138b76cf8d50e9d55ea8ab
   "metadata": {},
   "outputs": [
    {
     "name": "stdout",
     "output_type": "stream",
     "text": [
<<<<<<< HEAD
      " Shape of tips dataset, 244 rows and 7 columns\n"
=======
      "The shape of the dataset is:  (244, 7)\n"
>>>>>>> ac79f396595ef44d04138b76cf8d50e9d55ea8ab
     ]
    }
   ],
   "source": [
<<<<<<< HEAD
    "# https://www.dataquest.io/blog/pandas-pivot-table/\n",
    "\n",
    "print(\" Shape of tips dataset, {0} rows and {1} columns\".format(tips.shape[0], tips.shape[1]))"
=======
    "# Check how many rows and columns there are in the tips dataset.\n",
    "\n",
    "print(\"The shape of the dataset is: \", tips.shape)"
   ]
  },
  {
   "cell_type": "markdown",
   "metadata": {},
   "source": []
  },
  {
   "cell_type": "code",
   "execution_count": 43,
   "metadata": {},
   "outputs": [
    {
     "data": {
      "text/plain": [
       "total_bill     float64\n",
       "tip            float64\n",
       "sex           category\n",
       "smoker        category\n",
       "day           category\n",
       "time          category\n",
       "size             int64\n",
       "dtype: object"
      ]
     },
     "execution_count": 43,
     "metadata": {},
     "output_type": "execute_result"
    }
   ],
   "source": [
    "tips.dtypes"
>>>>>>> ac79f396595ef44d04138b76cf8d50e9d55ea8ab
   ]
  },
  {
   "cell_type": "markdown",
   "metadata": {},
   "source": [
    "<a name=\"info\"></a>\n",
<<<<<<< HEAD
    " <b> B. Info </b>\n",
=======
    " <b> D. Info </b>\n",
>>>>>>> ac79f396595ef44d04138b76cf8d50e9d55ea8ab
    "    \n",
    "Provides information on the tips dataset including names of columns, total number of rows and columns, data type of each column, range index and memory usage."
   ]
  },
  {
   "cell_type": "code",
<<<<<<< HEAD
   "execution_count": 20,
=======
   "execution_count": 40,
>>>>>>> ac79f396595ef44d04138b76cf8d50e9d55ea8ab
   "metadata": {},
   "outputs": [
    {
     "name": "stdout",
     "output_type": "stream",
     "text": [
      "<class 'pandas.core.frame.DataFrame'>\n",
      "RangeIndex: 244 entries, 0 to 243\n",
      "Data columns (total 7 columns):\n",
      "total_bill    244 non-null float64\n",
      "tip           244 non-null float64\n",
      "sex           244 non-null category\n",
      "smoker        244 non-null category\n",
      "day           244 non-null category\n",
      "time          244 non-null category\n",
      "size          244 non-null int64\n",
      "dtypes: category(4), float64(2), int64(1)\n",
      "memory usage: 7.2 KB\n"
     ]
    }
   ],
   "source": [
    "# Determine data columns data type:\n",
    "\n",
    "tips.info()"
   ]
  },
  {
<<<<<<< HEAD
   "cell_type": "code",
   "execution_count": 21,
   "metadata": {},
   "outputs": [
    {
     "name": "stdout",
     "output_type": "stream",
     "text": [
      "Tips dataset columns: Index(['total_bill', 'tip', 'sex', 'smoker', 'day', 'time', 'size'], dtype='object') \n",
      " \n",
      "\n",
      "Types of data: \n",
      " total_bill     float64\n",
      "tip            float64\n",
      "sex           category\n",
      "smoker        category\n",
      "day           category\n",
      "time          category\n",
      "size             int64\n",
      "dtype: object \n",
      "\n"
     ]
    }
   ],
   "source": [
    "# A more verbose way to extract this information would be to run the following code\n",
    "\n",
    "print(\"Tips dataset columns:\", tips.columns,\"\\n\",\"\\n\" )      # This will give the names of the columns\n",
    "print(\"Types of data:\", \"\\n\", tips.dtypes, \"\\n\" )            # This will state the data types"
   ]
  },
  {
   "cell_type": "markdown",
   "metadata": {},
   "source": [
    "\n",
    "|  Column Name      |      Description                                        |     \n",
    "| -------------     | -------------                                           | \n",
    "|      total_bill   |      financial amount of meal in U.S. dollars           |     \n",
    "|      tip          |      financial amount of the meal's tip in U.S. dollars |          \n",
    "|      sex          |      gender of customer                                  |\n",
    "|      smoker       |  \t   boolean to represent if customer smokes or not       |     \n",
    "|      day          |      day of week                                        |                     \n",
    "|      time         |      meal name (Lunch or Dinner)                        |          \n",
    "|      size         |  \t   count of people eating meal                        |\n",
    "\n",
    "https://dfrieds.com/data-analysis/groupby-python-pandas"
   ]
  },
  {
=======
>>>>>>> ac79f396595ef44d04138b76cf8d50e9d55ea8ab
   "cell_type": "markdown",
   "metadata": {},
   "source": [
    "<a name=\"isnull\"></a>\n",
<<<<<<< HEAD
    "<b> C. Null Values </b>\n",
    "\n",
    "Determine if there is any null values in the tips dataset. This confirms there is no null values in the tips dataset."
=======
    "<b> E. Null Values </b>\n",
    "\n",
    "Determine if there is any null values in the dataset. This confirms there is no null values in the tips dataset."
>>>>>>> ac79f396595ef44d04138b76cf8d50e9d55ea8ab
   ]
  },
  {
   "cell_type": "code",
<<<<<<< HEAD
   "execution_count": 22,
=======
   "execution_count": 41,
>>>>>>> ac79f396595ef44d04138b76cf8d50e9d55ea8ab
   "metadata": {},
   "outputs": [
    {
     "name": "stdout",
     "output_type": "stream",
     "text": [
      "Null values present:\n"
     ]
    },
    {
     "data": {
      "text/plain": [
       "total_bill    False\n",
       "tip           False\n",
       "sex           False\n",
       "smoker        False\n",
       "day           False\n",
       "time          False\n",
       "size          False\n",
       "dtype: bool"
      ]
     },
<<<<<<< HEAD
     "execution_count": 22,
=======
     "execution_count": 41,
>>>>>>> ac79f396595ef44d04138b76cf8d50e9d55ea8ab
     "metadata": {},
     "output_type": "execute_result"
    }
   ],
   "source": [
    "# Determine if there is any null values in the dataset\n",
    "print(\"Null values present:\")\n",
    "\n",
    "tips.isnull().any()"
   ]
  },
  {
   "cell_type": "markdown",
   "metadata": {},
   "source": [
    "<a name=\"head\"></a>\n",
<<<<<<< HEAD
    "<b> D. Head of tips dataset: </b>\n",
=======
    "<b> F. Head of tips dataset: </b>\n",
>>>>>>> ac79f396595ef44d04138b76cf8d50e9d55ea8ab
    "\n",
    "The head funtion displays the first 4 rows of the dataframe. A different number of rows can be displayed, if we change the input between the parentheses ()."
   ]
  },
  {
   "cell_type": "code",
<<<<<<< HEAD
   "execution_count": 23,
=======
   "execution_count": 35,
>>>>>>> ac79f396595ef44d04138b76cf8d50e9d55ea8ab
   "metadata": {},
   "outputs": [
    {
     "data": {
      "text/html": [
       "<div>\n",
       "<style scoped>\n",
       "    .dataframe tbody tr th:only-of-type {\n",
       "        vertical-align: middle;\n",
       "    }\n",
       "\n",
       "    .dataframe tbody tr th {\n",
       "        vertical-align: top;\n",
       "    }\n",
       "\n",
       "    .dataframe thead th {\n",
       "        text-align: right;\n",
       "    }\n",
       "</style>\n",
       "<table border=\"1\" class=\"dataframe\">\n",
       "  <thead>\n",
       "    <tr style=\"text-align: right;\">\n",
       "      <th></th>\n",
       "      <th>total_bill</th>\n",
       "      <th>tip</th>\n",
       "      <th>sex</th>\n",
       "      <th>smoker</th>\n",
       "      <th>day</th>\n",
       "      <th>time</th>\n",
       "      <th>size</th>\n",
       "    </tr>\n",
       "  </thead>\n",
       "  <tbody>\n",
       "    <tr>\n",
       "      <th>0</th>\n",
       "      <td>16.99</td>\n",
       "      <td>1.01</td>\n",
       "      <td>Female</td>\n",
       "      <td>No</td>\n",
       "      <td>Sun</td>\n",
       "      <td>Dinner</td>\n",
       "      <td>2</td>\n",
       "    </tr>\n",
       "    <tr>\n",
       "      <th>1</th>\n",
       "      <td>10.34</td>\n",
       "      <td>1.66</td>\n",
       "      <td>Male</td>\n",
       "      <td>No</td>\n",
       "      <td>Sun</td>\n",
       "      <td>Dinner</td>\n",
       "      <td>3</td>\n",
       "    </tr>\n",
       "    <tr>\n",
       "      <th>2</th>\n",
       "      <td>21.01</td>\n",
       "      <td>3.50</td>\n",
       "      <td>Male</td>\n",
       "      <td>No</td>\n",
       "      <td>Sun</td>\n",
       "      <td>Dinner</td>\n",
       "      <td>3</td>\n",
       "    </tr>\n",
       "    <tr>\n",
       "      <th>3</th>\n",
       "      <td>23.68</td>\n",
       "      <td>3.31</td>\n",
       "      <td>Male</td>\n",
       "      <td>No</td>\n",
       "      <td>Sun</td>\n",
       "      <td>Dinner</td>\n",
       "      <td>2</td>\n",
       "    </tr>\n",
       "  </tbody>\n",
       "</table>\n",
       "</div>"
      ],
      "text/plain": [
       "   total_bill   tip     sex smoker  day    time  size\n",
       "0       16.99  1.01  Female     No  Sun  Dinner     2\n",
       "1       10.34  1.66    Male     No  Sun  Dinner     3\n",
       "2       21.01  3.50    Male     No  Sun  Dinner     3\n",
       "3       23.68  3.31    Male     No  Sun  Dinner     2"
      ]
     },
<<<<<<< HEAD
     "execution_count": 23,
=======
     "execution_count": 35,
>>>>>>> ac79f396595ef44d04138b76cf8d50e9d55ea8ab
     "metadata": {},
     "output_type": "execute_result"
    }
   ],
   "source": [
<<<<<<< HEAD
    "# Returns the firt 4 rows of the dataset.\n",
=======
    "# List the top 4 rows of the dataset. This allows us to see the structure \n",
    "# of the dataset with respects the columns\n",
>>>>>>> ac79f396595ef44d04138b76cf8d50e9d55ea8ab
    "\n",
    "tips.head(4)"
   ]
  },
  {
   "cell_type": "markdown",
   "metadata": {},
   "source": [
    "<a name=\"tail\"></a>\n",
<<<<<<< HEAD
    "<b> E. Tail of the tips dataset: </b>\n",
=======
    "<b> G. Tail of the tips dataset: </b>\n",
>>>>>>> ac79f396595ef44d04138b76cf8d50e9d55ea8ab
    "\n",
    "The tail funtion displays the last 4 rows of the dataframe."
   ]
  },
  {
   "cell_type": "code",
<<<<<<< HEAD
   "execution_count": 24,
=======
   "execution_count": 37,
>>>>>>> ac79f396595ef44d04138b76cf8d50e9d55ea8ab
   "metadata": {},
   "outputs": [
    {
     "data": {
      "text/html": [
       "<div>\n",
       "<style scoped>\n",
       "    .dataframe tbody tr th:only-of-type {\n",
       "        vertical-align: middle;\n",
       "    }\n",
       "\n",
       "    .dataframe tbody tr th {\n",
       "        vertical-align: top;\n",
       "    }\n",
       "\n",
       "    .dataframe thead th {\n",
       "        text-align: right;\n",
       "    }\n",
       "</style>\n",
       "<table border=\"1\" class=\"dataframe\">\n",
       "  <thead>\n",
       "    <tr style=\"text-align: right;\">\n",
       "      <th></th>\n",
       "      <th>total_bill</th>\n",
       "      <th>tip</th>\n",
       "      <th>sex</th>\n",
       "      <th>smoker</th>\n",
       "      <th>day</th>\n",
       "      <th>time</th>\n",
       "      <th>size</th>\n",
       "    </tr>\n",
       "  </thead>\n",
       "  <tbody>\n",
       "    <tr>\n",
       "      <th>240</th>\n",
       "      <td>27.18</td>\n",
       "      <td>2.00</td>\n",
       "      <td>Female</td>\n",
       "      <td>Yes</td>\n",
       "      <td>Sat</td>\n",
       "      <td>Dinner</td>\n",
       "      <td>2</td>\n",
       "    </tr>\n",
       "    <tr>\n",
       "      <th>241</th>\n",
       "      <td>22.67</td>\n",
       "      <td>2.00</td>\n",
       "      <td>Male</td>\n",
       "      <td>Yes</td>\n",
       "      <td>Sat</td>\n",
       "      <td>Dinner</td>\n",
       "      <td>2</td>\n",
       "    </tr>\n",
       "    <tr>\n",
       "      <th>242</th>\n",
       "      <td>17.82</td>\n",
       "      <td>1.75</td>\n",
       "      <td>Male</td>\n",
       "      <td>No</td>\n",
       "      <td>Sat</td>\n",
       "      <td>Dinner</td>\n",
       "      <td>2</td>\n",
       "    </tr>\n",
       "    <tr>\n",
       "      <th>243</th>\n",
       "      <td>18.78</td>\n",
       "      <td>3.00</td>\n",
       "      <td>Female</td>\n",
       "      <td>No</td>\n",
       "      <td>Thur</td>\n",
       "      <td>Dinner</td>\n",
       "      <td>2</td>\n",
       "    </tr>\n",
       "  </tbody>\n",
       "</table>\n",
       "</div>"
      ],
      "text/plain": [
       "     total_bill   tip     sex smoker   day    time  size\n",
       "240       27.18  2.00  Female    Yes   Sat  Dinner     2\n",
       "241       22.67  2.00    Male    Yes   Sat  Dinner     2\n",
       "242       17.82  1.75    Male     No   Sat  Dinner     2\n",
       "243       18.78  3.00  Female     No  Thur  Dinner     2"
      ]
     },
<<<<<<< HEAD
     "execution_count": 24,
=======
     "execution_count": 37,
>>>>>>> ac79f396595ef44d04138b76cf8d50e9d55ea8ab
     "metadata": {},
     "output_type": "execute_result"
    }
   ],
   "source": [
<<<<<<< HEAD
    "# Returns the last 4 rows of the dataset.\n",
=======
    "# List the last 4 rows of the dataset. This allows us to see the structure \n",
    "# of the dataset with respects the columns\n",
>>>>>>> ac79f396595ef44d04138b76cf8d50e9d55ea8ab
    "\n",
    "tips.tail(4)"
   ]
  },
  {
<<<<<<< HEAD
   "cell_type": "markdown",
   "metadata": {},
   "source": [
    "### Unique values:"
   ]
  },
  {
   "cell_type": "code",
   "execution_count": 75,
   "metadata": {},
   "outputs": [
    {
     "data": {
      "text/plain": [
       "[Sun, Sat, Thur, Fri]\n",
       "Categories (4, object): [Sun, Sat, Thur, Fri]"
      ]
     },
     "execution_count": 75,
     "metadata": {},
     "output_type": "execute_result"
    }
   ],
   "source": [
    "tips['day'].unique()"
   ]
  },
  {
   "cell_type": "markdown",
   "metadata": {},
   "source": [
    "<a name=\"class\"></a>\n",
    "<b> E. Class Distribution: </b>\n",
    "\n",
    "Class distribution - this can give us a better understanding of the distribution of data in terms of gender, smoker, time and day. Using the group by function can allow us to get a closer look and allow us to answer questions based on the dataset.\n",
    "\n",
    "pandas provides a flexible groupby mechanism that allows similar aggregations.\n"
   ]
  },
  {
   "cell_type": "code",
   "execution_count": 48,
   "metadata": {},
   "outputs": [
    {
     "data": {
      "text/plain": [
       "sex     smoker\n",
       "Male    Yes       60\n",
       "        No        97\n",
       "Female  Yes       33\n",
       "        No        54\n",
       "dtype: int64"
      ]
     },
     "execution_count": 48,
     "metadata": {},
     "output_type": "execute_result"
    }
   ],
   "source": [
    "tips.groupby([\"sex\",'smoker']).size()"
   ]
  },
  {
   "cell_type": "markdown",
   "metadata": {},
   "source": [
    "\n",
    "Another way that you could summarise the above 2 functions.7\n",
    "\n",
    "# Explain pivot and why it is used.\n",
    "\n",
    "\n",
    "The pivot table is a dataframe so it can be copied/saved and all the normal dataframe functions are avaliable.\n"
   ]
  },
  {
   "cell_type": "markdown",
   "metadata": {},
   "source": [
    "### Create a new column to get tip percentage of total bill:\n"
   ]
  },
  {
   "cell_type": "code",
   "execution_count": 36,
   "metadata": {},
   "outputs": [],
   "source": [
    "tips['percent'] = tips['tip'] / tips['total_bill']"
   ]
  },
  {
   "cell_type": "markdown",
   "metadata": {},
   "source": [
    "From the below information we can see how many smokers tiped."
=======
   "cell_type": "code",
   "execution_count": 45,
   "metadata": {},
   "outputs": [],
   "source": [
    "\n",
    "df = pd.DataFrame(tips) # create Pandas data frame"
>>>>>>> ac79f396595ef44d04138b76cf8d50e9d55ea8ab
   ]
  },
  {
   "cell_type": "code",
<<<<<<< HEAD
   "execution_count": 37,
=======
   "execution_count": 46,
>>>>>>> ac79f396595ef44d04138b76cf8d50e9d55ea8ab
   "metadata": {},
   "outputs": [
    {
     "data": {
      "text/html": [
       "<div>\n",
       "<style scoped>\n",
       "    .dataframe tbody tr th:only-of-type {\n",
       "        vertical-align: middle;\n",
       "    }\n",
       "\n",
       "    .dataframe tbody tr th {\n",
       "        vertical-align: top;\n",
       "    }\n",
       "\n",
       "    .dataframe thead th {\n",
       "        text-align: right;\n",
       "    }\n",
       "</style>\n",
       "<table border=\"1\" class=\"dataframe\">\n",
       "  <thead>\n",
       "    <tr style=\"text-align: right;\">\n",
<<<<<<< HEAD
       "      <th>smoker</th>\n",
       "      <th>Yes</th>\n",
       "      <th>No</th>\n",
       "    </tr>\n",
       "    <tr>\n",
       "      <th>sex</th>\n",
       "      <th></th>\n",
       "      <th></th>\n",
=======
       "      <th></th>\n",
       "      <th>total_bill</th>\n",
       "      <th>tip</th>\n",
       "      <th>size</th>\n",
>>>>>>> ac79f396595ef44d04138b76cf8d50e9d55ea8ab
       "    </tr>\n",
       "  </thead>\n",
       "  <tbody>\n",
       "    <tr>\n",
<<<<<<< HEAD
       "      <th>Male</th>\n",
       "      <td>60.0</td>\n",
       "      <td>97.0</td>\n",
       "    </tr>\n",
       "    <tr>\n",
       "      <th>Female</th>\n",
       "      <td>33.0</td>\n",
       "      <td>54.0</td>\n",
=======
       "      <th>count</th>\n",
       "      <td>244.000000</td>\n",
       "      <td>244.000000</td>\n",
       "      <td>244.000000</td>\n",
       "    </tr>\n",
       "    <tr>\n",
       "      <th>mean</th>\n",
       "      <td>19.785943</td>\n",
       "      <td>2.998279</td>\n",
       "      <td>2.569672</td>\n",
       "    </tr>\n",
       "    <tr>\n",
       "      <th>std</th>\n",
       "      <td>8.902412</td>\n",
       "      <td>1.383638</td>\n",
       "      <td>0.951100</td>\n",
       "    </tr>\n",
       "    <tr>\n",
       "      <th>min</th>\n",
       "      <td>3.070000</td>\n",
       "      <td>1.000000</td>\n",
       "      <td>1.000000</td>\n",
       "    </tr>\n",
       "    <tr>\n",
       "      <th>25%</th>\n",
       "      <td>13.347500</td>\n",
       "      <td>2.000000</td>\n",
       "      <td>2.000000</td>\n",
       "    </tr>\n",
       "    <tr>\n",
       "      <th>50%</th>\n",
       "      <td>17.795000</td>\n",
       "      <td>2.900000</td>\n",
       "      <td>2.000000</td>\n",
       "    </tr>\n",
       "    <tr>\n",
       "      <th>75%</th>\n",
       "      <td>24.127500</td>\n",
       "      <td>3.562500</td>\n",
       "      <td>3.000000</td>\n",
       "    </tr>\n",
       "    <tr>\n",
       "      <th>max</th>\n",
       "      <td>50.810000</td>\n",
       "      <td>10.000000</td>\n",
       "      <td>6.000000</td>\n",
>>>>>>> ac79f396595ef44d04138b76cf8d50e9d55ea8ab
       "    </tr>\n",
       "  </tbody>\n",
       "</table>\n",
       "</div>"
      ],
      "text/plain": [
<<<<<<< HEAD
       "smoker   Yes    No\n",
       "sex               \n",
       "Male    60.0  97.0\n",
       "Female  33.0  54.0"
      ]
     },
     "execution_count": 37,
=======
       "       total_bill         tip        size\n",
       "count  244.000000  244.000000  244.000000\n",
       "mean    19.785943    2.998279    2.569672\n",
       "std      8.902412    1.383638    0.951100\n",
       "min      3.070000    1.000000    1.000000\n",
       "25%     13.347500    2.000000    2.000000\n",
       "50%     17.795000    2.900000    2.000000\n",
       "75%     24.127500    3.562500    3.000000\n",
       "max     50.810000   10.000000    6.000000"
      ]
     },
     "execution_count": 46,
>>>>>>> ac79f396595ef44d04138b76cf8d50e9d55ea8ab
     "metadata": {},
     "output_type": "execute_result"
    }
   ],
   "source": [
<<<<<<< HEAD
    "# The normal aggregate function is the mean but other functions can be applied.\n",
    "\n",
    "pd.pivot_table(tips, values='percent', index='sex', columns='smoker', aggfunc=len)"
=======
    "df.describe()"
   ]
  },
  {
   "cell_type": "markdown",
   "metadata": {},
   "source": [
    "<a name=\"class\"></a>\n",
    "<b> E. Class Distribution: </b>\n",
    "\n",
    "Class distribution - number of rows that belong to each species. This shows that data is distributed equally across the 3 species."
>>>>>>> ac79f396595ef44d04138b76cf8d50e9d55ea8ab
   ]
  },
  {
   "cell_type": "code",
<<<<<<< HEAD
   "execution_count": 60,
=======
   "execution_count": 48,
>>>>>>> ac79f396595ef44d04138b76cf8d50e9d55ea8ab
   "metadata": {},
   "outputs": [
    {
     "data": {
<<<<<<< HEAD
      "text/html": [
       "<div>\n",
       "<style scoped>\n",
       "    .dataframe tbody tr th:only-of-type {\n",
       "        vertical-align: middle;\n",
       "    }\n",
       "\n",
       "    .dataframe tbody tr th {\n",
       "        vertical-align: top;\n",
       "    }\n",
       "\n",
       "    .dataframe thead th {\n",
       "        text-align: right;\n",
       "    }\n",
       "</style>\n",
       "<table border=\"1\" class=\"dataframe\">\n",
       "  <thead>\n",
       "    <tr style=\"text-align: right;\">\n",
       "      <th>time</th>\n",
       "      <th>Lunch</th>\n",
       "      <th>Dinner</th>\n",
       "      <th>total</th>\n",
       "    </tr>\n",
       "    <tr>\n",
       "      <th>day</th>\n",
       "      <th></th>\n",
       "      <th></th>\n",
       "      <th></th>\n",
       "    </tr>\n",
       "  </thead>\n",
       "  <tbody>\n",
       "    <tr>\n",
       "      <th>Thur</th>\n",
       "      <td>61</td>\n",
       "      <td>1</td>\n",
       "      <td>62.0</td>\n",
       "    </tr>\n",
       "    <tr>\n",
       "      <th>Fri</th>\n",
       "      <td>7</td>\n",
       "      <td>12</td>\n",
       "      <td>19.0</td>\n",
       "    </tr>\n",
       "    <tr>\n",
       "      <th>Sat</th>\n",
       "      <td>0</td>\n",
       "      <td>87</td>\n",
       "      <td>87.0</td>\n",
       "    </tr>\n",
       "    <tr>\n",
       "      <th>Sun</th>\n",
       "      <td>0</td>\n",
       "      <td>76</td>\n",
       "      <td>76.0</td>\n",
       "    </tr>\n",
       "    <tr>\n",
       "      <th>total</th>\n",
       "      <td>68</td>\n",
       "      <td>176</td>\n",
       "      <td>244.0</td>\n",
       "    </tr>\n",
       "  </tbody>\n",
       "</table>\n",
       "</div>"
      ],
      "text/plain": [
       "time   Lunch  Dinner  total\n",
       "day                        \n",
       "Thur      61       1   62.0\n",
       "Fri        7      12   19.0\n",
       "Sat        0      87   87.0\n",
       "Sun        0      76   76.0\n",
       "total     68     176  244.0"
      ]
     },
     "execution_count": 60,
=======
      "text/plain": [
       "sex\n",
       "Male      157\n",
       "Female     87\n",
       "dtype: int64"
      ]
     },
     "execution_count": 48,
>>>>>>> ac79f396595ef44d04138b76cf8d50e9d55ea8ab
     "metadata": {},
     "output_type": "execute_result"
    }
   ],
   "source": [
<<<<<<< HEAD
    "# https://pbpython.com/pandas-pivot-table-explained.html\n",
    "pd.pivot_table(tips, index='day', columns='time', values='percent',  aggfunc=len, margins=True, margins_name='total', fill_value=0)"
   ]
  },
  {
   "cell_type": "markdown",
   "metadata": {},
   "source": [
    "From the above cell, we can see which days were busier than others i.e. hardest to work based on the number of tables served. If a person worked on Friday there were only 19 but on Saturday there were 87. "
=======
    "tips.groupby(by=\"sex\").size()"
   ]
  },
  {
   "cell_type": "code",
   "execution_count": 56,
   "metadata": {},
   "outputs": [
    {
     "data": {
      "text/plain": [
       "sex\n",
       "Male      3256.82\n",
       "Female    1570.95\n",
       "Name: total_bill, dtype: float64"
      ]
     },
     "execution_count": 56,
     "metadata": {},
     "output_type": "execute_result"
    }
   ],
   "source": [
    "tips.groupby(by='sex')['total_bill'].sum()"
>>>>>>> ac79f396595ef44d04138b76cf8d50e9d55ea8ab
   ]
  },
  {
   "cell_type": "code",
<<<<<<< HEAD
   "execution_count": 74,
   "metadata": {},
   "outputs": [
    {
     "data": {
      "text/html": [
       "<div>\n",
       "<style scoped>\n",
       "    .dataframe tbody tr th:only-of-type {\n",
       "        vertical-align: middle;\n",
       "    }\n",
       "\n",
       "    .dataframe tbody tr th {\n",
       "        vertical-align: top;\n",
       "    }\n",
       "\n",
       "    .dataframe thead th {\n",
       "        text-align: right;\n",
       "    }\n",
       "</style>\n",
       "<table border=\"1\" class=\"dataframe\">\n",
       "  <thead>\n",
       "    <tr style=\"text-align: right;\">\n",
       "      <th></th>\n",
       "      <th>day</th>\n",
       "      <th>time</th>\n",
       "      <th>percent</th>\n",
       "      <th>total_tip</th>\n",
       "      <th>total_bill</th>\n",
       "    </tr>\n",
       "  </thead>\n",
       "  <tbody>\n",
       "    <tr>\n",
       "      <th>0</th>\n",
       "      <td>Thur</td>\n",
       "      <td>Lunch</td>\n",
       "      <td>9.839345</td>\n",
       "      <td>168.83</td>\n",
       "      <td>1077.55</td>\n",
       "    </tr>\n",
       "    <tr>\n",
       "      <th>1</th>\n",
       "      <td>Thur</td>\n",
       "      <td>Dinner</td>\n",
       "      <td>0.159744</td>\n",
       "      <td>3.00</td>\n",
       "      <td>18.78</td>\n",
       "    </tr>\n",
       "    <tr>\n",
       "      <th>2</th>\n",
       "      <td>Fri</td>\n",
       "      <td>Lunch</td>\n",
       "      <td>1.321354</td>\n",
       "      <td>16.68</td>\n",
       "      <td>89.92</td>\n",
       "    </tr>\n",
       "    <tr>\n",
       "      <th>3</th>\n",
       "      <td>Fri</td>\n",
       "      <td>Dinner</td>\n",
       "      <td>1.906993</td>\n",
       "      <td>35.28</td>\n",
       "      <td>235.96</td>\n",
       "    </tr>\n",
       "    <tr>\n",
       "      <th>4</th>\n",
       "      <td>Sat</td>\n",
       "      <td>Dinner</td>\n",
       "      <td>13.324199</td>\n",
       "      <td>260.40</td>\n",
       "      <td>1778.40</td>\n",
       "    </tr>\n",
       "    <tr>\n",
       "      <th>5</th>\n",
       "      <td>Sun</td>\n",
       "      <td>Dinner</td>\n",
       "      <td>12.684194</td>\n",
       "      <td>247.39</td>\n",
       "      <td>1627.16</td>\n",
       "    </tr>\n",
       "    <tr>\n",
       "      <th>6</th>\n",
       "      <td>total</td>\n",
       "      <td></td>\n",
       "      <td>39.235830</td>\n",
       "      <td>731.58</td>\n",
       "      <td>4827.77</td>\n",
       "    </tr>\n",
       "  </tbody>\n",
       "</table>\n",
       "</div>"
      ],
      "text/plain": [
       "     day    time    percent  total_tip  total_bill\n",
       "0   Thur   Lunch   9.839345     168.83     1077.55\n",
       "1   Thur  Dinner   0.159744       3.00       18.78\n",
       "2    Fri   Lunch   1.321354      16.68       89.92\n",
       "3    Fri  Dinner   1.906993      35.28      235.96\n",
       "4    Sat  Dinner  13.324199     260.40     1778.40\n",
       "5    Sun  Dinner  12.684194     247.39     1627.16\n",
       "6  total          39.235830     731.58     4827.77"
      ]
     },
     "execution_count": 74,
     "metadata": {},
     "output_type": "execute_result"
    }
   ],
   "source": [
    "#From this we get a breakdown of tip and bill based on the day and time. Furthermore usin the sum function \n",
    "# we can see the total bill and totsl tip\n",
    "\n",
    "# https://dfrieds.com/data-analysis/pivot-table-python-pandas\n",
    "\n",
    "pd.pivot_table(data=tips, index=['day', 'time'], values=['total_bill', 'tip','percent'], aggfunc='sum', margins=True, margins_name='total', fill_value=0).reset_index().rename(columns={'tip': 'total_tip', 'total_bill': 'total_bill', 'percent': 'percent'})"
   ]
  },
  {
   "cell_type": "code",
   "execution_count": 55,
   "metadata": {},
   "outputs": [
    {
     "data": {
      "text/html": [
       "<div>\n",
       "<style scoped>\n",
       "    .dataframe tbody tr th:only-of-type {\n",
       "        vertical-align: middle;\n",
       "    }\n",
       "\n",
       "    .dataframe tbody tr th {\n",
       "        vertical-align: top;\n",
       "    }\n",
       "\n",
       "    .dataframe thead th {\n",
       "        text-align: right;\n",
       "    }\n",
       "</style>\n",
       "<table border=\"1\" class=\"dataframe\">\n",
       "  <thead>\n",
       "    <tr style=\"text-align: right;\">\n",
       "      <th></th>\n",
       "      <th>total_bill</th>\n",
       "      <th>tip</th>\n",
       "      <th>size</th>\n",
       "    </tr>\n",
       "    <tr>\n",
       "      <th>sex</th>\n",
       "      <th></th>\n",
       "      <th></th>\n",
       "      <th></th>\n",
       "    </tr>\n",
       "  </thead>\n",
       "  <tbody>\n",
       "    <tr>\n",
       "      <th>Male</th>\n",
       "      <td>3256.82</td>\n",
       "      <td>485.07</td>\n",
       "      <td>413</td>\n",
       "    </tr>\n",
       "    <tr>\n",
       "      <th>Female</th>\n",
       "      <td>1570.95</td>\n",
       "      <td>246.51</td>\n",
       "      <td>214</td>\n",
       "    </tr>\n",
       "  </tbody>\n",
       "</table>\n",
       "</div>"
      ],
      "text/plain": [
       "        total_bill     tip  size\n",
       "sex                             \n",
       "Male       3256.82  485.07   413\n",
       "Female     1570.95  246.51   214"
      ]
     },
     "execution_count": 55,
     "metadata": {},
     "output_type": "execute_result"
    }
   ],
   "source": [
    "# This breaks down how much of the total bill corresponds to the gender of the server\n",
    "\n",
    "tips.groupby('sex')['total_bill', 'tip','size'].sum()\n"
   ]
  },
  {
   "cell_type": "code",
   "execution_count": 62,
   "metadata": {},
   "outputs": [
    {
     "data": {
      "text/html": [
       "<div>\n",
       "<style scoped>\n",
       "    .dataframe tbody tr th:only-of-type {\n",
       "        vertical-align: middle;\n",
       "    }\n",
       "\n",
       "    .dataframe tbody tr th {\n",
       "        vertical-align: top;\n",
       "    }\n",
       "\n",
       "    .dataframe thead th {\n",
       "        text-align: right;\n",
       "    }\n",
       "</style>\n",
       "<table border=\"1\" class=\"dataframe\">\n",
       "  <thead>\n",
       "    <tr style=\"text-align: right;\">\n",
       "      <th></th>\n",
       "      <th>smoker</th>\n",
       "      <th>Yes</th>\n",
       "      <th>No</th>\n",
       "    </tr>\n",
       "    <tr>\n",
       "      <th>sex</th>\n",
       "      <th>day</th>\n",
       "      <th></th>\n",
       "      <th></th>\n",
       "    </tr>\n",
       "  </thead>\n",
       "  <tbody>\n",
       "    <tr>\n",
       "      <th rowspan=\"4\" valign=\"top\">Male</th>\n",
       "      <th>Thur</th>\n",
       "      <td>10.0</td>\n",
       "      <td>20.0</td>\n",
       "    </tr>\n",
       "    <tr>\n",
       "      <th>Fri</th>\n",
       "      <td>8.0</td>\n",
       "      <td>2.0</td>\n",
       "    </tr>\n",
       "    <tr>\n",
       "      <th>Sat</th>\n",
       "      <td>27.0</td>\n",
       "      <td>32.0</td>\n",
       "    </tr>\n",
       "    <tr>\n",
       "      <th>Sun</th>\n",
       "      <td>15.0</td>\n",
       "      <td>43.0</td>\n",
       "    </tr>\n",
       "    <tr>\n",
       "      <th rowspan=\"4\" valign=\"top\">Female</th>\n",
       "      <th>Thur</th>\n",
       "      <td>7.0</td>\n",
       "      <td>25.0</td>\n",
       "    </tr>\n",
       "    <tr>\n",
       "      <th>Fri</th>\n",
       "      <td>7.0</td>\n",
       "      <td>2.0</td>\n",
       "    </tr>\n",
       "    <tr>\n",
       "      <th>Sat</th>\n",
       "      <td>15.0</td>\n",
       "      <td>13.0</td>\n",
       "    </tr>\n",
       "    <tr>\n",
       "      <th>Sun</th>\n",
       "      <td>4.0</td>\n",
       "      <td>14.0</td>\n",
       "    </tr>\n",
       "  </tbody>\n",
       "</table>\n",
       "</div>"
      ],
      "text/plain": [
       "smoker        Yes    No\n",
       "sex    day             \n",
       "Male   Thur  10.0  20.0\n",
       "       Fri    8.0   2.0\n",
       "       Sat   27.0  32.0\n",
       "       Sun   15.0  43.0\n",
       "Female Thur   7.0  25.0\n",
       "       Fri    7.0   2.0\n",
       "       Sat   15.0  13.0\n",
       "       Sun    4.0  14.0"
      ]
     },
     "execution_count": 62,
     "metadata": {},
     "output_type": "execute_result"
    }
   ],
   "source": [
    "# https://github.com/sfavorite/pivot_table_python/blob/master/.ipynb_checkpoints/Pandas%20Pivot%20Table-checkpoint.ipynb\n",
    "\n",
    "pd.pivot_table(tips, 'percent', index=['sex', 'day'], columns='smoker', aggfunc=len)"
   ]
  },
  {
   "cell_type": "code",
   "execution_count": 40,
   "metadata": {},
   "outputs": [
    {
     "data": {
      "text/html": [
       "<div>\n",
       "<style scoped>\n",
       "    .dataframe tbody tr th:only-of-type {\n",
       "        vertical-align: middle;\n",
       "    }\n",
       "\n",
       "    .dataframe tbody tr th {\n",
       "        vertical-align: top;\n",
       "    }\n",
       "\n",
       "    .dataframe thead th {\n",
       "        text-align: right;\n",
       "    }\n",
       "</style>\n",
       "<table border=\"1\" class=\"dataframe\">\n",
       "  <thead>\n",
       "    <tr style=\"text-align: right;\">\n",
       "      <th></th>\n",
       "      <th>sex</th>\n",
       "      <th>Male</th>\n",
       "      <th>Female</th>\n",
       "    </tr>\n",
       "    <tr>\n",
       "      <th>day</th>\n",
       "      <th>time</th>\n",
       "      <th></th>\n",
       "      <th></th>\n",
       "    </tr>\n",
       "  </thead>\n",
       "  <tbody>\n",
       "    <tr>\n",
       "      <th rowspan=\"2\" valign=\"top\">Thur</th>\n",
       "      <th>Lunch</th>\n",
       "      <td>0.165276</td>\n",
       "      <td>0.157453</td>\n",
       "    </tr>\n",
       "    <tr>\n",
       "      <th>Dinner</th>\n",
       "      <td>NaN</td>\n",
       "      <td>0.159744</td>\n",
       "    </tr>\n",
       "    <tr>\n",
       "      <th rowspan=\"2\" valign=\"top\">Fri</th>\n",
       "      <th>Lunch</th>\n",
       "      <td>0.174144</td>\n",
       "      <td>0.199731</td>\n",
       "    </tr>\n",
       "    <tr>\n",
       "      <th>Dinner</th>\n",
       "      <td>0.130203</td>\n",
       "      <td>0.199115</td>\n",
       "    </tr>\n",
       "    <tr>\n",
       "      <th>Sat</th>\n",
       "      <th>Dinner</th>\n",
       "      <td>0.151577</td>\n",
       "      <td>0.156470</td>\n",
       "    </tr>\n",
       "    <tr>\n",
       "      <th>Sun</th>\n",
       "      <th>Dinner</th>\n",
       "      <td>0.162344</td>\n",
       "      <td>0.181569</td>\n",
       "    </tr>\n",
       "  </tbody>\n",
       "</table>\n",
       "</div>"
      ],
      "text/plain": [
       "sex              Male    Female\n",
       "day  time                      \n",
       "Thur Lunch   0.165276  0.157453\n",
       "     Dinner       NaN  0.159744\n",
       "Fri  Lunch   0.174144  0.199731\n",
       "     Dinner  0.130203  0.199115\n",
       "Sat  Dinner  0.151577  0.156470\n",
       "Sun  Dinner  0.162344  0.181569"
      ]
     },
     "execution_count": 40,
     "metadata": {},
     "output_type": "execute_result"
    }
   ],
   "source": [
    "# This pivot table has the values still as tip percentage but now the index is the day and time with the columns being the sex of the diner.\n",
    "\n",
    "tips.pivot_table(values='percent', index=['day', 'time'], columns='sex')"
   ]
  },
  {
   "cell_type": "code",
   "execution_count": 39,
   "metadata": {},
   "outputs": [
    {
     "data": {
      "text/html": [
       "<div>\n",
       "<style scoped>\n",
       "    .dataframe tbody tr th:only-of-type {\n",
       "        vertical-align: middle;\n",
       "    }\n",
       "\n",
       "    .dataframe tbody tr th {\n",
       "        vertical-align: top;\n",
       "    }\n",
       "\n",
       "    .dataframe thead th {\n",
       "        text-align: right;\n",
       "    }\n",
       "</style>\n",
       "<table border=\"1\" class=\"dataframe\">\n",
       "  <thead>\n",
       "    <tr style=\"text-align: right;\">\n",
       "      <th>sex</th>\n",
       "      <th>Male</th>\n",
       "      <th>Female</th>\n",
       "    </tr>\n",
       "    <tr>\n",
       "      <th>time</th>\n",
       "      <th></th>\n",
       "      <th></th>\n",
       "    </tr>\n",
       "  </thead>\n",
       "  <tbody>\n",
       "    <tr>\n",
       "      <th>Lunch</th>\n",
       "      <td>0.174144</td>\n",
       "      <td>0.199731</td>\n",
       "    </tr>\n",
       "    <tr>\n",
       "      <th>Dinner</th>\n",
       "      <td>0.130203</td>\n",
       "      <td>0.199115</td>\n",
       "    </tr>\n",
       "  </tbody>\n",
       "</table>\n",
       "</div>"
      ],
      "text/plain": [
       "sex         Male    Female\n",
       "time                      \n",
       "Lunch   0.174144  0.199731\n",
       "Dinner  0.130203  0.199115"
      ]
     },
     "execution_count": 39,
     "metadata": {},
     "output_type": "execute_result"
    }
   ],
   "source": [
    "# The pivot table is a dataframe so it can be copied/saved and all the normal dataframe functions are avaliable.\n",
    "\n",
    "table = tips.pivot_table(values='percent', index=['day', 'time'], columns='sex')\n",
    "table.ix['Fri']"
   ]
  },
  {
   "cell_type": "code",
   "execution_count": 169,
   "metadata": {},
   "outputs": [
    {
     "data": {
      "text/html": [
       "<div>\n",
       "<style scoped>\n",
       "    .dataframe tbody tr th:only-of-type {\n",
       "        vertical-align: middle;\n",
       "    }\n",
       "\n",
       "    .dataframe tbody tr th {\n",
       "        vertical-align: top;\n",
       "    }\n",
       "\n",
       "    .dataframe thead th {\n",
       "        text-align: right;\n",
       "    }\n",
       "</style>\n",
       "<table border=\"1\" class=\"dataframe\">\n",
       "  <thead>\n",
       "    <tr style=\"text-align: right;\">\n",
       "      <th></th>\n",
       "      <th></th>\n",
       "      <th>size</th>\n",
       "      <th>tip_pct</th>\n",
       "    </tr>\n",
       "    <tr>\n",
       "      <th>sex</th>\n",
       "      <th>smoker</th>\n",
       "      <th></th>\n",
       "      <th></th>\n",
       "    </tr>\n",
       "  </thead>\n",
       "  <tbody>\n",
       "    <tr>\n",
       "      <th rowspan=\"2\" valign=\"top\">Male</th>\n",
       "      <th>Yes</th>\n",
       "      <td>150</td>\n",
       "      <td>0.152771</td>\n",
       "    </tr>\n",
       "    <tr>\n",
       "      <th>No</th>\n",
       "      <td>263</td>\n",
       "      <td>0.160669</td>\n",
       "    </tr>\n",
       "    <tr>\n",
       "      <th rowspan=\"2\" valign=\"top\">Female</th>\n",
       "      <th>Yes</th>\n",
       "      <td>74</td>\n",
       "      <td>0.182150</td>\n",
       "    </tr>\n",
       "    <tr>\n",
       "      <th>No</th>\n",
       "      <td>140</td>\n",
       "      <td>0.156921</td>\n",
       "    </tr>\n",
       "  </tbody>\n",
       "</table>\n",
       "</div>"
      ],
      "text/plain": [
       "               size   tip_pct\n",
       "sex    smoker                \n",
       "Male   Yes      150  0.152771\n",
       "       No       263  0.160669\n",
       "Female Yes       74  0.182150\n",
       "       No       140  0.156921"
      ]
     },
     "execution_count": 169,
     "metadata": {},
     "output_type": "execute_result"
    }
   ],
   "source": [
    "# https://github.com/sfavorite/pivot_table_python/blob/master/.ipynb_checkpoints/Pandas%20Pivot%20Table-checkpoint.ipynb\n",
    "\n",
    "# You can also pass a dictionary to the agg function\n",
    "\n",
    "pd.pivot_table(tips, index=['sex', 'smoker'], aggfunc={'tip_pct' : 'mean', 'size' : 'sum'})"
   ]
  },
  {
   "cell_type": "code",
   "execution_count": 134,
   "metadata": {},
   "outputs": [],
   "source": [
    "grouped = tips.groupby(['day', 'smoker'])"
   ]
  },
  {
   "cell_type": "code",
   "execution_count": 135,
   "metadata": {},
   "outputs": [
    {
     "data": {
      "text/plain": [
       "day   smoker\n",
       "Thur  Yes       0.163863\n",
       "      No        0.160298\n",
       "Fri   Yes       0.174783\n",
       "      No        0.151650\n",
       "Sat   Yes       0.147906\n",
       "      No        0.158048\n",
       "Sun   Yes       0.187250\n",
       "      No        0.160113\n",
       "Name: percent, dtype: float64"
      ]
     },
     "execution_count": 135,
     "metadata": {},
     "output_type": "execute_result"
    }
   ],
   "source": [
    "grouped_pct = grouped['percent']\n",
    "grouped_pct.agg('mean')"
   ]
  },
  {
   "cell_type": "code",
   "execution_count": 136,
   "metadata": {},
   "outputs": [
    {
     "data": {
      "text/html": [
       "<div>\n",
       "<style scoped>\n",
       "    .dataframe tbody tr th:only-of-type {\n",
       "        vertical-align: middle;\n",
       "    }\n",
       "\n",
       "    .dataframe tbody tr th {\n",
       "        vertical-align: top;\n",
       "    }\n",
       "\n",
       "    .dataframe thead th {\n",
       "        text-align: right;\n",
       "    }\n",
       "</style>\n",
       "<table border=\"1\" class=\"dataframe\">\n",
       "  <thead>\n",
       "    <tr style=\"text-align: right;\">\n",
       "      <th></th>\n",
       "      <th></th>\n",
       "      <th>percent</th>\n",
       "      <th>size</th>\n",
       "      <th>tip</th>\n",
       "      <th>total_bill</th>\n",
       "    </tr>\n",
       "    <tr>\n",
       "      <th>day</th>\n",
       "      <th>smoker</th>\n",
       "      <th></th>\n",
       "      <th></th>\n",
       "      <th></th>\n",
       "      <th></th>\n",
       "    </tr>\n",
       "  </thead>\n",
       "  <tbody>\n",
       "    <tr>\n",
       "      <th rowspan=\"2\" valign=\"top\">Thur</th>\n",
       "      <th>Yes</th>\n",
       "      <td>0.151240</td>\n",
       "      <td>2</td>\n",
       "      <td>3.00</td>\n",
       "      <td>32.77</td>\n",
       "    </tr>\n",
       "    <tr>\n",
       "      <th>No</th>\n",
       "      <td>0.193350</td>\n",
       "      <td>5</td>\n",
       "      <td>5.45</td>\n",
       "      <td>33.68</td>\n",
       "    </tr>\n",
       "    <tr>\n",
       "      <th rowspan=\"2\" valign=\"top\">Fri</th>\n",
       "      <th>Yes</th>\n",
       "      <td>0.159925</td>\n",
       "      <td>3</td>\n",
       "      <td>3.73</td>\n",
       "      <td>34.42</td>\n",
       "    </tr>\n",
       "    <tr>\n",
       "      <th>No</th>\n",
       "      <td>0.067349</td>\n",
       "      <td>1</td>\n",
       "      <td>2.00</td>\n",
       "      <td>10.29</td>\n",
       "    </tr>\n",
       "    <tr>\n",
       "      <th rowspan=\"2\" valign=\"top\">Sat</th>\n",
       "      <th>Yes</th>\n",
       "      <td>0.290095</td>\n",
       "      <td>4</td>\n",
       "      <td>9.00</td>\n",
       "      <td>47.74</td>\n",
       "    </tr>\n",
       "    <tr>\n",
       "      <th>No</th>\n",
       "      <td>0.235193</td>\n",
       "      <td>3</td>\n",
       "      <td>8.00</td>\n",
       "      <td>41.08</td>\n",
       "    </tr>\n",
       "    <tr>\n",
       "      <th rowspan=\"2\" valign=\"top\">Sun</th>\n",
       "      <th>Yes</th>\n",
       "      <td>0.644685</td>\n",
       "      <td>3</td>\n",
       "      <td>5.00</td>\n",
       "      <td>38.10</td>\n",
       "    </tr>\n",
       "    <tr>\n",
       "      <th>No</th>\n",
       "      <td>0.193226</td>\n",
       "      <td>4</td>\n",
       "      <td>4.99</td>\n",
       "      <td>39.40</td>\n",
       "    </tr>\n",
       "  </tbody>\n",
       "</table>\n",
       "</div>"
      ],
      "text/plain": [
       "              percent  size   tip  total_bill\n",
       "day  smoker                                  \n",
       "Thur Yes     0.151240     2  3.00       32.77\n",
       "     No      0.193350     5  5.45       33.68\n",
       "Fri  Yes     0.159925     3  3.73       34.42\n",
       "     No      0.067349     1  2.00       10.29\n",
       "Sat  Yes     0.290095     4  9.00       47.74\n",
       "     No      0.235193     3  8.00       41.08\n",
       "Sun  Yes     0.644685     3  5.00       38.10\n",
       "     No      0.193226     4  4.99       39.40"
      ]
     },
     "execution_count": 136,
     "metadata": {},
     "output_type": "execute_result"
    }
   ],
   "source": [
    "def peak_to_peak(arr):\n",
    "    return arr.max() - arr.min()\n",
    "grouped.agg(peak_to_peak)"
   ]
  },
  {
   "cell_type": "code",
   "execution_count": 137,
   "metadata": {},
   "outputs": [
    {
     "data": {
      "text/html": [
       "<div>\n",
       "<style scoped>\n",
       "    .dataframe tbody tr th:only-of-type {\n",
       "        vertical-align: middle;\n",
       "    }\n",
       "\n",
       "    .dataframe tbody tr th {\n",
       "        vertical-align: top;\n",
       "    }\n",
       "\n",
       "    .dataframe thead th {\n",
       "        text-align: right;\n",
       "    }\n",
       "</style>\n",
       "<table border=\"1\" class=\"dataframe\">\n",
       "  <thead>\n",
       "    <tr style=\"text-align: right;\">\n",
       "      <th></th>\n",
       "      <th></th>\n",
       "      <th>mean</th>\n",
       "      <th>std</th>\n",
       "      <th>peak_to_peak</th>\n",
       "    </tr>\n",
       "    <tr>\n",
       "      <th>day</th>\n",
       "      <th>smoker</th>\n",
       "      <th></th>\n",
       "      <th></th>\n",
       "      <th></th>\n",
       "    </tr>\n",
       "  </thead>\n",
       "  <tbody>\n",
       "    <tr>\n",
       "      <th rowspan=\"2\" valign=\"top\">Thur</th>\n",
       "      <th>Yes</th>\n",
       "      <td>0.163863</td>\n",
       "      <td>0.039389</td>\n",
       "      <td>0.151240</td>\n",
       "    </tr>\n",
       "    <tr>\n",
       "      <th>No</th>\n",
       "      <td>0.160298</td>\n",
       "      <td>0.038774</td>\n",
       "      <td>0.193350</td>\n",
       "    </tr>\n",
       "    <tr>\n",
       "      <th rowspan=\"2\" valign=\"top\">Fri</th>\n",
       "      <th>Yes</th>\n",
       "      <td>0.174783</td>\n",
       "      <td>0.051293</td>\n",
       "      <td>0.159925</td>\n",
       "    </tr>\n",
       "    <tr>\n",
       "      <th>No</th>\n",
       "      <td>0.151650</td>\n",
       "      <td>0.028123</td>\n",
       "      <td>0.067349</td>\n",
       "    </tr>\n",
       "    <tr>\n",
       "      <th rowspan=\"2\" valign=\"top\">Sat</th>\n",
       "      <th>Yes</th>\n",
       "      <td>0.147906</td>\n",
       "      <td>0.061375</td>\n",
       "      <td>0.290095</td>\n",
       "    </tr>\n",
       "    <tr>\n",
       "      <th>No</th>\n",
       "      <td>0.158048</td>\n",
       "      <td>0.039767</td>\n",
       "      <td>0.235193</td>\n",
       "    </tr>\n",
       "    <tr>\n",
       "      <th rowspan=\"2\" valign=\"top\">Sun</th>\n",
       "      <th>Yes</th>\n",
       "      <td>0.187250</td>\n",
       "      <td>0.154134</td>\n",
       "      <td>0.644685</td>\n",
       "    </tr>\n",
       "    <tr>\n",
       "      <th>No</th>\n",
       "      <td>0.160113</td>\n",
       "      <td>0.042347</td>\n",
       "      <td>0.193226</td>\n",
       "    </tr>\n",
       "  </tbody>\n",
       "</table>\n",
       "</div>"
      ],
      "text/plain": [
       "                 mean       std  peak_to_peak\n",
       "day  smoker                                  \n",
       "Thur Yes     0.163863  0.039389      0.151240\n",
       "     No      0.160298  0.038774      0.193350\n",
       "Fri  Yes     0.174783  0.051293      0.159925\n",
       "     No      0.151650  0.028123      0.067349\n",
       "Sat  Yes     0.147906  0.061375      0.290095\n",
       "     No      0.158048  0.039767      0.235193\n",
       "Sun  Yes     0.187250  0.154134      0.644685\n",
       "     No      0.160113  0.042347      0.193226"
      ]
     },
     "execution_count": 137,
     "metadata": {},
     "output_type": "execute_result"
    }
   ],
   "source": [
    "grouped_pct.agg(['mean', 'std', peak_to_peak])"
   ]
  },
  {
   "cell_type": "code",
   "execution_count": 139,
   "metadata": {},
   "outputs": [
    {
     "data": {
      "text/html": [
       "<div>\n",
       "<style scoped>\n",
       "    .dataframe tbody tr th:only-of-type {\n",
       "        vertical-align: middle;\n",
       "    }\n",
       "\n",
       "    .dataframe tbody tr th {\n",
       "        vertical-align: top;\n",
       "    }\n",
       "\n",
       "    .dataframe thead tr th {\n",
       "        text-align: left;\n",
       "    }\n",
       "\n",
       "    .dataframe thead tr:last-of-type th {\n",
       "        text-align: right;\n",
       "    }\n",
       "</style>\n",
       "<table border=\"1\" class=\"dataframe\">\n",
       "  <thead>\n",
       "    <tr>\n",
       "      <th></th>\n",
       "      <th></th>\n",
       "      <th colspan=\"3\" halign=\"left\">percent</th>\n",
       "      <th colspan=\"3\" halign=\"left\">total_bill</th>\n",
       "    </tr>\n",
       "    <tr>\n",
       "      <th></th>\n",
       "      <th></th>\n",
       "      <th>count</th>\n",
       "      <th>mean</th>\n",
       "      <th>max</th>\n",
       "      <th>count</th>\n",
       "      <th>mean</th>\n",
       "      <th>max</th>\n",
       "    </tr>\n",
       "    <tr>\n",
       "      <th>day</th>\n",
       "      <th>smoker</th>\n",
       "      <th></th>\n",
       "      <th></th>\n",
       "      <th></th>\n",
       "      <th></th>\n",
       "      <th></th>\n",
       "      <th></th>\n",
       "    </tr>\n",
       "  </thead>\n",
       "  <tbody>\n",
       "    <tr>\n",
       "      <th rowspan=\"2\" valign=\"top\">Thur</th>\n",
       "      <th>Yes</th>\n",
       "      <td>17</td>\n",
       "      <td>0.163863</td>\n",
       "      <td>0.241255</td>\n",
       "      <td>17</td>\n",
       "      <td>19.190588</td>\n",
       "      <td>43.11</td>\n",
       "    </tr>\n",
       "    <tr>\n",
       "      <th>No</th>\n",
       "      <td>45</td>\n",
       "      <td>0.160298</td>\n",
       "      <td>0.266312</td>\n",
       "      <td>45</td>\n",
       "      <td>17.113111</td>\n",
       "      <td>41.19</td>\n",
       "    </tr>\n",
       "    <tr>\n",
       "      <th rowspan=\"2\" valign=\"top\">Fri</th>\n",
       "      <th>Yes</th>\n",
       "      <td>15</td>\n",
       "      <td>0.174783</td>\n",
       "      <td>0.263480</td>\n",
       "      <td>15</td>\n",
       "      <td>16.813333</td>\n",
       "      <td>40.17</td>\n",
       "    </tr>\n",
       "    <tr>\n",
       "      <th>No</th>\n",
       "      <td>4</td>\n",
       "      <td>0.151650</td>\n",
       "      <td>0.187735</td>\n",
       "      <td>4</td>\n",
       "      <td>18.420000</td>\n",
       "      <td>22.75</td>\n",
       "    </tr>\n",
       "    <tr>\n",
       "      <th rowspan=\"2\" valign=\"top\">Sat</th>\n",
       "      <th>Yes</th>\n",
       "      <td>42</td>\n",
       "      <td>0.147906</td>\n",
       "      <td>0.325733</td>\n",
       "      <td>42</td>\n",
       "      <td>21.276667</td>\n",
       "      <td>50.81</td>\n",
       "    </tr>\n",
       "    <tr>\n",
       "      <th>No</th>\n",
       "      <td>45</td>\n",
       "      <td>0.158048</td>\n",
       "      <td>0.291990</td>\n",
       "      <td>45</td>\n",
       "      <td>19.661778</td>\n",
       "      <td>48.33</td>\n",
       "    </tr>\n",
       "    <tr>\n",
       "      <th rowspan=\"2\" valign=\"top\">Sun</th>\n",
       "      <th>Yes</th>\n",
       "      <td>19</td>\n",
       "      <td>0.187250</td>\n",
       "      <td>0.710345</td>\n",
       "      <td>19</td>\n",
       "      <td>24.120000</td>\n",
       "      <td>45.35</td>\n",
       "    </tr>\n",
       "    <tr>\n",
       "      <th>No</th>\n",
       "      <td>57</td>\n",
       "      <td>0.160113</td>\n",
       "      <td>0.252672</td>\n",
       "      <td>57</td>\n",
       "      <td>20.506667</td>\n",
       "      <td>48.17</td>\n",
       "    </tr>\n",
       "  </tbody>\n",
       "</table>\n",
       "</div>"
      ],
      "text/plain": [
       "            percent                     total_bill                  \n",
       "              count      mean       max      count       mean    max\n",
       "day  smoker                                                         \n",
       "Thur Yes         17  0.163863  0.241255         17  19.190588  43.11\n",
       "     No          45  0.160298  0.266312         45  17.113111  41.19\n",
       "Fri  Yes         15  0.174783  0.263480         15  16.813333  40.17\n",
       "     No           4  0.151650  0.187735          4  18.420000  22.75\n",
       "Sat  Yes         42  0.147906  0.325733         42  21.276667  50.81\n",
       "     No          45  0.158048  0.291990         45  19.661778  48.33\n",
       "Sun  Yes         19  0.187250  0.710345         19  24.120000  45.35\n",
       "     No          57  0.160113  0.252672         57  20.506667  48.17"
      ]
     },
     "execution_count": 139,
     "metadata": {},
     "output_type": "execute_result"
    }
   ],
   "source": [
    "functions = ['count', 'mean', 'max']\n",
    "result = grouped['percent', 'total_bill'].agg(functions)\n",
    "result"
   ]
  },
  {
   "cell_type": "code",
   "execution_count": 140,
   "metadata": {},
   "outputs": [
    {
     "data": {
      "text/html": [
       "<div>\n",
       "<style scoped>\n",
       "    .dataframe tbody tr th:only-of-type {\n",
       "        vertical-align: middle;\n",
       "    }\n",
       "\n",
       "    .dataframe tbody tr th {\n",
       "        vertical-align: top;\n",
       "    }\n",
       "\n",
       "    .dataframe thead th {\n",
       "        text-align: right;\n",
       "    }\n",
       "</style>\n",
       "<table border=\"1\" class=\"dataframe\">\n",
       "  <thead>\n",
       "    <tr style=\"text-align: right;\">\n",
       "      <th></th>\n",
       "      <th></th>\n",
       "      <th>count</th>\n",
       "      <th>mean</th>\n",
       "      <th>max</th>\n",
       "    </tr>\n",
       "    <tr>\n",
       "      <th>day</th>\n",
       "      <th>smoker</th>\n",
       "      <th></th>\n",
       "      <th></th>\n",
       "      <th></th>\n",
       "    </tr>\n",
       "  </thead>\n",
       "  <tbody>\n",
       "    <tr>\n",
       "      <th rowspan=\"2\" valign=\"top\">Thur</th>\n",
       "      <th>Yes</th>\n",
       "      <td>17</td>\n",
       "      <td>0.163863</td>\n",
       "      <td>0.241255</td>\n",
       "    </tr>\n",
       "    <tr>\n",
       "      <th>No</th>\n",
       "      <td>45</td>\n",
       "      <td>0.160298</td>\n",
       "      <td>0.266312</td>\n",
       "    </tr>\n",
       "    <tr>\n",
       "      <th rowspan=\"2\" valign=\"top\">Fri</th>\n",
       "      <th>Yes</th>\n",
       "      <td>15</td>\n",
       "      <td>0.174783</td>\n",
       "      <td>0.263480</td>\n",
       "    </tr>\n",
       "    <tr>\n",
       "      <th>No</th>\n",
       "      <td>4</td>\n",
       "      <td>0.151650</td>\n",
       "      <td>0.187735</td>\n",
       "    </tr>\n",
       "    <tr>\n",
       "      <th rowspan=\"2\" valign=\"top\">Sat</th>\n",
       "      <th>Yes</th>\n",
       "      <td>42</td>\n",
       "      <td>0.147906</td>\n",
       "      <td>0.325733</td>\n",
       "    </tr>\n",
       "    <tr>\n",
       "      <th>No</th>\n",
       "      <td>45</td>\n",
       "      <td>0.158048</td>\n",
       "      <td>0.291990</td>\n",
       "    </tr>\n",
       "    <tr>\n",
       "      <th rowspan=\"2\" valign=\"top\">Sun</th>\n",
       "      <th>Yes</th>\n",
       "      <td>19</td>\n",
       "      <td>0.187250</td>\n",
       "      <td>0.710345</td>\n",
       "    </tr>\n",
       "    <tr>\n",
       "      <th>No</th>\n",
       "      <td>57</td>\n",
       "      <td>0.160113</td>\n",
       "      <td>0.252672</td>\n",
       "    </tr>\n",
       "  </tbody>\n",
       "</table>\n",
       "</div>"
      ],
      "text/plain": [
       "             count      mean       max\n",
       "day  smoker                           \n",
       "Thur Yes        17  0.163863  0.241255\n",
       "     No         45  0.160298  0.266312\n",
       "Fri  Yes        15  0.174783  0.263480\n",
       "     No          4  0.151650  0.187735\n",
       "Sat  Yes        42  0.147906  0.325733\n",
       "     No         45  0.158048  0.291990\n",
       "Sun  Yes        19  0.187250  0.710345\n",
       "     No         57  0.160113  0.252672"
      ]
     },
     "execution_count": 140,
     "metadata": {},
     "output_type": "execute_result"
    }
   ],
   "source": [
    "result['percent']"
   ]
  },
  {
   "cell_type": "code",
   "execution_count": 142,
   "metadata": {},
   "outputs": [
    {
     "data": {
      "text/html": [
       "<div>\n",
       "<style scoped>\n",
       "    .dataframe tbody tr th:only-of-type {\n",
       "        vertical-align: middle;\n",
       "    }\n",
       "\n",
       "    .dataframe tbody tr th {\n",
       "        vertical-align: top;\n",
       "    }\n",
       "\n",
       "    .dataframe thead tr th {\n",
       "        text-align: left;\n",
       "    }\n",
       "\n",
       "    .dataframe thead tr:last-of-type th {\n",
       "        text-align: right;\n",
       "    }\n",
       "</style>\n",
       "<table border=\"1\" class=\"dataframe\">\n",
       "  <thead>\n",
       "    <tr>\n",
       "      <th></th>\n",
       "      <th></th>\n",
       "      <th colspan=\"2\" halign=\"left\">percent</th>\n",
       "      <th colspan=\"2\" halign=\"left\">total_bill</th>\n",
       "    </tr>\n",
       "    <tr>\n",
       "      <th></th>\n",
       "      <th></th>\n",
       "      <th>Durchschnitt</th>\n",
       "      <th>Abweichung</th>\n",
       "      <th>Durchschnitt</th>\n",
       "      <th>Abweichung</th>\n",
       "    </tr>\n",
       "    <tr>\n",
       "      <th>day</th>\n",
       "      <th>smoker</th>\n",
       "      <th></th>\n",
       "      <th></th>\n",
       "      <th></th>\n",
       "      <th></th>\n",
       "    </tr>\n",
       "  </thead>\n",
       "  <tbody>\n",
       "    <tr>\n",
       "      <th rowspan=\"2\" valign=\"top\">Thur</th>\n",
       "      <th>Yes</th>\n",
       "      <td>0.163863</td>\n",
       "      <td>0.001551</td>\n",
       "      <td>19.190588</td>\n",
       "      <td>69.808518</td>\n",
       "    </tr>\n",
       "    <tr>\n",
       "      <th>No</th>\n",
       "      <td>0.160298</td>\n",
       "      <td>0.001503</td>\n",
       "      <td>17.113111</td>\n",
       "      <td>59.625081</td>\n",
       "    </tr>\n",
       "    <tr>\n",
       "      <th rowspan=\"2\" valign=\"top\">Fri</th>\n",
       "      <th>Yes</th>\n",
       "      <td>0.174783</td>\n",
       "      <td>0.002631</td>\n",
       "      <td>16.813333</td>\n",
       "      <td>82.562438</td>\n",
       "    </tr>\n",
       "    <tr>\n",
       "      <th>No</th>\n",
       "      <td>0.151650</td>\n",
       "      <td>0.000791</td>\n",
       "      <td>18.420000</td>\n",
       "      <td>25.596333</td>\n",
       "    </tr>\n",
       "    <tr>\n",
       "      <th rowspan=\"2\" valign=\"top\">Sat</th>\n",
       "      <th>Yes</th>\n",
       "      <td>0.147906</td>\n",
       "      <td>0.003767</td>\n",
       "      <td>21.276667</td>\n",
       "      <td>101.387535</td>\n",
       "    </tr>\n",
       "    <tr>\n",
       "      <th>No</th>\n",
       "      <td>0.158048</td>\n",
       "      <td>0.001581</td>\n",
       "      <td>19.661778</td>\n",
       "      <td>79.908965</td>\n",
       "    </tr>\n",
       "    <tr>\n",
       "      <th rowspan=\"2\" valign=\"top\">Sun</th>\n",
       "      <th>Yes</th>\n",
       "      <td>0.187250</td>\n",
       "      <td>0.023757</td>\n",
       "      <td>24.120000</td>\n",
       "      <td>109.046044</td>\n",
       "    </tr>\n",
       "    <tr>\n",
       "      <th>No</th>\n",
       "      <td>0.160113</td>\n",
       "      <td>0.001793</td>\n",
       "      <td>20.506667</td>\n",
       "      <td>66.099980</td>\n",
       "    </tr>\n",
       "  </tbody>\n",
       "</table>\n",
       "</div>"
      ],
      "text/plain": [
       "                 percent              total_bill            \n",
       "            Durchschnitt Abweichung Durchschnitt  Abweichung\n",
       "day  smoker                                                 \n",
       "Thur Yes        0.163863   0.001551    19.190588   69.808518\n",
       "     No         0.160298   0.001503    17.113111   59.625081\n",
       "Fri  Yes        0.174783   0.002631    16.813333   82.562438\n",
       "     No         0.151650   0.000791    18.420000   25.596333\n",
       "Sat  Yes        0.147906   0.003767    21.276667  101.387535\n",
       "     No         0.158048   0.001581    19.661778   79.908965\n",
       "Sun  Yes        0.187250   0.023757    24.120000  109.046044\n",
       "     No         0.160113   0.001793    20.506667   66.099980"
      ]
     },
     "execution_count": 142,
     "metadata": {},
     "output_type": "execute_result"
    }
   ],
   "source": [
    "ftuples = [('Durchschnitt', 'mean'), ('Abweichung', np.var)]\n",
    "grouped['percent', 'total_bill'].agg(ftuples)"
   ]
  },
  {
   "cell_type": "code",
   "execution_count": 181,
   "metadata": {},
   "outputs": [
    {
     "data": {
      "text/html": [
       "<div>\n",
       "<style scoped>\n",
       "    .dataframe tbody tr th:only-of-type {\n",
       "        vertical-align: middle;\n",
       "    }\n",
       "\n",
       "    .dataframe tbody tr th {\n",
       "        vertical-align: top;\n",
       "    }\n",
       "\n",
       "    .dataframe thead tr th {\n",
       "        text-align: left;\n",
       "    }\n",
       "\n",
       "    .dataframe thead tr:last-of-type th {\n",
       "        text-align: right;\n",
       "    }\n",
       "</style>\n",
       "<table border=\"1\" class=\"dataframe\">\n",
       "  <thead>\n",
       "    <tr>\n",
       "      <th></th>\n",
       "      <th></th>\n",
       "      <th colspan=\"4\" halign=\"left\">tip_pct</th>\n",
       "      <th>size</th>\n",
       "    </tr>\n",
       "    <tr>\n",
       "      <th></th>\n",
       "      <th></th>\n",
       "      <th>min</th>\n",
       "      <th>max</th>\n",
       "      <th>mean</th>\n",
       "      <th>std</th>\n",
       "      <th>sum</th>\n",
       "    </tr>\n",
       "    <tr>\n",
       "      <th>day</th>\n",
       "      <th>smoker</th>\n",
       "      <th></th>\n",
       "      <th></th>\n",
       "      <th></th>\n",
       "      <th></th>\n",
       "      <th></th>\n",
       "    </tr>\n",
       "  </thead>\n",
       "  <tbody>\n",
       "    <tr>\n",
       "      <th rowspan=\"2\" valign=\"top\">Thur</th>\n",
       "      <th>Yes</th>\n",
       "      <td>0.090014</td>\n",
       "      <td>0.241255</td>\n",
       "      <td>0.163863</td>\n",
       "      <td>0.039389</td>\n",
       "      <td>40</td>\n",
       "    </tr>\n",
       "    <tr>\n",
       "      <th>No</th>\n",
       "      <td>0.072961</td>\n",
       "      <td>0.266312</td>\n",
       "      <td>0.160298</td>\n",
       "      <td>0.038774</td>\n",
       "      <td>112</td>\n",
       "    </tr>\n",
       "    <tr>\n",
       "      <th rowspan=\"2\" valign=\"top\">Fri</th>\n",
       "      <th>Yes</th>\n",
       "      <td>0.103555</td>\n",
       "      <td>0.263480</td>\n",
       "      <td>0.174783</td>\n",
       "      <td>0.051293</td>\n",
       "      <td>31</td>\n",
       "    </tr>\n",
       "    <tr>\n",
       "      <th>No</th>\n",
       "      <td>0.120385</td>\n",
       "      <td>0.187735</td>\n",
       "      <td>0.151650</td>\n",
       "      <td>0.028123</td>\n",
       "      <td>9</td>\n",
       "    </tr>\n",
       "    <tr>\n",
       "      <th rowspan=\"2\" valign=\"top\">Sat</th>\n",
       "      <th>Yes</th>\n",
       "      <td>0.035638</td>\n",
       "      <td>0.325733</td>\n",
       "      <td>0.147906</td>\n",
       "      <td>0.061375</td>\n",
       "      <td>104</td>\n",
       "    </tr>\n",
       "    <tr>\n",
       "      <th>No</th>\n",
       "      <td>0.056797</td>\n",
       "      <td>0.291990</td>\n",
       "      <td>0.158048</td>\n",
       "      <td>0.039767</td>\n",
       "      <td>115</td>\n",
       "    </tr>\n",
       "    <tr>\n",
       "      <th rowspan=\"2\" valign=\"top\">Sun</th>\n",
       "      <th>Yes</th>\n",
       "      <td>0.065660</td>\n",
       "      <td>0.710345</td>\n",
       "      <td>0.187250</td>\n",
       "      <td>0.154134</td>\n",
       "      <td>49</td>\n",
       "    </tr>\n",
       "    <tr>\n",
       "      <th>No</th>\n",
       "      <td>0.059447</td>\n",
       "      <td>0.252672</td>\n",
       "      <td>0.160113</td>\n",
       "      <td>0.042347</td>\n",
       "      <td>167</td>\n",
       "    </tr>\n",
       "  </tbody>\n",
       "</table>\n",
       "</div>"
      ],
      "text/plain": [
       "              tip_pct                               size\n",
       "                  min       max      mean       std  sum\n",
       "day  smoker                                             \n",
       "Thur Yes     0.090014  0.241255  0.163863  0.039389   40\n",
       "     No      0.072961  0.266312  0.160298  0.038774  112\n",
       "Fri  Yes     0.103555  0.263480  0.174783  0.051293   31\n",
       "     No      0.120385  0.187735  0.151650  0.028123    9\n",
       "Sat  Yes     0.035638  0.325733  0.147906  0.061375  104\n",
       "     No      0.056797  0.291990  0.158048  0.039767  115\n",
       "Sun  Yes     0.065660  0.710345  0.187250  0.154134   49\n",
       "     No      0.059447  0.252672  0.160113  0.042347  167"
      ]
     },
     "execution_count": 181,
     "metadata": {},
     "output_type": "execute_result"
    }
   ],
   "source": [
    "grouped.agg({'tip' : np.max, 'size' : 'sum'})\n",
    "grouped.agg({'tip_pct' : ['min', 'max', 'mean', 'std'],\n",
    "             'size' : 'sum'})"
   ]
  },
  {
   "cell_type": "code",
   "execution_count": 182,
   "metadata": {},
   "outputs": [
    {
     "data": {
      "text/html": [
       "<div>\n",
       "<style scoped>\n",
       "    .dataframe tbody tr th:only-of-type {\n",
       "        vertical-align: middle;\n",
       "    }\n",
       "\n",
       "    .dataframe tbody tr th {\n",
       "        vertical-align: top;\n",
       "    }\n",
       "\n",
       "    .dataframe thead th {\n",
       "        text-align: right;\n",
       "    }\n",
       "</style>\n",
       "<table border=\"1\" class=\"dataframe\">\n",
       "  <thead>\n",
       "    <tr style=\"text-align: right;\">\n",
       "      <th></th>\n",
       "      <th>day</th>\n",
       "      <th>smoker</th>\n",
       "      <th>total_bill</th>\n",
       "      <th>tip</th>\n",
       "      <th>size</th>\n",
       "      <th>tip_pct</th>\n",
       "    </tr>\n",
       "  </thead>\n",
       "  <tbody>\n",
       "    <tr>\n",
       "      <th>0</th>\n",
       "      <td>Thur</td>\n",
       "      <td>Yes</td>\n",
       "      <td>19.190588</td>\n",
       "      <td>3.030000</td>\n",
       "      <td>2.352941</td>\n",
       "      <td>0.163863</td>\n",
       "    </tr>\n",
       "    <tr>\n",
       "      <th>1</th>\n",
       "      <td>Thur</td>\n",
       "      <td>No</td>\n",
       "      <td>17.113111</td>\n",
       "      <td>2.673778</td>\n",
       "      <td>2.488889</td>\n",
       "      <td>0.160298</td>\n",
       "    </tr>\n",
       "    <tr>\n",
       "      <th>2</th>\n",
       "      <td>Fri</td>\n",
       "      <td>Yes</td>\n",
       "      <td>16.813333</td>\n",
       "      <td>2.714000</td>\n",
       "      <td>2.066667</td>\n",
       "      <td>0.174783</td>\n",
       "    </tr>\n",
       "    <tr>\n",
       "      <th>3</th>\n",
       "      <td>Fri</td>\n",
       "      <td>No</td>\n",
       "      <td>18.420000</td>\n",
       "      <td>2.812500</td>\n",
       "      <td>2.250000</td>\n",
       "      <td>0.151650</td>\n",
       "    </tr>\n",
       "    <tr>\n",
       "      <th>4</th>\n",
       "      <td>Sat</td>\n",
       "      <td>Yes</td>\n",
       "      <td>21.276667</td>\n",
       "      <td>2.875476</td>\n",
       "      <td>2.476190</td>\n",
       "      <td>0.147906</td>\n",
       "    </tr>\n",
       "    <tr>\n",
       "      <th>5</th>\n",
       "      <td>Sat</td>\n",
       "      <td>No</td>\n",
       "      <td>19.661778</td>\n",
       "      <td>3.102889</td>\n",
       "      <td>2.555556</td>\n",
       "      <td>0.158048</td>\n",
       "    </tr>\n",
       "    <tr>\n",
       "      <th>6</th>\n",
       "      <td>Sun</td>\n",
       "      <td>Yes</td>\n",
       "      <td>24.120000</td>\n",
       "      <td>3.516842</td>\n",
       "      <td>2.578947</td>\n",
       "      <td>0.187250</td>\n",
       "    </tr>\n",
       "    <tr>\n",
       "      <th>7</th>\n",
       "      <td>Sun</td>\n",
       "      <td>No</td>\n",
       "      <td>20.506667</td>\n",
       "      <td>3.167895</td>\n",
       "      <td>2.929825</td>\n",
       "      <td>0.160113</td>\n",
       "    </tr>\n",
       "  </tbody>\n",
       "</table>\n",
       "</div>"
      ],
      "text/plain": [
       "    day smoker  total_bill       tip      size   tip_pct\n",
       "0  Thur    Yes   19.190588  3.030000  2.352941  0.163863\n",
       "1  Thur     No   17.113111  2.673778  2.488889  0.160298\n",
       "2   Fri    Yes   16.813333  2.714000  2.066667  0.174783\n",
       "3   Fri     No   18.420000  2.812500  2.250000  0.151650\n",
       "4   Sat    Yes   21.276667  2.875476  2.476190  0.147906\n",
       "5   Sat     No   19.661778  3.102889  2.555556  0.158048\n",
       "6   Sun    Yes   24.120000  3.516842  2.578947  0.187250\n",
       "7   Sun     No   20.506667  3.167895  2.929825  0.160113"
      ]
     },
     "execution_count": 182,
     "metadata": {},
     "output_type": "execute_result"
    }
   ],
   "source": [
    "tips.groupby(['day', 'smoker'], as_index=False).mean()"
   ]
  },
  {
   "cell_type": "code",
   "execution_count": 185,
   "metadata": {},
   "outputs": [
    {
     "data": {
      "text/html": [
       "<div>\n",
       "<style scoped>\n",
       "    .dataframe tbody tr th:only-of-type {\n",
       "        vertical-align: middle;\n",
       "    }\n",
       "\n",
       "    .dataframe tbody tr th {\n",
       "        vertical-align: top;\n",
       "    }\n",
       "\n",
       "    .dataframe thead th {\n",
       "        text-align: right;\n",
       "    }\n",
       "</style>\n",
       "<table border=\"1\" class=\"dataframe\">\n",
       "  <thead>\n",
       "    <tr style=\"text-align: right;\">\n",
       "      <th></th>\n",
       "      <th></th>\n",
       "      <th></th>\n",
       "      <th>total_bill</th>\n",
       "      <th>tip</th>\n",
       "      <th>sex</th>\n",
       "      <th>smoker</th>\n",
       "      <th>day</th>\n",
       "      <th>time</th>\n",
       "      <th>size</th>\n",
       "      <th>tip_pct</th>\n",
       "    </tr>\n",
       "    <tr>\n",
       "      <th>smoker</th>\n",
       "      <th>day</th>\n",
       "      <th></th>\n",
       "      <th></th>\n",
       "      <th></th>\n",
       "      <th></th>\n",
       "      <th></th>\n",
       "      <th></th>\n",
       "      <th></th>\n",
       "      <th></th>\n",
       "      <th></th>\n",
       "    </tr>\n",
       "  </thead>\n",
       "  <tbody>\n",
       "    <tr>\n",
       "      <th rowspan=\"4\" valign=\"top\">Yes</th>\n",
       "      <th>Thur</th>\n",
       "      <th>197</th>\n",
       "      <td>43.11</td>\n",
       "      <td>5.00</td>\n",
       "      <td>Female</td>\n",
       "      <td>Yes</td>\n",
       "      <td>Thur</td>\n",
       "      <td>Lunch</td>\n",
       "      <td>4</td>\n",
       "      <td>0.115982</td>\n",
       "    </tr>\n",
       "    <tr>\n",
       "      <th>Fri</th>\n",
       "      <th>95</th>\n",
       "      <td>40.17</td>\n",
       "      <td>4.73</td>\n",
       "      <td>Male</td>\n",
       "      <td>Yes</td>\n",
       "      <td>Fri</td>\n",
       "      <td>Dinner</td>\n",
       "      <td>4</td>\n",
       "      <td>0.117750</td>\n",
       "    </tr>\n",
       "    <tr>\n",
       "      <th>Sat</th>\n",
       "      <th>170</th>\n",
       "      <td>50.81</td>\n",
       "      <td>10.00</td>\n",
       "      <td>Male</td>\n",
       "      <td>Yes</td>\n",
       "      <td>Sat</td>\n",
       "      <td>Dinner</td>\n",
       "      <td>3</td>\n",
       "      <td>0.196812</td>\n",
       "    </tr>\n",
       "    <tr>\n",
       "      <th>Sun</th>\n",
       "      <th>182</th>\n",
       "      <td>45.35</td>\n",
       "      <td>3.50</td>\n",
       "      <td>Male</td>\n",
       "      <td>Yes</td>\n",
       "      <td>Sun</td>\n",
       "      <td>Dinner</td>\n",
       "      <td>3</td>\n",
       "      <td>0.077178</td>\n",
       "    </tr>\n",
       "    <tr>\n",
       "      <th rowspan=\"4\" valign=\"top\">No</th>\n",
       "      <th>Thur</th>\n",
       "      <th>142</th>\n",
       "      <td>41.19</td>\n",
       "      <td>5.00</td>\n",
       "      <td>Male</td>\n",
       "      <td>No</td>\n",
       "      <td>Thur</td>\n",
       "      <td>Lunch</td>\n",
       "      <td>5</td>\n",
       "      <td>0.121389</td>\n",
       "    </tr>\n",
       "    <tr>\n",
       "      <th>Fri</th>\n",
       "      <th>94</th>\n",
       "      <td>22.75</td>\n",
       "      <td>3.25</td>\n",
       "      <td>Female</td>\n",
       "      <td>No</td>\n",
       "      <td>Fri</td>\n",
       "      <td>Dinner</td>\n",
       "      <td>2</td>\n",
       "      <td>0.142857</td>\n",
       "    </tr>\n",
       "    <tr>\n",
       "      <th>Sat</th>\n",
       "      <th>212</th>\n",
       "      <td>48.33</td>\n",
       "      <td>9.00</td>\n",
       "      <td>Male</td>\n",
       "      <td>No</td>\n",
       "      <td>Sat</td>\n",
       "      <td>Dinner</td>\n",
       "      <td>4</td>\n",
       "      <td>0.186220</td>\n",
       "    </tr>\n",
       "    <tr>\n",
       "      <th>Sun</th>\n",
       "      <th>156</th>\n",
       "      <td>48.17</td>\n",
       "      <td>5.00</td>\n",
       "      <td>Male</td>\n",
       "      <td>No</td>\n",
       "      <td>Sun</td>\n",
       "      <td>Dinner</td>\n",
       "      <td>6</td>\n",
       "      <td>0.103799</td>\n",
       "    </tr>\n",
       "  </tbody>\n",
       "</table>\n",
       "</div>"
      ],
      "text/plain": [
       "                 total_bill    tip     sex smoker   day    time  size  \\\n",
       "smoker day                                                              \n",
       "Yes    Thur 197       43.11   5.00  Female    Yes  Thur   Lunch     4   \n",
       "       Fri  95        40.17   4.73    Male    Yes   Fri  Dinner     4   \n",
       "       Sat  170       50.81  10.00    Male    Yes   Sat  Dinner     3   \n",
       "       Sun  182       45.35   3.50    Male    Yes   Sun  Dinner     3   \n",
       "No     Thur 142       41.19   5.00    Male     No  Thur   Lunch     5   \n",
       "       Fri  94        22.75   3.25  Female     No   Fri  Dinner     2   \n",
       "       Sat  212       48.33   9.00    Male     No   Sat  Dinner     4   \n",
       "       Sun  156       48.17   5.00    Male     No   Sun  Dinner     6   \n",
       "\n",
       "                  tip_pct  \n",
       "smoker day                 \n",
       "Yes    Thur 197  0.115982  \n",
       "       Fri  95   0.117750  \n",
       "       Sat  170  0.196812  \n",
       "       Sun  182  0.077178  \n",
       "No     Thur 142  0.121389  \n",
       "       Fri  94   0.142857  \n",
       "       Sat  212  0.186220  \n",
       "       Sun  156  0.103799  "
      ]
     },
     "execution_count": 185,
     "metadata": {},
     "output_type": "execute_result"
    }
   ],
   "source": [
    "tips.groupby(['smoker', 'day']).apply(top, n=1, column='total_bill')"
   ]
  },
  {
   "cell_type": "code",
   "execution_count": 187,
   "metadata": {},
   "outputs": [
    {
     "data": {
      "text/html": [
       "<div>\n",
       "<style scoped>\n",
       "    .dataframe tbody tr th:only-of-type {\n",
       "        vertical-align: middle;\n",
       "    }\n",
       "\n",
       "    .dataframe tbody tr th {\n",
       "        vertical-align: top;\n",
       "    }\n",
       "\n",
       "    .dataframe thead th {\n",
       "        text-align: right;\n",
       "    }\n",
       "</style>\n",
       "<table border=\"1\" class=\"dataframe\">\n",
       "  <thead>\n",
       "    <tr style=\"text-align: right;\">\n",
       "      <th></th>\n",
       "      <th>total_bill</th>\n",
       "      <th>tip</th>\n",
       "      <th>sex</th>\n",
       "      <th>smoker</th>\n",
       "      <th>day</th>\n",
       "      <th>time</th>\n",
       "      <th>size</th>\n",
       "      <th>tip_pct</th>\n",
       "    </tr>\n",
       "  </thead>\n",
       "  <tbody>\n",
       "    <tr>\n",
       "      <th>109</th>\n",
       "      <td>14.31</td>\n",
       "      <td>4.00</td>\n",
       "      <td>Female</td>\n",
       "      <td>Yes</td>\n",
       "      <td>Sat</td>\n",
       "      <td>Dinner</td>\n",
       "      <td>2</td>\n",
       "      <td>0.279525</td>\n",
       "    </tr>\n",
       "    <tr>\n",
       "      <th>183</th>\n",
       "      <td>23.17</td>\n",
       "      <td>6.50</td>\n",
       "      <td>Male</td>\n",
       "      <td>Yes</td>\n",
       "      <td>Sun</td>\n",
       "      <td>Dinner</td>\n",
       "      <td>4</td>\n",
       "      <td>0.280535</td>\n",
       "    </tr>\n",
       "    <tr>\n",
       "      <th>67</th>\n",
       "      <td>3.07</td>\n",
       "      <td>1.00</td>\n",
       "      <td>Female</td>\n",
       "      <td>Yes</td>\n",
       "      <td>Sat</td>\n",
       "      <td>Dinner</td>\n",
       "      <td>1</td>\n",
       "      <td>0.325733</td>\n",
       "    </tr>\n",
       "    <tr>\n",
       "      <th>178</th>\n",
       "      <td>9.60</td>\n",
       "      <td>4.00</td>\n",
       "      <td>Female</td>\n",
       "      <td>Yes</td>\n",
       "      <td>Sun</td>\n",
       "      <td>Dinner</td>\n",
       "      <td>2</td>\n",
       "      <td>0.416667</td>\n",
       "    </tr>\n",
       "    <tr>\n",
       "      <th>172</th>\n",
       "      <td>7.25</td>\n",
       "      <td>5.15</td>\n",
       "      <td>Male</td>\n",
       "      <td>Yes</td>\n",
       "      <td>Sun</td>\n",
       "      <td>Dinner</td>\n",
       "      <td>2</td>\n",
       "      <td>0.710345</td>\n",
       "    </tr>\n",
       "    <tr>\n",
       "      <th>88</th>\n",
       "      <td>24.71</td>\n",
       "      <td>5.85</td>\n",
       "      <td>Male</td>\n",
       "      <td>No</td>\n",
       "      <td>Thur</td>\n",
       "      <td>Lunch</td>\n",
       "      <td>2</td>\n",
       "      <td>0.236746</td>\n",
       "    </tr>\n",
       "    <tr>\n",
       "      <th>185</th>\n",
       "      <td>20.69</td>\n",
       "      <td>5.00</td>\n",
       "      <td>Male</td>\n",
       "      <td>No</td>\n",
       "      <td>Sun</td>\n",
       "      <td>Dinner</td>\n",
       "      <td>5</td>\n",
       "      <td>0.241663</td>\n",
       "    </tr>\n",
       "    <tr>\n",
       "      <th>51</th>\n",
       "      <td>10.29</td>\n",
       "      <td>2.60</td>\n",
       "      <td>Female</td>\n",
       "      <td>No</td>\n",
       "      <td>Sun</td>\n",
       "      <td>Dinner</td>\n",
       "      <td>2</td>\n",
       "      <td>0.252672</td>\n",
       "    </tr>\n",
       "    <tr>\n",
       "      <th>149</th>\n",
       "      <td>7.51</td>\n",
       "      <td>2.00</td>\n",
       "      <td>Male</td>\n",
       "      <td>No</td>\n",
       "      <td>Thur</td>\n",
       "      <td>Lunch</td>\n",
       "      <td>2</td>\n",
       "      <td>0.266312</td>\n",
       "    </tr>\n",
       "    <tr>\n",
       "      <th>232</th>\n",
       "      <td>11.61</td>\n",
       "      <td>3.39</td>\n",
       "      <td>Male</td>\n",
       "      <td>No</td>\n",
       "      <td>Sat</td>\n",
       "      <td>Dinner</td>\n",
       "      <td>2</td>\n",
       "      <td>0.291990</td>\n",
       "    </tr>\n",
       "  </tbody>\n",
       "</table>\n",
       "</div>"
      ],
      "text/plain": [
       "     total_bill   tip     sex smoker   day    time  size   tip_pct\n",
       "109       14.31  4.00  Female    Yes   Sat  Dinner     2  0.279525\n",
       "183       23.17  6.50    Male    Yes   Sun  Dinner     4  0.280535\n",
       "67         3.07  1.00  Female    Yes   Sat  Dinner     1  0.325733\n",
       "178        9.60  4.00  Female    Yes   Sun  Dinner     2  0.416667\n",
       "172        7.25  5.15    Male    Yes   Sun  Dinner     2  0.710345\n",
       "88        24.71  5.85    Male     No  Thur   Lunch     2  0.236746\n",
       "185       20.69  5.00    Male     No   Sun  Dinner     5  0.241663\n",
       "51        10.29  2.60  Female     No   Sun  Dinner     2  0.252672\n",
       "149        7.51  2.00    Male     No  Thur   Lunch     2  0.266312\n",
       "232       11.61  3.39    Male     No   Sat  Dinner     2  0.291990"
      ]
     },
     "execution_count": 187,
     "metadata": {},
     "output_type": "execute_result"
    }
   ],
   "source": [
    "tips.groupby('smoker', group_keys=False).apply(top)"
   ]
  },
  {
   "cell_type": "markdown",
   "metadata": {},
   "source": [
    "### Statistical Analysis:"
   ]
  },
  {
   "cell_type": "code",
   "execution_count": 132,
   "metadata": {},
   "outputs": [
    {
     "name": "stdout",
     "output_type": "stream",
     "text": [
      "The mean of tip is          : $ 3.00\n",
      "The mean of total bill is   : $19.79 \n",
      "\n",
      "The median tip is           : $ 2.90\n",
      "The median total bill is    : $17.80 \n",
      "\n",
      "The minimum tip is          : $ 1.00\n",
      "The minimum total bill is   : $ 3.07 \n",
      "\n",
      "The maximum total bill is   : $50.81\n",
      "The maximum tip is          : $10.00 \n",
      "\n",
      "The mode of tip is          : 2.0\n",
      "The mode of total bill is   : 13.42\n"
     ]
    }
   ],
   "source": [
    "# https://buildmedia.readthedocs.org/media/pdf/data-and-design/latest/data-and-design.pdf\n",
    "\n",
    "# Mean / Average  of the tips column\n",
    "mean_tip = tips[\"tip\"].mean()\n",
    "\n",
    "# Mean / Average of the total_bill column\n",
    "mean_total_bill = tips[\"total_bill\"].mean()\n",
    "\n",
    "# Median of the tips column\n",
    "median_tip = tips[\"tip\"].median()\n",
    "\n",
    "# Median of the total_bill column\n",
    "median_total_bill = tips[\"total_bill\"].median()\n",
    "\n",
    "# Minimum/ Lowest tip price\n",
    "min_tip_price = min(tips[\"tip\"])\n",
    "\n",
    "# Minimum/ Lowest total bill price\n",
    "min_total_bill_price = min(tips[\"total_bill\"])\n",
    "\n",
    "# Max tip price\n",
    "max_tip_price = max(tips[\"tip\"])\n",
    "    \n",
    "# Max total tip price\n",
    "max_total_bill_price = max(tips[\"total_bill\"])\n",
    "\n",
    "# Mode of the tips column\n",
    "mode_tip = tips[\"tip\"].mode()\n",
    "\n",
    "# Mode of the total_bill column\n",
    "mode_total_bill = tips[\"total_bill\"].mode()\n",
    "\n",
    "print (\"The mean of tip is          : $ {:.2f}\".format(mean_tip))\n",
    "print (\"The mean of total bill is   : ${:.2f}\".format(mean_total_bill),\"\\n\")\n",
    "\n",
    "print (\"The median tip is           : $ {:.2f}\".format(median_tip))\n",
    "print (\"The median total bill is    : ${:.2f}\".format(median_total_bill),\"\\n\")\n",
    "       \n",
    "print (\"The minimum tip is          : $ {:.2f}\".format(min_tip_price))\n",
    "print (\"The minimum total bill is   : $ {:.2f}\".format(min_total_bill_price),\"\\n\")\n",
    "\n",
    "print (\"The maximum total bill is   : ${:.2f}\".format(max_total_bill_price))\n",
    "print (\"The maximum tip is          : ${:.2f}\".format(max_tip_price),\"\\n\")\n",
    "\n",
    "# Using [0] removed displaying the datatype(float) so it is better when viewingS. \n",
    "print (\"The mode of tip is          :\", (mode_tip[0]))\n",
    "print (\"The mode of total bill is   :\", (mode_total_bill[0]))"
   ]
  },
  {
   "cell_type": "code",
   "execution_count": 82,
   "metadata": {},
   "outputs": [
    {
     "data": {
      "text/html": [
       "<div>\n",
       "<style scoped>\n",
       "    .dataframe tbody tr th:only-of-type {\n",
       "        vertical-align: middle;\n",
       "    }\n",
       "\n",
       "    .dataframe tbody tr th {\n",
       "        vertical-align: top;\n",
       "    }\n",
       "\n",
       "    .dataframe thead th {\n",
       "        text-align: right;\n",
       "    }\n",
       "</style>\n",
       "<table border=\"1\" class=\"dataframe\">\n",
       "  <thead>\n",
       "    <tr style=\"text-align: right;\">\n",
       "      <th></th>\n",
       "      <th>total_bill</th>\n",
       "      <th>tip</th>\n",
       "      <th>size</th>\n",
       "      <th>percent</th>\n",
       "    </tr>\n",
       "    <tr>\n",
       "      <th>sex</th>\n",
       "      <th></th>\n",
       "      <th></th>\n",
       "      <th></th>\n",
       "      <th></th>\n",
       "    </tr>\n",
       "  </thead>\n",
       "  <tbody>\n",
       "    <tr>\n",
       "      <th>Male</th>\n",
       "      <td>20.744076</td>\n",
       "      <td>3.089618</td>\n",
       "      <td>2.630573</td>\n",
       "      <td>0.157651</td>\n",
       "    </tr>\n",
       "    <tr>\n",
       "      <th>Female</th>\n",
       "      <td>18.056897</td>\n",
       "      <td>2.833448</td>\n",
       "      <td>2.459770</td>\n",
       "      <td>0.166491</td>\n",
       "    </tr>\n",
       "  </tbody>\n",
       "</table>\n",
       "</div>"
      ],
      "text/plain": [
       "        total_bill       tip      size   percent\n",
       "sex                                             \n",
       "Male     20.744076  3.089618  2.630573  0.157651\n",
       "Female   18.056897  2.833448  2.459770  0.166491"
      ]
     },
     "execution_count": 82,
     "metadata": {},
     "output_type": "execute_result"
    }
   ],
   "source": [
    "tips.groupby(by='sex').mean()"
   ]
  },
  {
   "cell_type": "markdown",
   "metadata": {},
   "source": [
    "### To summarise the data for tips overall dataset"
   ]
  },
  {
   "cell_type": "code",
   "execution_count": 257,
   "metadata": {},
   "outputs": [
    {
     "data": {
      "text/html": [
       "<div>\n",
       "<style scoped>\n",
       "    .dataframe tbody tr th:only-of-type {\n",
       "        vertical-align: middle;\n",
       "    }\n",
       "\n",
       "    .dataframe tbody tr th {\n",
       "        vertical-align: top;\n",
       "    }\n",
       "\n",
       "    .dataframe thead th {\n",
       "        text-align: right;\n",
       "    }\n",
       "</style>\n",
       "<table border=\"1\" class=\"dataframe\">\n",
       "  <thead>\n",
       "    <tr style=\"text-align: right;\">\n",
       "      <th></th>\n",
       "      <th>count</th>\n",
       "      <th>mean</th>\n",
       "      <th>std</th>\n",
       "      <th>min</th>\n",
       "      <th>25%</th>\n",
       "      <th>50%</th>\n",
       "      <th>75%</th>\n",
       "      <th>max</th>\n",
       "    </tr>\n",
       "  </thead>\n",
       "  <tbody>\n",
       "    <tr>\n",
       "      <th>total_bill</th>\n",
       "      <td>244.0</td>\n",
       "      <td>19.79</td>\n",
       "      <td>8.90</td>\n",
       "      <td>3.07</td>\n",
       "      <td>13.35</td>\n",
       "      <td>17.8</td>\n",
       "      <td>24.13</td>\n",
       "      <td>50.81</td>\n",
       "    </tr>\n",
       "    <tr>\n",
       "      <th>tip</th>\n",
       "      <td>244.0</td>\n",
       "      <td>3.00</td>\n",
       "      <td>1.38</td>\n",
       "      <td>1.00</td>\n",
       "      <td>2.00</td>\n",
       "      <td>2.9</td>\n",
       "      <td>3.56</td>\n",
       "      <td>10.00</td>\n",
       "    </tr>\n",
       "    <tr>\n",
       "      <th>size</th>\n",
       "      <td>244.0</td>\n",
       "      <td>2.57</td>\n",
       "      <td>0.95</td>\n",
       "      <td>1.00</td>\n",
       "      <td>2.00</td>\n",
       "      <td>2.0</td>\n",
       "      <td>3.00</td>\n",
       "      <td>6.00</td>\n",
       "    </tr>\n",
       "  </tbody>\n",
       "</table>\n",
       "</div>"
      ],
      "text/plain": [
       "            count   mean   std   min    25%   50%    75%    max\n",
       "total_bill  244.0  19.79  8.90  3.07  13.35  17.8  24.13  50.81\n",
       "tip         244.0   3.00  1.38  1.00   2.00   2.9   3.56  10.00\n",
       "size        244.0   2.57  0.95  1.00   2.00   2.0   3.00   6.00"
      ]
     },
     "execution_count": 257,
     "metadata": {},
     "output_type": "execute_result"
    }
   ],
   "source": [
    "# Gives statistical summary of the overall tips dataset\n",
    "\n",
    "round(tips.describe().T, 2)"
   ]
  },
  {
   "cell_type": "code",
   "execution_count": 267,
   "metadata": {},
   "outputs": [
    {
     "data": {
      "text/plain": [
       "total_bill    4827.77\n",
       "tip            731.58\n",
       "percent        321.41\n",
       "dtype: float64"
      ]
     },
     "execution_count": 267,
     "metadata": {},
     "output_type": "execute_result"
    }
   ],
   "source": [
    "# Sum numerical columns only\n",
    "round(df.sum(axis = 0, skipna = True, numeric_only = True), 2)"
   ]
  },
  {
   "cell_type": "code",
   "execution_count": 233,
   "metadata": {},
   "outputs": [
    {
     "data": {
      "text/html": [
       "<div>\n",
       "<style scoped>\n",
       "    .dataframe tbody tr th:only-of-type {\n",
       "        vertical-align: middle;\n",
       "    }\n",
       "\n",
       "    .dataframe tbody tr th {\n",
       "        vertical-align: top;\n",
       "    }\n",
       "\n",
       "    .dataframe thead th {\n",
       "        text-align: right;\n",
       "    }\n",
       "</style>\n",
       "<table border=\"1\" class=\"dataframe\">\n",
       "  <thead>\n",
       "    <tr style=\"text-align: right;\">\n",
       "      <th></th>\n",
       "      <th>count</th>\n",
       "      <th>mean</th>\n",
       "      <th>std</th>\n",
       "      <th>min</th>\n",
       "      <th>25%</th>\n",
       "      <th>50%</th>\n",
       "      <th>75%</th>\n",
       "      <th>max</th>\n",
       "    </tr>\n",
       "    <tr>\n",
       "      <th>smoker</th>\n",
       "      <th></th>\n",
       "      <th></th>\n",
       "      <th></th>\n",
       "      <th></th>\n",
       "      <th></th>\n",
       "      <th></th>\n",
       "      <th></th>\n",
       "      <th></th>\n",
       "    </tr>\n",
       "  </thead>\n",
       "  <tbody>\n",
       "    <tr>\n",
       "      <th>Yes</th>\n",
       "      <td>93.0</td>\n",
       "      <td>3.008710</td>\n",
       "      <td>1.401468</td>\n",
       "      <td>1.0</td>\n",
       "      <td>2.0</td>\n",
       "      <td>3.00</td>\n",
       "      <td>3.680</td>\n",
       "      <td>10.0</td>\n",
       "    </tr>\n",
       "    <tr>\n",
       "      <th>No</th>\n",
       "      <td>151.0</td>\n",
       "      <td>2.991854</td>\n",
       "      <td>1.377190</td>\n",
       "      <td>1.0</td>\n",
       "      <td>2.0</td>\n",
       "      <td>2.74</td>\n",
       "      <td>3.505</td>\n",
       "      <td>9.0</td>\n",
       "    </tr>\n",
       "  </tbody>\n",
       "</table>\n",
       "</div>"
      ],
      "text/plain": [
       "        count      mean       std  min  25%   50%    75%   max\n",
       "smoker                                                        \n",
       "Yes      93.0  3.008710  1.401468  1.0  2.0  3.00  3.680  10.0\n",
       "No      151.0  2.991854  1.377190  1.0  2.0  2.74  3.505   9.0"
      ]
     },
     "execution_count": 233,
     "metadata": {},
     "output_type": "execute_result"
    }
   ],
   "source": [
    "\n",
    "tips.pivot(columns='smoker', values='tip').describe().T"
   ]
  },
  {
   "cell_type": "code",
   "execution_count": 210,
   "metadata": {},
   "outputs": [
    {
     "data": {
      "text/html": [
       "<div>\n",
       "<style scoped>\n",
       "    .dataframe tbody tr th:only-of-type {\n",
       "        vertical-align: middle;\n",
       "    }\n",
       "\n",
       "    .dataframe tbody tr th {\n",
       "        vertical-align: top;\n",
       "    }\n",
       "\n",
       "    .dataframe thead tr th {\n",
       "        text-align: left;\n",
       "    }\n",
       "\n",
       "    .dataframe thead tr:last-of-type th {\n",
       "        text-align: right;\n",
       "    }\n",
       "</style>\n",
       "<table border=\"1\" class=\"dataframe\">\n",
       "  <thead>\n",
       "    <tr>\n",
       "      <th></th>\n",
       "      <th></th>\n",
       "      <th colspan=\"8\" halign=\"left\">size</th>\n",
       "      <th colspan=\"2\" halign=\"left\">tip</th>\n",
       "      <th>...</th>\n",
       "      <th colspan=\"2\" halign=\"left\">tip_pct</th>\n",
       "      <th colspan=\"8\" halign=\"left\">total_bill</th>\n",
       "    </tr>\n",
       "    <tr>\n",
       "      <th></th>\n",
       "      <th></th>\n",
       "      <th>count</th>\n",
       "      <th>mean</th>\n",
       "      <th>std</th>\n",
       "      <th>min</th>\n",
       "      <th>25%</th>\n",
       "      <th>50%</th>\n",
       "      <th>75%</th>\n",
       "      <th>max</th>\n",
       "      <th>count</th>\n",
       "      <th>mean</th>\n",
       "      <th>...</th>\n",
       "      <th>75%</th>\n",
       "      <th>max</th>\n",
       "      <th>count</th>\n",
       "      <th>mean</th>\n",
       "      <th>std</th>\n",
       "      <th>min</th>\n",
       "      <th>25%</th>\n",
       "      <th>50%</th>\n",
       "      <th>75%</th>\n",
       "      <th>max</th>\n",
       "    </tr>\n",
       "    <tr>\n",
       "      <th>day</th>\n",
       "      <th>time</th>\n",
       "      <th></th>\n",
       "      <th></th>\n",
       "      <th></th>\n",
       "      <th></th>\n",
       "      <th></th>\n",
       "      <th></th>\n",
       "      <th></th>\n",
       "      <th></th>\n",
       "      <th></th>\n",
       "      <th></th>\n",
       "      <th></th>\n",
       "      <th></th>\n",
       "      <th></th>\n",
       "      <th></th>\n",
       "      <th></th>\n",
       "      <th></th>\n",
       "      <th></th>\n",
       "      <th></th>\n",
       "      <th></th>\n",
       "      <th></th>\n",
       "      <th></th>\n",
       "    </tr>\n",
       "  </thead>\n",
       "  <tbody>\n",
       "    <tr>\n",
       "      <th rowspan=\"2\" valign=\"top\">Thur</th>\n",
       "      <th>Lunch</th>\n",
       "      <td>61.0</td>\n",
       "      <td>2.459016</td>\n",
       "      <td>1.073526</td>\n",
       "      <td>1.0</td>\n",
       "      <td>2.0</td>\n",
       "      <td>2.0</td>\n",
       "      <td>2.0</td>\n",
       "      <td>6.0</td>\n",
       "      <td>61.0</td>\n",
       "      <td>2.767705</td>\n",
       "      <td>...</td>\n",
       "      <td>0.193424</td>\n",
       "      <td>0.266312</td>\n",
       "      <td>61.0</td>\n",
       "      <td>17.664754</td>\n",
       "      <td>7.950334</td>\n",
       "      <td>7.51</td>\n",
       "      <td>12.4300</td>\n",
       "      <td>16.000</td>\n",
       "      <td>20.2700</td>\n",
       "      <td>43.11</td>\n",
       "    </tr>\n",
       "    <tr>\n",
       "      <th>Dinner</th>\n",
       "      <td>1.0</td>\n",
       "      <td>2.000000</td>\n",
       "      <td>NaN</td>\n",
       "      <td>2.0</td>\n",
       "      <td>2.0</td>\n",
       "      <td>2.0</td>\n",
       "      <td>2.0</td>\n",
       "      <td>2.0</td>\n",
       "      <td>1.0</td>\n",
       "      <td>3.000000</td>\n",
       "      <td>...</td>\n",
       "      <td>0.159744</td>\n",
       "      <td>0.159744</td>\n",
       "      <td>1.0</td>\n",
       "      <td>18.780000</td>\n",
       "      <td>NaN</td>\n",
       "      <td>18.78</td>\n",
       "      <td>18.7800</td>\n",
       "      <td>18.780</td>\n",
       "      <td>18.7800</td>\n",
       "      <td>18.78</td>\n",
       "    </tr>\n",
       "    <tr>\n",
       "      <th rowspan=\"2\" valign=\"top\">Fri</th>\n",
       "      <th>Lunch</th>\n",
       "      <td>7.0</td>\n",
       "      <td>2.000000</td>\n",
       "      <td>0.577350</td>\n",
       "      <td>1.0</td>\n",
       "      <td>2.0</td>\n",
       "      <td>2.0</td>\n",
       "      <td>2.0</td>\n",
       "      <td>3.0</td>\n",
       "      <td>7.0</td>\n",
       "      <td>2.382857</td>\n",
       "      <td>...</td>\n",
       "      <td>0.210996</td>\n",
       "      <td>0.259314</td>\n",
       "      <td>7.0</td>\n",
       "      <td>12.845714</td>\n",
       "      <td>2.842228</td>\n",
       "      <td>8.58</td>\n",
       "      <td>11.1250</td>\n",
       "      <td>13.420</td>\n",
       "      <td>14.7000</td>\n",
       "      <td>16.27</td>\n",
       "    </tr>\n",
       "    <tr>\n",
       "      <th>Dinner</th>\n",
       "      <td>12.0</td>\n",
       "      <td>2.166667</td>\n",
       "      <td>0.577350</td>\n",
       "      <td>2.0</td>\n",
       "      <td>2.0</td>\n",
       "      <td>2.0</td>\n",
       "      <td>2.0</td>\n",
       "      <td>4.0</td>\n",
       "      <td>12.0</td>\n",
       "      <td>2.940000</td>\n",
       "      <td>...</td>\n",
       "      <td>0.179199</td>\n",
       "      <td>0.263480</td>\n",
       "      <td>12.0</td>\n",
       "      <td>19.663333</td>\n",
       "      <td>9.471753</td>\n",
       "      <td>5.75</td>\n",
       "      <td>12.3525</td>\n",
       "      <td>18.665</td>\n",
       "      <td>23.8825</td>\n",
       "      <td>40.17</td>\n",
       "    </tr>\n",
       "    <tr>\n",
       "      <th>Sat</th>\n",
       "      <th>Dinner</th>\n",
       "      <td>87.0</td>\n",
       "      <td>2.517241</td>\n",
       "      <td>0.819275</td>\n",
       "      <td>1.0</td>\n",
       "      <td>2.0</td>\n",
       "      <td>2.0</td>\n",
       "      <td>3.0</td>\n",
       "      <td>5.0</td>\n",
       "      <td>87.0</td>\n",
       "      <td>2.993103</td>\n",
       "      <td>...</td>\n",
       "      <td>0.188271</td>\n",
       "      <td>0.325733</td>\n",
       "      <td>87.0</td>\n",
       "      <td>20.441379</td>\n",
       "      <td>9.480419</td>\n",
       "      <td>3.07</td>\n",
       "      <td>13.9050</td>\n",
       "      <td>18.240</td>\n",
       "      <td>24.7400</td>\n",
       "      <td>50.81</td>\n",
       "    </tr>\n",
       "    <tr>\n",
       "      <th>Sun</th>\n",
       "      <th>Dinner</th>\n",
       "      <td>76.0</td>\n",
       "      <td>2.842105</td>\n",
       "      <td>1.007341</td>\n",
       "      <td>2.0</td>\n",
       "      <td>2.0</td>\n",
       "      <td>2.0</td>\n",
       "      <td>4.0</td>\n",
       "      <td>6.0</td>\n",
       "      <td>76.0</td>\n",
       "      <td>3.255132</td>\n",
       "      <td>...</td>\n",
       "      <td>0.187889</td>\n",
       "      <td>0.710345</td>\n",
       "      <td>76.0</td>\n",
       "      <td>21.410000</td>\n",
       "      <td>8.832122</td>\n",
       "      <td>7.25</td>\n",
       "      <td>14.9875</td>\n",
       "      <td>19.630</td>\n",
       "      <td>25.5975</td>\n",
       "      <td>48.17</td>\n",
       "    </tr>\n",
       "  </tbody>\n",
       "</table>\n",
       "<p>6 rows × 32 columns</p>\n",
       "</div>"
      ],
      "text/plain": [
       "             size                                                tip  \\\n",
       "            count      mean       std  min  25%  50%  75%  max count   \n",
       "day  time                                                              \n",
       "Thur Lunch   61.0  2.459016  1.073526  1.0  2.0  2.0  2.0  6.0  61.0   \n",
       "     Dinner   1.0  2.000000       NaN  2.0  2.0  2.0  2.0  2.0   1.0   \n",
       "Fri  Lunch    7.0  2.000000  0.577350  1.0  2.0  2.0  2.0  3.0   7.0   \n",
       "     Dinner  12.0  2.166667  0.577350  2.0  2.0  2.0  2.0  4.0  12.0   \n",
       "Sat  Dinner  87.0  2.517241  0.819275  1.0  2.0  2.0  3.0  5.0  87.0   \n",
       "Sun  Dinner  76.0  2.842105  1.007341  2.0  2.0  2.0  4.0  6.0  76.0   \n",
       "\n",
       "                       ...     tip_pct           total_bill             \\\n",
       "                 mean  ...         75%       max      count       mean   \n",
       "day  time              ...                                               \n",
       "Thur Lunch   2.767705  ...    0.193424  0.266312       61.0  17.664754   \n",
       "     Dinner  3.000000  ...    0.159744  0.159744        1.0  18.780000   \n",
       "Fri  Lunch   2.382857  ...    0.210996  0.259314        7.0  12.845714   \n",
       "     Dinner  2.940000  ...    0.179199  0.263480       12.0  19.663333   \n",
       "Sat  Dinner  2.993103  ...    0.188271  0.325733       87.0  20.441379   \n",
       "Sun  Dinner  3.255132  ...    0.187889  0.710345       76.0  21.410000   \n",
       "\n",
       "                                                               \n",
       "                  std    min      25%     50%      75%    max  \n",
       "day  time                                                      \n",
       "Thur Lunch   7.950334   7.51  12.4300  16.000  20.2700  43.11  \n",
       "     Dinner       NaN  18.78  18.7800  18.780  18.7800  18.78  \n",
       "Fri  Lunch   2.842228   8.58  11.1250  13.420  14.7000  16.27  \n",
       "     Dinner  9.471753   5.75  12.3525  18.665  23.8825  40.17  \n",
       "Sat  Dinner  9.480419   3.07  13.9050  18.240  24.7400  50.81  \n",
       "Sun  Dinner  8.832122   7.25  14.9875  19.630  25.5975  48.17  \n",
       "\n",
       "[6 rows x 32 columns]"
      ]
     },
     "execution_count": 210,
     "metadata": {},
     "output_type": "execute_result"
    }
   ],
   "source": [
    "# Gives statistical summary of the tips dataset grouped based on smokers\n",
    "\n",
    "tips.groupby(['day', 'time']).describe()"
   ]
  },
  {
   "cell_type": "code",
   "execution_count": 84,
   "metadata": {},
   "outputs": [
    {
     "data": {
      "text/html": [
       "<div>\n",
       "<style scoped>\n",
       "    .dataframe tbody tr th:only-of-type {\n",
       "        vertical-align: middle;\n",
       "    }\n",
       "\n",
       "    .dataframe tbody tr th {\n",
       "        vertical-align: top;\n",
       "    }\n",
       "\n",
       "    .dataframe thead tr th {\n",
       "        text-align: left;\n",
       "    }\n",
       "\n",
       "    .dataframe thead tr:last-of-type th {\n",
       "        text-align: right;\n",
       "    }\n",
       "</style>\n",
       "<table border=\"1\" class=\"dataframe\">\n",
       "  <thead>\n",
       "    <tr>\n",
       "      <th></th>\n",
       "      <th colspan=\"8\" halign=\"left\">percent</th>\n",
       "      <th colspan=\"5\" halign=\"left\">tip</th>\n",
       "      <th colspan=\"8\" halign=\"left\">total_bill</th>\n",
       "    </tr>\n",
       "    <tr>\n",
       "      <th></th>\n",
       "      <th>count</th>\n",
       "      <th>mean</th>\n",
       "      <th>std</th>\n",
       "      <th>min</th>\n",
       "      <th>25%</th>\n",
       "      <th>50%</th>\n",
       "      <th>75%</th>\n",
       "      <th>max</th>\n",
       "      <th>count</th>\n",
       "      <th>mean</th>\n",
       "      <th>...</th>\n",
       "      <th>75%</th>\n",
       "      <th>max</th>\n",
       "      <th>count</th>\n",
       "      <th>mean</th>\n",
       "      <th>std</th>\n",
       "      <th>min</th>\n",
       "      <th>25%</th>\n",
       "      <th>50%</th>\n",
       "      <th>75%</th>\n",
       "      <th>max</th>\n",
       "    </tr>\n",
       "    <tr>\n",
       "      <th>size</th>\n",
       "      <th></th>\n",
       "      <th></th>\n",
       "      <th></th>\n",
       "      <th></th>\n",
       "      <th></th>\n",
       "      <th></th>\n",
       "      <th></th>\n",
       "      <th></th>\n",
       "      <th></th>\n",
       "      <th></th>\n",
       "      <th></th>\n",
       "      <th></th>\n",
       "      <th></th>\n",
       "      <th></th>\n",
       "      <th></th>\n",
       "      <th></th>\n",
       "      <th></th>\n",
       "      <th></th>\n",
       "      <th></th>\n",
       "      <th></th>\n",
       "      <th></th>\n",
       "    </tr>\n",
       "  </thead>\n",
       "  <tbody>\n",
       "    <tr>\n",
       "      <th>1</th>\n",
       "      <td>4.0</td>\n",
       "      <td>0.217292</td>\n",
       "      <td>0.080342</td>\n",
       "      <td>0.137931</td>\n",
       "      <td>0.170779</td>\n",
       "      <td>0.202752</td>\n",
       "      <td>0.249265</td>\n",
       "      <td>0.325733</td>\n",
       "      <td>4.0</td>\n",
       "      <td>1.437500</td>\n",
       "      <td>...</td>\n",
       "      <td>1.8525</td>\n",
       "      <td>1.92</td>\n",
       "      <td>4.0</td>\n",
       "      <td>7.242500</td>\n",
       "      <td>3.010729</td>\n",
       "      <td>3.07</td>\n",
       "      <td>6.2050</td>\n",
       "      <td>7.915</td>\n",
       "      <td>8.9525</td>\n",
       "      <td>10.07</td>\n",
       "    </tr>\n",
       "    <tr>\n",
       "      <th>2</th>\n",
       "      <td>156.0</td>\n",
       "      <td>0.165719</td>\n",
       "      <td>0.066848</td>\n",
       "      <td>0.035638</td>\n",
       "      <td>0.135223</td>\n",
       "      <td>0.156104</td>\n",
       "      <td>0.195036</td>\n",
       "      <td>0.710345</td>\n",
       "      <td>156.0</td>\n",
       "      <td>2.582308</td>\n",
       "      <td>...</td>\n",
       "      <td>3.1450</td>\n",
       "      <td>5.85</td>\n",
       "      <td>156.0</td>\n",
       "      <td>16.448013</td>\n",
       "      <td>6.043729</td>\n",
       "      <td>5.75</td>\n",
       "      <td>12.4525</td>\n",
       "      <td>15.370</td>\n",
       "      <td>19.6900</td>\n",
       "      <td>40.55</td>\n",
       "    </tr>\n",
       "    <tr>\n",
       "      <th>3</th>\n",
       "      <td>38.0</td>\n",
       "      <td>0.152157</td>\n",
       "      <td>0.045459</td>\n",
       "      <td>0.056433</td>\n",
       "      <td>0.124758</td>\n",
       "      <td>0.159323</td>\n",
       "      <td>0.186135</td>\n",
       "      <td>0.230742</td>\n",
       "      <td>38.0</td>\n",
       "      <td>3.393158</td>\n",
       "      <td>...</td>\n",
       "      <td>3.6825</td>\n",
       "      <td>10.00</td>\n",
       "      <td>38.0</td>\n",
       "      <td>23.277632</td>\n",
       "      <td>9.407065</td>\n",
       "      <td>10.33</td>\n",
       "      <td>16.9400</td>\n",
       "      <td>20.365</td>\n",
       "      <td>27.7750</td>\n",
       "      <td>50.81</td>\n",
       "    </tr>\n",
       "    <tr>\n",
       "      <th>4</th>\n",
       "      <td>37.0</td>\n",
       "      <td>0.145949</td>\n",
       "      <td>0.042395</td>\n",
       "      <td>0.077459</td>\n",
       "      <td>0.117750</td>\n",
       "      <td>0.146699</td>\n",
       "      <td>0.169797</td>\n",
       "      <td>0.280535</td>\n",
       "      <td>37.0</td>\n",
       "      <td>4.135405</td>\n",
       "      <td>...</td>\n",
       "      <td>5.0700</td>\n",
       "      <td>9.00</td>\n",
       "      <td>37.0</td>\n",
       "      <td>28.613514</td>\n",
       "      <td>8.608603</td>\n",
       "      <td>16.49</td>\n",
       "      <td>21.5000</td>\n",
       "      <td>25.890</td>\n",
       "      <td>34.8100</td>\n",
       "      <td>48.33</td>\n",
       "    </tr>\n",
       "    <tr>\n",
       "      <th>5</th>\n",
       "      <td>5.0</td>\n",
       "      <td>0.141495</td>\n",
       "      <td>0.067733</td>\n",
       "      <td>0.065660</td>\n",
       "      <td>0.106572</td>\n",
       "      <td>0.121389</td>\n",
       "      <td>0.172194</td>\n",
       "      <td>0.241663</td>\n",
       "      <td>5.0</td>\n",
       "      <td>4.028000</td>\n",
       "      <td>...</td>\n",
       "      <td>5.0000</td>\n",
       "      <td>5.14</td>\n",
       "      <td>5.0</td>\n",
       "      <td>30.068000</td>\n",
       "      <td>7.340396</td>\n",
       "      <td>20.69</td>\n",
       "      <td>28.1500</td>\n",
       "      <td>29.850</td>\n",
       "      <td>30.4600</td>\n",
       "      <td>41.19</td>\n",
       "    </tr>\n",
       "    <tr>\n",
       "      <th>6</th>\n",
       "      <td>4.0</td>\n",
       "      <td>0.156229</td>\n",
       "      <td>0.042153</td>\n",
       "      <td>0.103799</td>\n",
       "      <td>0.131654</td>\n",
       "      <td>0.162891</td>\n",
       "      <td>0.187466</td>\n",
       "      <td>0.195335</td>\n",
       "      <td>4.0</td>\n",
       "      <td>5.225000</td>\n",
       "      <td>...</td>\n",
       "      <td>5.4250</td>\n",
       "      <td>6.70</td>\n",
       "      <td>4.0</td>\n",
       "      <td>34.830000</td>\n",
       "      <td>9.382000</td>\n",
       "      <td>27.05</td>\n",
       "      <td>29.1125</td>\n",
       "      <td>32.050</td>\n",
       "      <td>37.7675</td>\n",
       "      <td>48.17</td>\n",
       "    </tr>\n",
       "  </tbody>\n",
       "</table>\n",
       "<p>6 rows × 24 columns</p>\n",
       "</div>"
      ],
      "text/plain": [
       "     percent                                                              \\\n",
       "       count      mean       std       min       25%       50%       75%   \n",
       "size                                                                       \n",
       "1        4.0  0.217292  0.080342  0.137931  0.170779  0.202752  0.249265   \n",
       "2      156.0  0.165719  0.066848  0.035638  0.135223  0.156104  0.195036   \n",
       "3       38.0  0.152157  0.045459  0.056433  0.124758  0.159323  0.186135   \n",
       "4       37.0  0.145949  0.042395  0.077459  0.117750  0.146699  0.169797   \n",
       "5        5.0  0.141495  0.067733  0.065660  0.106572  0.121389  0.172194   \n",
       "6        4.0  0.156229  0.042153  0.103799  0.131654  0.162891  0.187466   \n",
       "\n",
       "                  tip            ...                  total_bill             \\\n",
       "           max  count      mean  ...       75%    max      count       mean   \n",
       "size                             ...                                          \n",
       "1     0.325733    4.0  1.437500  ...    1.8525   1.92        4.0   7.242500   \n",
       "2     0.710345  156.0  2.582308  ...    3.1450   5.85      156.0  16.448013   \n",
       "3     0.230742   38.0  3.393158  ...    3.6825  10.00       38.0  23.277632   \n",
       "4     0.280535   37.0  4.135405  ...    5.0700   9.00       37.0  28.613514   \n",
       "5     0.241663    5.0  4.028000  ...    5.0000   5.14        5.0  30.068000   \n",
       "6     0.195335    4.0  5.225000  ...    5.4250   6.70        4.0  34.830000   \n",
       "\n",
       "                                                        \n",
       "           std    min      25%     50%      75%    max  \n",
       "size                                                    \n",
       "1     3.010729   3.07   6.2050   7.915   8.9525  10.07  \n",
       "2     6.043729   5.75  12.4525  15.370  19.6900  40.55  \n",
       "3     9.407065  10.33  16.9400  20.365  27.7750  50.81  \n",
       "4     8.608603  16.49  21.5000  25.890  34.8100  48.33  \n",
       "5     7.340396  20.69  28.1500  29.850  30.4600  41.19  \n",
       "6     9.382000  27.05  29.1125  32.050  37.7675  48.17  \n",
       "\n",
       "[6 rows x 24 columns]"
      ]
     },
     "execution_count": 84,
     "metadata": {},
     "output_type": "execute_result"
    }
   ],
   "source": [
    "tips.groupby('size').describe() "
   ]
  },
  {
   "cell_type": "code",
   "execution_count": 197,
   "metadata": {},
   "outputs": [],
   "source": [
    "# Creates data frame using Pandas\n",
    "    \n",
    "df = pd.DataFrame(tips)"
   ]
  },
  {
   "cell_type": "code",
   "execution_count": 198,
   "metadata": {},
   "outputs": [
    {
     "data": {
      "text/html": [
       "<div>\n",
       "<style scoped>\n",
       "    .dataframe tbody tr th:only-of-type {\n",
       "        vertical-align: middle;\n",
       "    }\n",
       "\n",
       "    .dataframe tbody tr th {\n",
       "        vertical-align: top;\n",
       "    }\n",
       "\n",
       "    .dataframe thead th {\n",
       "        text-align: right;\n",
       "    }\n",
       "</style>\n",
       "<table border=\"1\" class=\"dataframe\">\n",
       "  <thead>\n",
       "    <tr style=\"text-align: right;\">\n",
       "      <th></th>\n",
       "      <th>total_bill</th>\n",
       "      <th>tip</th>\n",
       "      <th>size</th>\n",
       "      <th>tip_pct</th>\n",
       "    </tr>\n",
       "  </thead>\n",
       "  <tbody>\n",
       "    <tr>\n",
       "      <th>total_bill</th>\n",
       "      <td>1.000000</td>\n",
       "      <td>0.675734</td>\n",
       "      <td>0.598315</td>\n",
       "      <td>-0.338624</td>\n",
       "    </tr>\n",
       "    <tr>\n",
       "      <th>tip</th>\n",
       "      <td>0.675734</td>\n",
       "      <td>1.000000</td>\n",
       "      <td>0.489299</td>\n",
       "      <td>0.342370</td>\n",
       "    </tr>\n",
       "    <tr>\n",
       "      <th>size</th>\n",
       "      <td>0.598315</td>\n",
       "      <td>0.489299</td>\n",
       "      <td>1.000000</td>\n",
       "      <td>-0.142860</td>\n",
       "    </tr>\n",
       "    <tr>\n",
       "      <th>tip_pct</th>\n",
       "      <td>-0.338624</td>\n",
       "      <td>0.342370</td>\n",
       "      <td>-0.142860</td>\n",
       "      <td>1.000000</td>\n",
       "    </tr>\n",
       "  </tbody>\n",
       "</table>\n",
       "</div>"
      ],
      "text/plain": [
       "            total_bill       tip      size   tip_pct\n",
       "total_bill    1.000000  0.675734  0.598315 -0.338624\n",
       "tip           0.675734  1.000000  0.489299  0.342370\n",
       "size          0.598315  0.489299  1.000000 -0.142860\n",
       "tip_pct      -0.338624  0.342370 -0.142860  1.000000"
      ]
     },
     "execution_count": 198,
     "metadata": {},
     "output_type": "execute_result"
    }
   ],
   "source": [
    "df.corr()"
   ]
  },
  {
   "cell_type": "markdown",
   "metadata": {},
   "source": [
    "### Visualisation of Data:"
   ]
  },
  {
   "cell_type": "markdown",
   "metadata": {},
   "source": [
    "# <font color=red> Scatterplot  </font>\n",
    "\n",
    "Scatter plots is a 2D visualation of the iris dataset. Its shows the bivariate relationship between 2 variables but does not indicate the strength of the relationship between them. Each member of the dataset gets plotted as a point whose (x, y) coordinates relates to its values for the two variables [13]. Scatter plot shows the relationship between two variable but does not indicates the strength of relationship amongst them."
   ]
  },
  {
   "cell_type": "code",
   "execution_count": 109,
   "metadata": {},
   "outputs": [
    {
     "data": {
      "image/png": "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\n",
      "text/plain": [
       "<Figure size 1200x1000 with 4 Axes>"
      ]
     },
     "metadata": {
      "needs_background": "light"
     },
     "output_type": "display_data"
    }
   ],
   "source": [
    "f, axes = plt.subplots(2, 2, figsize=(12, 10), dpi=100)                                                         # Figsize and dpi(dot-per-inch)\n",
    "plt.suptitle(\"Tips Dataset Distribution of Data\",fontweight=\"bold\", fontsize=\"12\", color=\"g\" )                   # Overall heading for the graph\n",
    "\n",
    "plt.subplot(2,2,1)  \n",
    "sns.scatterplot(x=\"total_bill\", y=\"tip\", hue=\"sex\", style = \"sex\", data = tips)                    # Plot total bill vs tip for each gender \n",
    "plt.xlabel(\"total_bill ($)\", fontweight=\"bold\", fontsize=\"12\", color=\"b\")                                    # Format of the x-axis\n",
    "plt.ylabel(\"tip ($)\", fontweight=\"bold\", fontsize=\"12\", color=\"b\")                                     # Format of the y-axis\n",
    "plt.title(\"Total Bill vs Tip for both sexes\", fontweight=\"bold\", fontsize=\"12\", color=\"r\")                    # Title of graph\n",
    "\n",
    "plt.subplot(2,2,2)\n",
    "sns.scatterplot(x=\"total_bill\", y=\"tip\", hue=\"time\",style =\"time\", data = tips)                    # Plot petal length and width for each species \n",
    "plt.xlabel(\"Total Bill ($)\", fontweight=\"bold\", fontsize=\"12\", color=\"b\")                                    # Format of the x-axis\n",
    "plt.ylabel(\"Tip ($)\", fontweight=\"bold\", fontsize=\"12\", color=\"b\")                                     # Format of the y-axis\n",
    "\n",
    "\n",
    "plt.subplot(2,2,3)  \n",
    "sns.scatterplot(x=\"total_bill\", y =\"tip\", style =\"smoker\", hue =\"smoker\",data = tips)\n",
    "plt.xlabel(\"Total Bill ($)\", fontweight=\"bold\", fontsize=\"12\", color=\"b\")                                    # Format of the x-axis\n",
    "plt.ylabel(\"Tip ($)\", fontweight=\"bold\", fontsize=\"12\", color=\"b\")                                     # Format of the y-axis\n",
    "\n",
    "\n",
    "plt.subplot(2,2,4)   \n",
    "sns.scatterplot(x=\"total_bill\", y =\"tip\", style =\"size\", hue =\"size\",data = tips)\n",
    "plt.xlabel(\"Total Bill ($)\", fontweight=\"bold\", fontsize=\"12\", color=\"b\")                                    # Format of the x-axis\n",
    "plt.ylabel(\"Tip ($)\", fontweight=\"bold\", fontsize=\"12\", color=\"b\") \n",
    "\n",
    "plt.show() "
   ]
  },
  {
   "cell_type": "markdown",
   "metadata": {},
   "source": [
    "<i> From image one we can see that as total_bill increases the tip increases </i>"
   ]
  },
  {
   "cell_type": "markdown",
   "metadata": {},
   "source": [
    "## Relplot:"
   ]
  },
  {
   "cell_type": "code",
   "execution_count": 102,
   "metadata": {},
   "outputs": [
    {
     "data": {
      "image/png": "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\n",
      "text/plain": [
       "<Figure size 1495.38x360 with 4 Axes>"
      ]
     },
     "metadata": {
      "needs_background": "light"
     },
     "output_type": "display_data"
    }
   ],
   "source": [
    "sns.relplot(x = \"total_bill\", y = \"tip\", hue = \"size\", col = \"day\", data = tips);"
   ]
  },
  {
   "cell_type": "markdown",
   "metadata": {},
   "source": [
    "## Line Plot:"
   ]
  },
  {
   "cell_type": "code",
   "execution_count": 124,
   "metadata": {},
   "outputs": [
    {
     "data": {
      "text/plain": [
       "<matplotlib.axes._subplots.AxesSubplot at 0x1b75f2b9f28>"
      ]
     },
     "execution_count": 124,
     "metadata": {},
     "output_type": "execute_result"
    },
    {
     "data": {
      "image/png": "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\n",
      "text/plain": [
       "<Figure size 432x288 with 1 Axes>"
      ]
     },
     "metadata": {
      "needs_background": "light"
     },
     "output_type": "display_data"
    }
   ],
   "source": [
    "# https://analyticsindiamag.com/a-simple-introduction-to-pythons-seaborn-library/\n",
    "\n",
    "sns.lineplot(x=\"size\", y=\"tip\",data=tips)"
   ]
  },
  {
   "cell_type": "markdown",
   "metadata": {},
   "source": [
    "<i> This line plot shows the relationship that exists between the size of the group and the amount tipped. it can be stated that as the size of the group increases so to does the tip. </i>"
   ]
  },
  {
   "cell_type": "markdown",
   "metadata": {},
   "source": [
    "\n",
    "<a name=\"dist\"></a>\n",
    "## Distplot:\n",
    "\n",
    "Displot combines the function of a histogram and the KDE (density) plot into the same plot using the seaborn package. The x-axis represents a feature e.g. total_bill and the y-axis is a count of the number oof points that exist in the given range. Thus, we can  determine how many points are in particular regions.[14]."
   ]
  },
  {
   "cell_type": "code",
   "execution_count": 114,
   "metadata": {},
   "outputs": [
    {
     "data": {
      "text/plain": [
       "<matplotlib.axes._subplots.AxesSubplot at 0x1b76160aeb8>"
      ]
     },
     "execution_count": 114,
     "metadata": {},
     "output_type": "execute_result"
    },
    {
     "data": {
      "image/png": "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\n",
      "text/plain": [
       "<Figure size 432x288 with 1 Axes>"
      ]
     },
     "metadata": {
      "needs_background": "light"
     },
     "output_type": "display_data"
    }
   ],
   "source": [
    "# Visualising the distribution of the numerical columns (total_bill and tip)\n",
    "sns.distplot(tips['tip'])\n",
    "sns.distplot(tips['total_bill'])\n"
   ]
  },
  {
   "cell_type": "code",
   "execution_count": 122,
   "metadata": {},
   "outputs": [
    {
     "data": {
      "text/plain": [
       "<matplotlib.axes._subplots.AxesSubplot at 0x1b75f0fd940>"
      ]
     },
     "execution_count": 122,
     "metadata": {},
     "output_type": "execute_result"
    },
    {
     "data": {
      "image/png": "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\n",
      "text/plain": [
       "<Figure size 432x288 with 1 Axes>"
      ]
     },
     "metadata": {
      "needs_background": "light"
     },
     "output_type": "display_data"
    }
   ],
   "source": [
    "# https://data-and-design.readthedocs.io/en/latest/02-introPandas.html\n",
    "male = tips.loc[tips[\"sex\"] == \"Male\", [\"sex\", \"tip\"]]\n",
    "female = tips.loc[tips[\"sex\"] == \"Female\", [\"sex\", \"tip\"]]\n",
    "sns.distplot(male[\"tip\"])\n",
    "sns.distplot(female[\"tip\"])\n"
   ]
  },
  {
   "cell_type": "markdown",
   "metadata": {},
   "source": [
    "<i> This plot confirms that the majority of customers tips lie in the region 2 to 4. </i>"
   ]
  },
  {
   "cell_type": "code",
   "execution_count": 121,
   "metadata": {},
   "outputs": [
    {
     "data": {
      "text/plain": [
       "<matplotlib.axes._subplots.AxesSubplot at 0x1b760fedef0>"
      ]
     },
     "execution_count": 121,
     "metadata": {},
     "output_type": "execute_result"
    },
    {
     "data": {
      "image/png": "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\n",
      "text/plain": [
       "<Figure size 432x288 with 1 Axes>"
      ]
     },
     "metadata": {
      "needs_background": "light"
     },
     "output_type": "display_data"
    }
   ],
   "source": [
    "male = tips.loc[tips[\"sex\"] == \"Male\", [\"sex\", \"total_bill\"]]\n",
    "female = tips.loc[tips[\"sex\"] == \"Female\", [\"sex\", \"total_bill\"]]\n",
    "\n",
    "sns.distplot(male[\"total_bill\"])\n",
    "sns.distplot(female[\"total_bill\"])"
   ]
  },
  {
   "cell_type": "code",
   "execution_count": 125,
   "metadata": {},
   "outputs": [
    {
     "data": {
      "text/plain": [
       "<matplotlib.axes._subplots.AxesSubplot at 0x1b75f2e4550>"
      ]
     },
     "execution_count": 125,
     "metadata": {},
     "output_type": "execute_result"
    },
    {
     "data": {
      "image/png": "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\n",
      "text/plain": [
       "<Figure size 432x288 with 1 Axes>"
      ]
     },
     "metadata": {
      "needs_background": "light"
     },
     "output_type": "display_data"
    }
   ],
   "source": [
    "sns.kdeplot(tips['tip'])"
   ]
  },
  {
   "cell_type": "markdown",
   "metadata": {},
   "source": [
    "Kernel Density Plot - \"visualizes the distribution of data over a continuous interval or time period.The peaks of a Density Plot displays where exactly the values are concentrated over the interval. \"\"https://analyticsindiamag.com/a-simple-introduction-to-pythons-seaborn-library/\"\n",
    "\n",
    "<i> This once again confirms that the majority of tips lie between 2 and 4. </i>"
   ]
  },
  {
   "cell_type": "markdown",
   "metadata": {},
   "source": [
    "## Catplot:"
   ]
  },
  {
   "cell_type": "markdown",
   "metadata": {},
   "source": [
    "Categorical plots shows the relationship that exists between a numerical and one or more categorical variables in the data.[https://analyticsindiamag.com/a-simple-introduction-to-pythons-seaborn-library/]"
   ]
  },
  {
   "cell_type": "code",
   "execution_count": 70,
   "metadata": {},
   "outputs": [
    {
     "data": {
      "text/plain": [
       "<seaborn.axisgrid.FacetGrid at 0x1b75ae62908>"
      ]
     },
     "execution_count": 70,
     "metadata": {},
     "output_type": "execute_result"
    },
    {
     "data": {
      "image/png": "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\n",
      "text/plain": [
       "<Figure size 432.625x360 with 1 Axes>"
      ]
     },
     "metadata": {
      "needs_background": "light"
     },
     "output_type": "display_data"
    }
   ],
   "source": [
    "# Categorical data types: \n",
    "# https://towardsdatascience.com/analyze-the-data-through-data-visualization-using-seaborn-255e1cd3948e\n",
    "\n",
    "sns.catplot(x=\"day\", y=\"total_bill\", hue=\"sex\", kind=\"swarm\", data=tips)"
   ]
  },
  {
   "cell_type": "code",
   "execution_count": 110,
   "metadata": {},
   "outputs": [
    {
     "data": {
      "text/plain": [
       "<seaborn.axisgrid.FacetGrid at 0x1b761653630>"
      ]
     },
     "execution_count": 110,
     "metadata": {},
     "output_type": "execute_result"
    },
    {
     "data": {
      "image/png": "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\n",
      "text/plain": [
       "<Figure size 432.625x360 with 1 Axes>"
      ]
     },
     "metadata": {
      "needs_background": "light"
     },
     "output_type": "display_data"
    }
   ],
   "source": [
    "sns.catplot(x=\"day\", y=\"tip\", hue=\"sex\", kind=\"swarm\", data=tips)"
   ]
  },
  {
   "cell_type": "code",
   "execution_count": 111,
   "metadata": {},
   "outputs": [
    {
     "data": {
      "text/plain": [
       "<seaborn.axisgrid.FacetGrid at 0x1b760edd470>"
      ]
     },
     "execution_count": 111,
     "metadata": {},
     "output_type": "execute_result"
    },
    {
     "data": {
      "image/png": "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\n",
      "text/plain": [
       "<Figure size 432.625x360 with 1 Axes>"
      ]
     },
     "metadata": {
      "needs_background": "light"
     },
     "output_type": "display_data"
    }
   ],
   "source": [
    "sns.catplot(x=\"day\", y=\"percent\", hue=\"sex\", kind=\"swarm\", data=tips)"
   ]
  },
  {
   "cell_type": "markdown",
   "metadata": {},
   "source": [
    "### Countplot:\n"
   ]
  },
  {
   "cell_type": "code",
   "execution_count": 94,
   "metadata": {},
   "outputs": [
    {
     "data": {
      "text/plain": [
       "<matplotlib.axes._subplots.AxesSubplot at 0x1b75ee8b668>"
      ]
     },
     "execution_count": 94,
     "metadata": {},
     "output_type": "execute_result"
    },
    {
     "data": {
      "image/png": "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\n",
      "text/plain": [
       "<Figure size 432x288 with 1 Axes>"
      ]
     },
     "metadata": {
      "needs_background": "light"
     },
     "output_type": "display_data"
    }
   ],
   "source": [
    "sns.countplot(x='day',hue='size' ,data=tips)"
   ]
  },
  {
   "cell_type": "markdown",
   "metadata": {},
   "source": [
    "<i> The above chart provides a visualisation of the size of the groups that entered the restaurants. It is clear that over all of the days group size 2 was the majortiy. It can also be seen that larger groups were seen at the weekend that on weekdays </i>"
   ]
  },
  {
   "cell_type": "code",
   "execution_count": 97,
   "metadata": {},
   "outputs": [
    {
     "data": {
      "text/plain": [
       "<matplotlib.axes._subplots.AxesSubplot at 0x1b75becd9b0>"
      ]
     },
     "execution_count": 97,
     "metadata": {},
     "output_type": "execute_result"
    },
    {
     "data": {
      "image/png": "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\n",
      "text/plain": [
       "<Figure size 432x288 with 1 Axes>"
      ]
     },
     "metadata": {
      "needs_background": "light"
     },
     "output_type": "display_data"
    }
   ],
   "source": [
    "sns.countplot('sex', hue='smoker', data=tips)"
   ]
  },
  {
   "cell_type": "markdown",
   "metadata": {},
   "source": [
    "<i> From the above graph we can see that there were more male than females that smoked but in both cases there were more people that did not smoked than smoke. </i>"
   ]
  },
  {
   "cell_type": "code",
   "execution_count": 129,
   "metadata": {},
   "outputs": [
    {
     "data": {
      "text/plain": [
       "<matplotlib.axes._subplots.AxesSubplot at 0x1b75fdc2978>"
      ]
     },
     "execution_count": 129,
     "metadata": {},
     "output_type": "execute_result"
    },
    {
     "data": {
      "image/png": "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\n",
      "text/plain": [
       "<Figure size 432x288 with 1 Axes>"
      ]
     },
     "metadata": {
      "needs_background": "light"
     },
     "output_type": "display_data"
    }
   ],
   "source": [
    "sns.countplot(x = \"day\", hue =\"sex\", data = tips)"
   ]
  },
  {
   "cell_type": "markdown",
   "metadata": {},
   "source": [
    "<i> From the above plot we can see that on the weekdays the male vs female distribution was similar. However at the weekend (Saturday amd Sunday) there was twice if not more males than females. </i>"
   ]
  },
  {
   "cell_type": "markdown",
   "metadata": {},
   "source": [
    "## Barplot"
   ]
  },
  {
   "cell_type": "code",
   "execution_count": 92,
   "metadata": {},
   "outputs": [
    {
     "data": {
      "text/plain": [
       "<matplotlib.axes._subplots.AxesSubplot at 0x1b75eed9860>"
      ]
     },
     "execution_count": 92,
     "metadata": {},
     "output_type": "execute_result"
    },
    {
     "data": {
      "image/png": "iVBORw0KGgoAAAANSUhEUgAAAYUAAAEKCAYAAAD9xUlFAAAABHNCSVQICAgIfAhkiAAAAAlwSFlzAAALEgAACxIB0t1+/AAAADl0RVh0U29mdHdhcmUAbWF0cGxvdGxpYiB2ZXJzaW9uIDMuMC4yLCBodHRwOi8vbWF0cGxvdGxpYi5vcmcvOIA7rQAAEfRJREFUeJzt3X+MZWd93/H3h901NmUbC3ZUO/aaTYWVNBBj44mD5aZQkrSGUqwWpzKigBHpVjSuEymJBaRaglWpDUWJBCaxltrBjigxNRAt1CgYEQewiuOxtf6x3lJt+REv9tZjO2t7g9mw9rd/zNmnw/jOr/U8c3d23i/pas6P55771dHMfO5zfjwnVYUkSQAvGHcBkqTjh6EgSWoMBUlSYyhIkhpDQZLUGAqSpMZQkCQ1hoIkqTEUJEnNxnEXsFxbtmypbdu2jbsMSVpT7rrrrkeramKxdmsuFLZt28bU1NS4y5CkNSXJd5fSzsNHkqTGUJAkNYaCJKkxFCRJjaEgSWoMBUlS0y0Ukpyc5C+T3JNkT5IPjmhzeZLpJLuH16/0qkeStLie9ykcBl5fVYeSbAK+nuSLVfWNOe1uqqorOtYhSVqibqFQMw9/PjTMbhpePhBa0gnjqquu4sCBA5x22ml86EMfGnc5K6LrOYUkG5LsBh4Bbq2qO0Y0e0uSe5PcnGRrz3okaSUdOHCA733vexw4cGDcpayYrqFQVc9U1bnAmcAFSV45p8nngW1VdQ7wZeCGUdtJsj3JVJKp6enpniVL0rq2KlcfVdVB4Dbg4jnLH6uqw8Psx4Hz53n/zqqarKrJiYlFx3OSJB2jnlcfTSQ5dZg+BfhF4H/NaXP6rNk3A3t71SNJWlzPq49OB25IsoGZ8Pl0VX0hydXAVFXtAq5M8mbgCPA4cHnHeiRJi+h59dG9wHkjlu+YNf0+4H29apAkLY93NEuSGkNBktSsuSevSTp2J+LNVlpZhoK0jhy92Uqaj4ePJEmNoSBJagwFSVJjKEiSGkNBktR49ZGkNesv/tFrx/r5T2/cAAlP798/9lpe+9W/WJHt2FOQJDWGgiSp8fCRjnvehSutHkNBxz3vwpVWj4ePJEmNoSBJagwFSVJjKEiSGkNBktR49VEHXkIpaa0yFDrwEkpJa1W3w0dJTk7yl0nuSbInyQdHtHlhkpuS7EtyR5JtveqRJC2u5zmFw8Drq+pVwLnAxUleM6fNu4G/rqqXA78P/G7HeiRJi+gWCjXj0DC7aXjVnGaXADcM0zcDv5AkvWqSJC2s69VHSTYk2Q08AtxaVXfMaXIG8CBAVR0BngBeOmI725NMJZmanp7uWbIkrWtdTzRX1TPAuUlOBT6X5JVVdf+sJqN6BXN7E1TVTmAnwOTk5HPWS2vFRR+9aKyff9LBk3gBL+DBgw+OvZbb//3tY/18jbYq9ylU1UHgNuDiOav2A1sBkmwEfgx4fDVqkqTn69QqXlLFqXXifFft1lNIMgH8sKoOJjkF+EWeeyJ5F/BO4H8ClwJfqTqB9q6kE9q/fubZcZew4noePjoduCHJBmZ6JJ+uqi8kuRqYqqpdwHXAHyfZx0wP4bKO9UiSFtEtFKrqXuC8Ect3zJr+AfDLvWqQJC2PYx9JkhpDQZLUGAqSpMZQkCQ1hoIkqTEUJEmNoSBJagwFSVJzQj557fzfunGsn7/50afYAPzVo0+NvZa7/ss7xvr5ktYWewqSpOaE7Clo5fzV1T8z7hI48vhLgI0cefy7Y63nrB33je2zpdViT0GS1BgKkqTGUJAkNZ5TkNaRelHxLM9SL/JZVhrNUJDWkR9e9MNxl6DjnIePJEmNoSBJagwFSVJjKEiSmm6hkGRrkj9PsjfJniS/NqLN65I8kWT38NrRqx5J0uJ6Xn10BPiNqro7yWbgriS3VtUDc9p9rare1LEOSdISdespVNXDVXX3MP0UsBc4o9fnSZKev1U5p5BkG3AecMeI1RcmuSfJF5O8YjXqkSSN1v3mtSQvBj4D/HpVPTln9d3Ay6rqUJI3An8KnD1iG9uB7QBnnXVW54olaf3q2lNIsomZQPhkVX127vqqerKqDg3TtwCbkmwZ0W5nVU1W1eTExETPkiVpXevWU0gS4Dpgb1X93jxtTgP+b1VVkguYCanHetW0Wp496e/8yE9JWit6Hj66CHg7cF+S3cOy9wNnAVTVtcClwHuSHAGeBi6rqjU/UtffnP1Pxl2CJB2TbqFQVV8Hskiba4BretUgSVoe72iWJDWGgiSpMRQkSY2hIElqDAVJUmMoSJIaQ0GS1BgKkqTGUJAkNd1HSZWery0nPwscGX5K6slQ0HHvN885OO4SpHXDw0eSpMZQkCQ1hoIkqTEUJEmNoSBJagwFSVJjKEiSGkNBktQYCpKkplsoJNma5M+T7E2yJ8mvjWiTJB9Jsi/JvUle3aseSdLieg5zcQT4jaq6O8lm4K4kt1bVA7PavAE4e3j9HPCHw09J0hh06ylU1cNVdfcw/RSwFzhjTrNLgBtrxjeAU5Oc3qsmSdLCVuWcQpJtwHnAHXNWnQE8OGt+P88NDknSKukeCkleDHwG+PWqenLu6hFvqRHb2J5kKsnU9PR0jzIlSXQOhSSbmAmET1bVZ0c02Q9snTV/JvDQ3EZVtbOqJqtqcmJiok+xkqSuVx8FuA7YW1W/N0+zXcA7hquQXgM8UVUP96pJkrSwnlcfXQS8Hbgvye5h2fuBswCq6lrgFuCNwD7g+8C7OtYjSVpEt1Coqq8z+pzB7DYF/GqvGiRJy7OkUBhuKvuHzJwEvv3opaaSpBPLoucUkuwAbgBeCmwB/ijJf+hdmCRp9S2lp/BW4Lyq+gFAkv8M3A38x56FSZJW31KuPvoOcPKs+RcC/6dLNZKksVpKT+EwsCfJrcycU/gl4OtJPgJQVVd2rE+StIqWEgqfG15H3danFEnSuC0aClV1w2oUIkkav3lDIcmnq+pfJbmPEeMRVdU5XSuTJK26hXoKRx+Ksxf4rVnLA3yoW0WSpLGZNxRmjUH08qr67ux1SX6qa1WSpLFY6PDRe4B/B/z9JPfOWrUZuL13YZKk1bfQ4aP/BnwR+E/Ae2ctf6qqHu9alSRpLBY6fPQE8AQzdzRLktaBVXkcpyRpbTAUJEmNoSBJagwFSVJjKEiSGkNBktQYCpKkxlCQJDXdQiHJ9UkeSXL/POtfl+SJJLuH145etUiSlmYpD9k5Vp8ArgFuXKDN16rqTR1rkCQtQ7eeQlV9FXCMJElaQ8Z9TuHCJPck+WKSV8zXKMn2JFNJpqanp1ezPklaV8YZCncDL6uqVwEfBf50voZVtbOqJqtqcmJiYtUKlKT1ZmyhUFVPVtWhYfoWYFOSLeOqR5I0xlBIclqSDNMXDLU8Nq56JEkdrz5K8ingdcCWJPuBDwCbAKrqWuBS4D1JjgBPA5dVVfWqR5K0uG6hUFULPpynqq5h5pJVSdJxYtxXH0mSjiOGgiSpMRQkSY2hIElqDAVJUmMoSJIaQ0GS1BgKkqTGUJAkNYaCJKkxFCRJjaEgSWoMBUlSYyhIkhpDQZLUGAqSpMZQkCQ1hoIkqTEUJEmNoSBJarqFQpLrkzyS5P551ifJR5LsS3Jvklf3qkWStDQ9ewqfAC5eYP0bgLOH13bgDzvWIklagm6hUFVfBR5foMklwI014xvAqUlO71WPJGlx4zyncAbw4Kz5/cMySdKYjDMUMmJZjWyYbE8ylWRqenq6c1mStH6NMxT2A1tnzZ8JPDSqYVXtrKrJqpqcmJhYleIkaT0aZyjsAt4xXIX0GuCJqnp4jPVI0rq3sdeGk3wKeB2wJcl+4APAJoCquha4BXgjsA/4PvCuXrVIkpamWyhU1VsXWV/Ar/b6fEnS8nlHsySpMRQkSY2hIElqDAVJUmMoSJIaQ0GS1BgKkqTGUJAkNYaCJKkxFCRJjaEgSWoMBUlSYyhIkhpDQZLUGAqSpMZQkCQ1hoIkqTEUJEmNoSBJagwFSVJjKEiSmq6hkOTiJN9Msi/Je0esvzzJdJLdw+tXetYjSVrYxl4bTrIB+BjwS8B+4M4ku6rqgTlNb6qqK3rVIUlaup49hQuAfVX1rar6W+BPgEs6fp4k6XnqGQpnAA/Omt8/LJvrLUnuTXJzkq2jNpRke5KpJFPT09M9apUk0TcUMmJZzZn/PLCtqs4BvgzcMGpDVbWzqiaranJiYmKFy5QkHdUzFPYDs7/5nwk8NLtBVT1WVYeH2Y8D53esR5K0iJ6hcCdwdpKfSHIScBmwa3aDJKfPmn0zsLdjPZKkRXS7+qiqjiS5AvgzYANwfVXtSXI1MFVVu4Ark7wZOAI8Dlzeqx5J0uK6hQJAVd0C3DJn2Y5Z0+8D3tezBknS0nlHsySpMRQkSY2hIElqDAVJUmMoSJIaQ0GS1BgKkqTGUJAkNYaCJKkxFCRJjaEgSWoMBUlSYyhIkhpDQZLUGAqSpMZQkCQ1hoIkqTEUJEmNoSBJagwFSVLTNRSSXJzkm0n2JXnviPUvTHLTsP6OJNt61iNJWli3UEiyAfgY8Abgp4G3JvnpOc3eDfx1Vb0c+H3gd3vVI0laXM+ewgXAvqr6VlX9LfAnwCVz2lwC3DBM3wz8QpJ0rEmStICeoXAG8OCs+f3DspFtquoI8ATw0o41SZIWsLHjtkd9469jaEOS7cD2YfZQkm8+z9pWwxbg0XEXkQ+/c9wlrJTx788PnDCd2PHvSyBXuj9X1OIHWV62lM30DIX9wNZZ82cCD83TZn+SjcCPAY/P3VBV7QR2dqqziyRTVTU57jpOFO7PleO+XFkn2v7sefjoTuDsJD+R5CTgMmDXnDa7gKNfZS8FvlJVz+kpSJJWR7eeQlUdSXIF8GfABuD6qtqT5Gpgqqp2AdcBf5xkHzM9hMt61SNJWlzPw0dU1S3ALXOW7Zg1/QPgl3vWMEZr6nDXGuD+XDnuy5V1Qu3PeLRGknSUw1xIkhpDYRmSvDTJ7uF1IMn3humDSR4Yd30ngiTPzNrHu0cNfZLkx5PcvPrVrS1JfjvJniT3Dvvy5xZoe3mSH1/N+taK5ezHE0HXcwonmqp6DDgXIMnvAIeq6sPDP64vHOt2k2wcbt4TPF1V5863cthXDzFztZrmkeRC4E3Aq6vqcJItwEkLvOVy4H6ee9n4unYM+3HNs6ewcjYk+fjwjeJLSU4BSHJbkslhekuS7wzTlyf570k+D3xpfGUf/+buqyTbktw/7rqOc6cDj1bVYYCqerSqHkqyI8mdSe5PsjMzLgUmgU8O34RPGWvlx5f59uN3hoAgyWSS24bp30ly/fB3/60kV46v9GNjKKycs4GPVdUrgIPAW5bwnguBd1bV67tWtracMuvQ0edmLXdfLc+XgK1J/neSP0jy2mH5NVX1s1X1SuAU4E1VdTMwBbytqs6tqqfHVfRxaL79uJCfAv4pM+O/fSDJpq4VrjAPH62cb1fV7mH6LmDbEt5za1U95w7udW6+w0fuq2WoqkNJzgd+HvjHwE3D8PVPJbkKeBHwEmAP8PnxVXp8W2A/LuR/DD2Lw0keAf4eM6M3rAmGwso5PGv6GWa+hQEc4f/3yE6e856/6V3UCcR9tUxV9QxwG3BbkvuAfwucA0xW1YPDebG5v5OaY8R+fCcL/13P/V+wpv7Peviov+8A5w/TnhzVqkjyk0nOnrXoXODoQJKPJnkxP/r7+BSwebXqWyvm2Y/f5Uf/rpdyqHjNWFMJtkZ9GPh0krcDXxl3MVo3Xgx8NMmpzHyr3cfMSMMHgfuY+ad256z2nwCuTfI0cKHnFZr59uM/AK5L8n7gjjHWt+K8o1mS1Hj4SJLUGAqSpMZQkCQ1hoIkqTEUJEmNoSAdo2Gcm98cdx3SSjIUJEmNoSAtwzC2/jeTfBn4yWHZvxlGHr0nyWeSvCjJ5iTfPjoYWpK/O4ysuaYGR9P6YyhISzQMjHYZcB7wL4GfHVZ9dhh59FXAXuDdVfUUM+Pl/LOhzWXAZ6rqh6tbtbQ8hoK0dD8PfK6qvl9VTwK7huWvTPK1YbC0twGvGJb/V+Bdw/S7gD9a1WqlY2AoSMszalyYTwBXVNXPAB9kGDWzqm4Htg1j8G+oKh8MpOOeoSAt3VeBf5HklCSbgX8+LN8MPDycL3jbnPfcCHwKewlaIxwQT1qGJL8NvIOZ4ZP3Aw8w86yHq4Zl9wGbq+ryof1pwLeB06vq4DhqlpbDUJA6Gp5/fElVvX3ctUhL4fMUpE6SfBR4A/DGcdciLZU9BUlS44lmSVJjKEiSGkNBktQYCpKkxlCQJDWGgiSp+X/FCfrmGMYD/gAAAABJRU5ErkJggg==\n",
      "text/plain": [
       "<Figure size 432x288 with 1 Axes>"
      ]
     },
     "metadata": {
      "needs_background": "light"
     },
     "output_type": "display_data"
    }
   ],
   "source": [
    "sns.barplot(x=\"day\", y=\"tip\", data = tips)"
   ]
  },
  {
   "cell_type": "markdown",
   "metadata": {},
   "source": [
    "<i> The above barplot give a visualise representation of the tips that were given on each of the respective days. We can conclude from the above chart that the highest tip was given on Sunday. </i>"
   ]
  },
  {
   "cell_type": "code",
   "execution_count": 112,
   "metadata": {},
   "outputs": [
    {
     "data": {
      "text/plain": [
       "<matplotlib.axes._subplots.AxesSubplot at 0x1b75f4feb38>"
      ]
     },
     "execution_count": 112,
     "metadata": {},
     "output_type": "execute_result"
    },
    {
     "data": {
      "image/png": "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\n",
      "text/plain": [
       "<Figure size 432x288 with 1 Axes>"
      ]
     },
     "metadata": {
      "needs_background": "light"
     },
     "output_type": "display_data"
    }
   ],
   "source": [
    "sns.barplot(x=\"day\", y=\"percent\", data=tips)"
   ]
  },
  {
   "cell_type": "markdown",
   "metadata": {},
   "source": [
    "<a name=\"box\"></a>\n",
    "### Boxplots:\n",
    "<p>\n",
    " \n",
    " Boxplot is a grapical representation to show the distribution of data based on the five number summary:  \n",
    "\n",
    "<img align=\"right\" src=\"https://pro.arcgis.com/en/pro-app/help/analysis/geoprocessing/charts/GUID-0E2C3730-C535-40CD-8152-80D794A996A7-web.png\" width=250 title=\"Boxplot Attributes\"> \n",
    " \n",
    " - Median – refers to the middle value in the iris dataset\n",
    "- Lower quartile (Q1) - refers to the middle number between the smallest number and the median of the dataset \n",
    "- Upper quartile (Q3)- refers to the middle number between the median and the highest value  of the dataset \n",
    "- Maximum - Q3  + 1.5*IQR\n",
    "- Minimum  - Q3 – 1.5*IQR\n",
    "\n",
    "  - Interquartile range (IQR) = Upper Quartile –Lower Quartile \n",
    "\n",
    "\n",
    "<b> Advantages: </b> [3][4]\n",
    "\n",
    "1. Clear and easy to understand\n",
    "2. Shows the presence of outliers - one of very few statistical graph methods that show outliers\n",
    "3. Shows the distribution of data in a dataset\n",
    "4. Easily compare the different boxplots within the iris dataset\n",
    "5. Handle and present summary of large amount of data\n",
    "\n",
    "<b> Disadvantages:</b>\n",
    "1. Exact values and details of the distribution results are not shown \n",
    "\n",
    "<i> Boxplots are best when used in combination with another statistical graph method e.g. histogram to give a  more thorough analysis of the iris dataset. </i>\n",
    "</p>"
   ]
  },
  {
   "cell_type": "code",
   "execution_count": 69,
   "metadata": {},
   "outputs": [
    {
     "data": {
      "text/plain": [
       "<matplotlib.axes._subplots.AxesSubplot at 0x1b75ae8ba90>"
      ]
     },
     "execution_count": 69,
     "metadata": {},
     "output_type": "execute_result"
    },
    {
     "data": {
      "image/png": "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\n",
      "text/plain": [
       "<Figure size 432x288 with 1 Axes>"
      ]
     },
     "metadata": {
      "needs_background": "light"
     },
     "output_type": "display_data"
    }
   ],
   "source": [
    "# https://data-and-design.readthedocs.io/en/latest/02-introPandas.html\n",
    "\n",
    "sns.boxplot(x = \"day\", y = \"total_bill\", hue = \"sex\", data = tips)"
   ]
  },
  {
   "cell_type": "markdown",
   "metadata": {},
   "source": [
    "<i> In this graph, we can see that the average amount of total_bill for females is always less than the males. So, we can say that total_bill amount is dependent on sex. </i>"
   ]
  },
  {
   "cell_type": "code",
   "execution_count": 123,
=======
   "execution_count": 50,
>>>>>>> ac79f396595ef44d04138b76cf8d50e9d55ea8ab
   "metadata": {},
   "outputs": [
    {
     "data": {
      "text/plain": [
<<<<<<< HEAD
       "<seaborn.axisgrid.FacetGrid at 0x1b75f14dac8>"
      ]
     },
     "execution_count": 123,
     "metadata": {},
     "output_type": "execute_result"
    },
    {
     "data": {
      "image/png": "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\n",
      "text/plain": [
       "<Figure size 773.359x360 with 2 Axes>"
      ]
     },
     "metadata": {
      "needs_background": "light"
     },
     "output_type": "display_data"
    }
   ],
   "source": [
    "# https://data-and-design.readthedocs.io/en/latest/02-introPandas.html\n",
    "\n",
    "sns.factorplot(x=\"sex\", y=\"total_bill\",\n",
    "                  hue=\"smoker\", col=\"time\",\n",
    "                  data=tips, kind=\"box\")"
   ]
  },
  {
   "cell_type": "markdown",
   "metadata": {},
   "source": [
    "<i> To group the data even further, we can use a factorplot. For example, we break the plots for gender and total bill apart creating a plot for Dinner and Lunch that break the genders by smoking categories </i>"
   ]
  },
  {
   "cell_type": "markdown",
   "metadata": {},
   "source": [
    "## Violet Plot:"
   ]
  },
  {
   "cell_type": "code",
   "execution_count": 127,
   "metadata": {},
   "outputs": [
    {
     "data": {
      "image/png": "iVBORw0KGgoAAAANSUhEUgAAAWAAAAFgCAYAAACFYaNMAAAABHNCSVQICAgIfAhkiAAAAAlwSFlzAAALEgAACxIB0t1+/AAAADl0RVh0U29mdHdhcmUAbWF0cGxvdGxpYiB2ZXJzaW9uIDMuMC4yLCBodHRwOi8vbWF0cGxvdGxpYi5vcmcvOIA7rQAAIABJREFUeJzsvXmUXHd17/vZp+bqudWteZZsyfIEtgADxtgmg8FMySMhhLDgQvANl2ACJGR4eeRBbiB5gZAQSO4lhkBIbkgwYRGQMQYTx+AwWMbyoMkaW1NL3a2eu7rG83t/VJ1Sdau6u7qmc05pf9aqpapTVad2qU99zz77twcxxqAoiqI0H8ttAxRFUa5UVIAVRVFcQgVYURTFJVSAFUVRXEIFWFEUxSVUgBVFUVxCBVhRFMUlVIAVRVFcomECLCKfF5EhEXm2ZNufi8ghEXlaRL4mIt2N+nxFURSv00gP+AvAXfO2fQe4zhhzA/Ac8PuV7Oiuu+4ygN70pje9+eVWEQ0TYGPMo8DovG0PGWOyhYc/AtZXsq+RkZE6W6coiuI+bsaA3w58a6EnReQeEdkrInuHh4ebaJaiKEpzcEWAReT/BrLAPy30GmPMZ40xu40xu/v7+5tnnKIoSpMINvsDReStwKuBVxhtxaYoyhVMUwVYRO4Cfhd4uTEm0czPVhRF8RqNTEP7Z+CHwA4ROSMi7wA+DXQA3xGRfSLyvxr1+YqiKF6nYR6wMeZNZTZ/rlGfpyiK4je0Ek5RFMUlVIAVRVFcQgVYURTFJVSAFUVRXEIFWFEUxSVUgBVP8sgjj7Bv3z63zVCUhtL0SjhFqYQPfehDADz66KMuW6IojUM9YEVRFJdQAVYURXEJFWBFURSXUAFWFEVxCRVgRVEUl1ABVhRFcQkVYEVRFJdQAVYURXEJFWBFURSXUAFWPIeOClSuFFSAFc+Ry+XcNkFRmoIKsOI5VICVKwUVYMVzqAArVwoqwIrnUAFWrhRUgBXPoQKsXCmoACueI5vNum2CojQFFWDFc6gHrFwpqAArnkMFWLlSUAFWPEepAGtRhtLKqAArnqNUgNUbVloZFWDFc7SSAH/+85/nA+97n9tmKB5FpyIrnqOVBPgLX/iC2yYoHkY9YMVztJIAK8piqAArnkMFWLlSUAFWPIdt28X7KsBKK6MCrHiOUtEtFWNFaTVUgBXPUSq6KsBKK6MCrHgOjQErVwoqwIrnKK1+a5VKuFb5Hkp9UQFWPEcrhiDUk1fKoQKseA4VYOVKoWECLCKfF5EhEXm2ZFuviHxHRI4U/u1p1Ocr/qUVQxCtciJR6ksjPeAvAHfN2/Z7wMPGmKuAhwuPFWUOrSK6pagAK+VomAAbYx4FRudtfh3wxcL9LwKvb9TnK4qX0BCEUo5mx4BXGWMGAQr/rlzohSJyj4jsFZG9w8PDTTNQURqBCrBSDs8uwhljPmuM2W2M2d3f3++2OYpLtEo4QufcKeVotgBfEJE1AIV/h5r8+YrPEBG3TagLGgNWytFsAf534K2F+28Fvt7kz1cUV1APWClHI9PQ/hn4IbBDRM6IyDuAPwV+VkSOAD9beKwoc7Asz0bGqkY9YKUcDZuIYYx50wJPvaJRn6m0BqUCHAgEXLSkfuginFKO1nM1FMWDaAhCKYcKsOI5Sj3gVglHqAeslKM1jm6lpWhFAVYPWClHaxzdSkvRKgJcmsOsHrBSDv8e3UrLUrrw5udFOJ1tpyyFCrDiOVrFAy4VXQ1BKOXw79GttCylXq+fBbhUdNUDVsrh36NbaVlKBTgYbFiqesNRD1hZChVgxXO0Sgy4VIC1Ek4phwqw4jlaJQSh052VpfDv0a20LBqCUK4UVIAVz9GKHrCGIJRy+PfoVlqWUgH2cz9gDUEoS6ECrHgOPy+8lVLq9aoHrJRDBVjxHK0iwOoBK0uhAqx4jlYRYC1FVpZCBVjxHK0iwLoIpyyFCrDiOVpFgDUGrCyFCrDiOVpRgDUEoZRDBVjxHK0iwBqCUJZCBVjxHK0iwKUN2UvvK4qDCrDiOfxcfFGKhiCUpVABVpQGoYtwylKoACtKgygVXQ1BKOVQAVaUBqEhCGUpVIAVpUGoB6wshQqwojSIUtHVGLBSDhVgRWkQmgesLIUKsKI0CPWAlaVQAVaUBqEesLIUKsCK0iC0Ek5ZChVgRWkQWoihLIUKsKI0CJ2IoSyFCrCiNAj1gJWlCLptgKK0KirA3uPpp5/m4MGD7Ny5kxtvvNFtc1SAFaVROKJroSEIr/Cxj32Ms2fPsm7tWv75y1922xwNQShKo3BEN4AKsFeYmJgAYLzwr9uoACtKg3BENySiIQgPYNs2MzMzACQSCU+cFFWAFaVBOD/wIOoBe4HJyUmMMcSDAYwxTE1NuW2SOwIsIu8Tkf0i8qyI/LOIRN2wQ1EaSTabBfIC7NxX3GN8fByA9lBgzmM3aboAi8g64F5gtzHmOvIhsl9pth2K0miKIQhUgL3A2NgYAO2hfO7B6Oiom+YA7oUggkBMRIJAHDjnkh2K0jCKIQijIQgv4AhuZ/gKFmBjzFng48ApYBCYMMY8NP91InKPiOwVkb3Dw8PNNlNRaiaTySBAEKMesAcYGRkBoDMcmvPYTdwIQfQArwO2AGuBNhH5tfmvM8Z81hiz2xizu7+/v9lmKkrNZLNZAiL5GHAm47Y5VzzDw8MELItowCJoWVemAAM/A5wwxgwbYzLAvwEvccEORWko2WyWAPlFjnQ67bY5VzzDw8PEggFEhGgwwNDQkNsmuSLAp4BbRCQuIgK8Ajjogh2K0lAymQwBEQLoIpwXOD84SFjy9yMWnD9/3l2DcCcG/GPgfuCnwDMFGz7bbDsUpdFkMpmiB5xRD9h1zp8/TyyYT0GLBgIMDrq/9u9KLwhjzB8Bf+TGZytKs8hkMgTREIQXSKVSjI2Ps6KrDYBYMMDZiUmSySTRqHtlCFoJpygNIp1OEyTv5WR0Ec5VBgcHAYoesPOvs90tVIAVz9Eq43vS6TQB8gKcVgF2lXPn8uGGeEF4nX+d7W6hAqx4jlZpXJPJZAgaox6wBzhz5gxwuQCfPXvWNZtABVjxIK2SMZBOp5kwhpPkPeBW8ez9yJkzZwgFAoSsfBpEyBLCgUBRmN1CBVjxHK1StptMJskAM+TDKq1yYvEjZ86cIR60yGe+gogQD1qcPn3aVbtUgBXP0SpClUomsYBC6qlmQrjIwMmTxANz5S4WsBgYGHDJojwqwIrnaCUBFi79yJLJpJvmXLGkUilGLl4kHpqbddsWCjIyMuLq30UFWPEcrbJglUqlEC55wKlUyk1zrljOnDmDMYa2wsKbQ1uhL7CbYQgVYMVzlHrAfl64SqXTcwRYPWB3cMIMjuA6tAXzHvGpU6eabpODCrDiOUo9YD8vyKVSqTkxYPWA3cHxcB3BdXBS0VSAFaWE0sUqv4YjcrkcmWxWY8Ae4NSpU8RDIQKWzNkesIR4KKghCEUppVR0/SrAjti2SghifHzc9QWrahkYGCAWKP9cLGAxcPJkU+0pxZVmPIqyGKWi69fUrdnZWYA5IQhnm994/PHH+cAHPgBA34o+vvpvXy3m03odYwynT52iP1he6tqCAU4XFunc+E7qASueo1R0/S7ApSGIRCLhmj214CxirenaysjFEV+dSEZHR5lNJomHyrvAbaEAyWSSixcvNtmyPCrAiudoNQ/Y7zHg8fFxRIR1PVcXH/uFSwtw5QXYWYhzqyRZBVjxHK2wCOd4u6UxYD95jqWMjY0RDcWJhfK9dL0wTbhSnGY784swHJztKsCKUqCVQhBODDgg4tsQxMWLF4mE2ogWBNity/VqOHv2bH4GXKC81MUCFpaIa13RVIAVz1Equn7NnXXE1vmBRXwswCPDI0SDbcTC7YD/BDgeCmItsMAmkk9FUwFWlAKtEIIoXYQDiODfRbjh4WFioQ4iwTiWeGOce6WcPXuWqLV4dkPUEs5qCEJR8rRCCGJmZgYo8YDxpwBnMhnGJ8aJhdvz3mKkwxPj3Ctl8Ny54kLbQsSCAddGE6kAK56jNOzg1xDEZQJs20xPT7tnUJUMDQ3lG9mEOwGIhTo8Mc69EhKJBFPT00SDi8tcLGgxPTNT/Js1ExVgxXO0QghienqaqHXp5xUBpqem3DOoShyxjUfyAhwPdzI46A8BvnDhAgCxwOIecLTwvBsnFhVgxXO0wiLczMwMpcPOo8CMDz1g59K8PdINQFuki5GREV/0bHYEOFpBCAJwJbSiAqx4jnQ6XTwy/RoDnp6evkyA/RiCGBwcxBKLWLgDyAuxMbbr49wr4ZIHvLjMOSlqKsCKQl50JSzF+35kanKSaMl05xgwnUj4rr/xmTNnaI92Y0leKhxP2O1pwpUwPDyMAOElBDgSsBBRAVYUoCDAobwA+zUEMTk5OccDjgG2bfsuE+LUwCni4a7i4/ZoD+DuFIlKGR4eJrpIDrCDiBANBlWAFQXyomsCBgmIbz3gyYkJ4iWPY872yUk3zKkK27Y5feY0HdHe4rZIME44GPWFAA8NDRFeIgfYIWIJI8PDDbboclSAW4xHHnnEV3ma5chkMmCBBMS3WRBT09NF0QV/CvCFCxdIp9N0RlcUt4kIHdFeTrrYQ7dShoeHiViVSVzYshhSAVZqIZFI8KEPfYg//dM/dduUmkin09iWDQF/hiBSqRSpdNr3AuyIbGdsxZztndEVnDhxsvkGLZOLIyNEloj/OkQD7lT4qQC3EI63uG/fPpctqY1UKlXs4+hHD3hiYgKAtpJtzv2WEODYCiYmxj3dljKZTDKTSCzYhGc+kYDF7Oxs0zvWqQC3EM4AS79MK1iIVDoFASDgTwF2hKnUA47Pe84PHD9+nHiknUgwNmd7V6yv+LxXcbzZij3gQrVcs71gFeAWwg/J8ZXg5AEby/hyEc4R2faSbTHyjXn8JMBHjx6jM9J32fauWD/gDwFeqgjDIVKohlMBVqqmZQQ4k8ZYxrchCEdkS7MgLIS4ZfmmmXk2m2Vg4CRd8f7LnouG2oiG4xw7dswFyypjuLCgtpwYcOn7moUKcAvRKgKcSWcgAEb86QGPjY0Bcz1g57FfPOCBgQGy2Szd8ZWXPScidEX7ee6551ywrDKcTKDKY8DulCOrALcQjrfot2qr+WSz2WIIwo8e8OjoKAGROYUYAG22zahPmpkfOXIEoKwAO9tPnDjh2ZP+0NAQ4UCAYIVpaEFLCAcDKsBK9fjRWyyHkwdMwJ/faXR0lA4RhLmLoe3gSrJ/NRw5coRgIDSnCKOUnvgqstmsZ/OBL1y4sGQbyvlEA1axf0SzUAFuIRyx8nsWhOMBY+XjwX5jZGSE9jJXIR3A6NiYL65QDh8+TFesv9gDYj7d8VUAng1DnDt3lkiFVXAOUUs4d+5cgywqjwpwC+EULdglTWD8yJwQRNZ/IYiLw8N0lBHZTiCTzTLl8b7Atm1z5MgRegoiW46OaA+hQJjDhw830bLKMMYwOHi+2GayUmLBAOcHB5t6gnRFgEWkW0TuF5FDInJQRF7shh2thh+rxuZj2zZ2zr5UiJH2nwCPjIzQWWZ7R8nzXubMmTPMzs4uKsAiQnd8JYcPe88DHh0dJZVKLTmKaD7xYIBUOt3UoaNuecB/BTxojNkJ3AgcdMmOlsIJQVjLvPTyEsVFN59WwiWTSaYTiaLYluKIstcF2PFqe9oWFmDIx4GPHj3iuYW4M4UBm9UIcOn7m0HTBVhEOoHbgM8BGGPSxhh/5OZ4nGQymb/j/RDjghQFN0BegH0WgnDySMt5wJ3zXuNVDh8+TMAK0hm7vAijlJ621aTTaQYGBppkWWU4ndraQsFlvc95fTO/jxse8FZgGPh7EXlSRO4Tkbb5LxKRe0Rkr4js9foB6xVaIQQxxwMOQDbjLe9qKZw0pq4yz3WQr4bzere6Q4cO0x1fueACnEOPRxfiTp48ScCylpyEMZ9owCJoWS0vwEHgJuBvjTHPB2aA35v/ImPMZ40xu40xu/v7L6/GUS6nFQS4mHZWCEG0kgAHEdoty9MCnF+Ae27R+K9DR7SXUCDMoUOHmmBZ5Rw/fpz2UGDZ2UAiQlso0NQSazcE+Axwxhjz48Lj+8kLslIjTgjCNv7Ngpgfgshms75I23JwxLVcCAKgyxhPC3AlC3AOXl2IO3rkCG3LjP86tAcDHD16tGnHXNMF2BhzHjgtIjsKm14BHGi2Ha2II8C5nF3sjOY35ocgjDGeW+RZjKGhITosixDlva8uYzjf5FzT5eCEE5ZagHPoLizEeeV4u3jxIuMTE3QsM/7r0BEOMjk52bRMiIoEWERuEpF7ReQ9IlIPb/U9wD+JyNPA84CP1mGfVzylVWN+rCCDS3Y7zXhKt/mB8+fP07mI99RFXqS96tU/99xz+QW46IqlXwz0xFeSTqc9M6LIOYF0hqsT4M6CcDcrrr2kAIvIh4AvAiuAPvKLZ39Yy4caY/YV4rs3GGNeb4wZq2V/Sp7SGLBf48FFuwv9gOds8wHnz52jaxFx7QZSmUyxabvXOHLkCJ2xFVhWZZfwTkWc0zvCbZwUumoFuKPwvmYVmFTiAb8JeIEx5o+MMX8E3AK8ubFmKdXQSh6wHwXYFOK73Yu8xlmcO3/+fDNMWhbGGI48d4TuWPkGPOXojPYSsIIcPXq0gZZVzsGDB2kPhypuwjOfoGXREQ5x8GBzShMqsfIkzGnsFAG82wj0CqYVBLiYyxzEdwI8Pj5OKpNZVICd57wowBcvXmRyanLBDmjlsKwAnbEVHDvqviQYY9i/fz+doeoW4Bw6QwH273+2KWGiSgQ4BewXkS+IyN8DzwLTIvIpEflUY81TlkOrhSBM0Mzd5nEGBwcBFhXgnsK/XhRgJ/2qa4kCjPl0Rvs84QGfO3eOyclJusOhmvbTFQkxNTXN2bNn62TZwlQSKPla4ebwSGNMUWqlFQS4OBSxxANu9qDEanFaGS4mwFEgItL0toeVcOLECWD5AtwV62PgzH6mpqbo6ChXhN0c9u/fn7cnUl3818ER8P3797N+/fqa7VqMJS01xnyxoRYodSOdSiEYDOLbEMQcAQ7N2+ZxHK92MQEWhG4RT3rAAwMDRMNxIqH40i8uwZmafPLkSa6//vpGmFYRzz77LKGAVXUKmkN7KEAoEOCZZ57h53/+5+tkXXkWDEGIyL8W/n1GRJ6ef2uoVUpVpFJJ2kL5y3a/CnAikcjfCVJ0D4rbPM758+eJWhaxBXKAHbpsm0EP5gIPDAzQESnfgH0xnJQ1t3tCPP3003SGgjX3wxYROkMBnnm68TK32KnivYV/DwK/U7JdgP+vYRYpVZNKJWkPGaYz/g1BJBIJJCB516DgAc/MzLhqU6VcuHBhUe/XoRs44MEQxKlTp+mNbFj2++KRTiwJNLWL2HwSiQQnTpxga0dswdccHJtiKn2pqKcjHOSanvIhk+5IiOMDA0xPT9PePn+6X/1Y0AM2xgwW7m43xgyU3E4COxtmkVI1yWSK9pC/Fq7mMzU1hUQKHkxBgKenp90zaBmcHxykq4Jm+N3AdCLhqRNLIpFgYmKc9mjP0i+ehyUW7dHupixaLcSBAwcwxtAdWXgBbiqdZSyVKd5KxXg+3eEQxpiGp6MtFoJ4l4g8A+yYF344AWgIwoPkPeC8ABTTuXzG1NQUpnAScfpBeH2ChMPQMjxgwFMLcU4GR3ukkm9wOfFwZ9PH+ZRyaQGutgwIB2chz9lvo1gsBPF/gG8BH2Nut7IpY8xoQ61SqiKVStPRlhcvvwrw5ORkMf0MAStiMTk56a5RFZBIJJhOJMp2QZuP85qhoSG2bt3aSLMqxhHgeHihNkKL0xbuZHCweV3E5nPgwAHawyFCVRZgzCdUKMg4cKCxbWoWFGBjzAQwQb4STvE4xhiSqTQdYX+HIEbHRjGRSwnwJmwYH/d+v/6luqCV4giwlzxgp+d2PFxdGlks3Mn08BTJZJJoNLr0G+qIMYYDBw7UXIAxn45QoBjaaNSgWx3K2SI4WQ/tQYPgXw94fHx8jgDbYdsXAuwIWCUecDv5lWwvjSYaGRlBxFp2CppDPNxe3E+zGR4eZmJiour+DwvRVeiM1sj2oSrALYIjuOGAIRQQXwpwLpdjcmJyTuG7iRpGRr0jVAuxHA84gNDpscbso6OjxMLxJadgLEQ01FbcT7NxGgF11lgBNx9nf43sjKYC3CI4IYdIwBAO+DMEMTY2lq+/L80kisLoxVHPtm90cDy/SiOoHcZ4ygMeHx8nHKzO+wWIFN7rRpe3Y8fyfSg66hyCaC/sr5ETMlSAWwQnBBGyIBzwZyGG0wTbREvENgapZMpTKVvluHjxInHLIlhShPEAhkFgEPgchgdKpqW2G8OIhzzgyclJwtbCsdsnT32PJ099b8Hnw8H8e90Q4JMnTxIPVd8BbSGClkU8HGpogUl9gyaKa1wSYEPIMr4U4OKiVKkjVrg/NDTU0IT4Wrl48eJlo+gHyXeygnxLwVI6gYMe8oCnp6YJBSILPj+eWPxkEQrkBdiNqsVTp04Rq6/zWyRmCQMnTzZm56gH3DKUesBBMZdG+/iIYn+EkhnZJm7mPudRLo6M0F5BEYZDOzA1M+OZv9PMzAzBQLjsc0+e+h6jM+e5OH2Oh/Z/sawnHCq8140rlXPnzhEPNsaXjAcDDc1vVgFuEZwfcrDgAXvlh70cBgcHkZAg+wXZV7iUb7v0nJe5ODLCcvxz57VjY94YBpNKpQha5UVseOo04UiQX/y/foGUmWJ46vLxQyJCwAo2ffE3kUgwPT1NtIIR9FnbJhaL8YY3vIFYLEa2ghNmNGgxk0g0zLNXAW4RnMGVQfGvB3z69GloB5kQZLwgwBGQkLjaZ6ASxicmSh33JXFe6xUBzmQyWAsIcCab4u677+bee+/l7rvvJpMtv8AbsIJND305WReRCgQ4Y5u538NeemHXEfZGDenUGHCLUOoBB8X2pQAPnBog155DkiVJ7wKm3Xhm6GM5kskkqXS6KgH2So5zNpddMAUtFIywZ88eAPbs2UMkWL5Yw7Kspk9Hdv7/whUIcMiSOd8jZC1dXOFU1o2Pj7Nhw/IbFS2FesAtgpN2FrIgaEE67a80tFQqxdCFIcpdx9vtNicHTjbdpkpxRGA5SVyOAHtlOGc+y6+8IIUCEWZnZ7n//vuZnZ1dcLFOkKanCzqhgWAFYhq0rDnfo5KsCUeAGxXbVgFuEZxLv7BlCFuGlM8KMU6dOpX/8ZYrJeuCoQtDnu0L7IjocgTYea1XBDhPbeLpRqa243gEGlUqXNhto0IrKsAtgrP4EQnkb34TYGccjum6/GdsOvPbTjYwHagWnGZByxHgKHl/0yuNhizLqtl7NcYmEGhQPtgCOCEPWaIJfrU4+21UaEUFuEVwvMNIwBANGmYS3i5cmM/Ro0fzjdjLpRJ0X3qNF3HaZS7cCvxyLISoZXmm1WYwGMA2lafRlcN2QYCtQojANNj/1mY8yqI4P+S2kKEtaJienvF8+W4phw4fynu/5Y7IeL4t5eHDh5tuVyVUI8DO673iAYdDYWyzcIPySsjlMkQiCxdzNIJwOJ9/XEFCQ1XkCr+hRn0vFeAWYXx8nPawYAl0hm0y2Zzny3cdbNvm8OHD2N0LeGACua4chw4faq5hFeJM7FhuE8aIMZ75G0WiUbK56jNnbDuHbeymC3BbW345s5Kc3o5wkKAIQRF6IiE6Kuieli0ou/M59UbT0FqEkZERuiP5g9D5d2RkxNPluw6nT59mNjELi8yDNL2G40eOk0qlmv4jX4rp6enSEXYVEzWGaY+EIOLxOMlk9QKctTPF/TSTzs58+6N0BS7wNT0dxTFEL1xV2eilTEHYnc+pN+oBtwjnB8/RF8n/CPqi+YPG6+W7Ds7YF7Ni4R+R6TXkcrmGtgaslpmZGaKWteyFoAh4RoDb29vI5KpPXXTe22wB7uvrAyCVqy1+vRDOflesWNGQ/asAtwDGGM6cOcvKWP5gcf51c0jicti/fz8SFi7rZlNK4fh/9tlnm2LTckgkEkSrWIWP4k7zmnK0t7eTtasX4HQuWdxPM2lra6MtHmc225gshdlsjlgs1rDvpQLcAgwNDZFMpVjblj8Iu8KGeEg8m7Y1nyf3PYnday9UB5AnCtIhPP209+bBJhIJwlWswkeAGY8IcGdnJ+kaPOB0Ni/AXV2VzASpL+vWryfRIAGeyeZYv26dZkEoC+M0jN7YXsiJFFjfluGYR9O2ShkbG+PM6TOY/qUFLNeXY99T+7CX0XWsGSQSCcJV2BTGO6OjOjs7SWWqPxmks7MAdHRUN1OuFrZs2UKiQSGIRM5mSwMHp6oAtwDPPfccAqxvv+QFbO7IcvTo0abX5i+Xp556CqAiAaYPZqZnikUbXiExM0M1y4IRIJvLeaJ3c3d3N9lcpupMiGRBvLu7qxtrXwvbtm1jNpMlXWcRTudsZjNZtm3bVtf9lqIC3AIcPHiQ1W2GeElOy5aOHMlUilOnTrlnWAX89Kc/RYICFSxKm5Wm+B4vkZiZWXYGBOQ9YPBGHNgRzlS2OltS2VlExJUQxM6dOwGYSNe3AZWzP2f/jUAF2OcYYziw/1m2d871orZ15dNtnAwDr7L3ib3YfXZlR2I8Hwf2mgDPzs5W5QE7AuyFMERvbz4HMFllGCKVmaGjvYNggxqjL8bVV1+NZVmMp+oswKkMIsKOHTvqut9SVIB9zuDgIOMTk2zryvKlwzG+dDhfj7U6btMWEg4ePOiyhQszMjKSj/+urHwBK9ef46dP/rTY/9gLJJPJmjxgbwlwdYUhycwMvSsWSeRuIPF4nO3btjGWru8xMZbOsn3btoam1qkA+5wDBw4AsL0zx8BUgIGpfC2+JbC1M83+Z59x07xFeeKJJwCWJcCshNnErKfKkpOpFOWH+SyO857Z2dl6mlMVTp5rMjNd1fuT2ZmG5cpWwk0338xEKkOuTjXJOdswnsrw/Jtuqsv+FkIF2Ofs37+fcAA2tF++2La9M8vJkwOeiDGWY+/evVhRq9hspxIcsd67d2+DrFoeuVyOTDZblQA7XrMXPOCenh5EhNlqPeBsolgU4Qa7d+/GNobRVH0WNMdSaWxjeMGjxju1AAAgAElEQVQLXlCX/S2ECrDPOXzoEJs7spQbCLCtK4ttDEeOHGm+YUtgjOEnj/+EbF928fzf+USAHnj88ccbZdqycMTT7yGIYDBIZ2dXVR6wMYbZ9HQxjOEGN954I6FQiJHZxQW4IxysqAfEcDJNKBjkxhtvrJeJZXFNgEUkICJPisg33bLB7+RyOY4ceY4tHeVjX1s68l6xly7XHQYGBhgbHYNVy3+vvdJm//79nrh0d8TT7x4w5MMQ1cSA07kktp1z1QOORCLcdNNNXExnF+0CeE1PB9f0LJ6rbIzhYirL82+6iWh0uS2WloebHvB7Ae+uEPmA06dPk0pn2NxRPte3K2LojoonPWAnhGBWLT9mZ1bl+0I4OcRuUhwFVcV7vSbA/f19zFbhAc+m8+9xMwYMcOuttzKTzjBTY1XcTDbHTDrDrbfeWifLFsYVARaR9cDdwH1ufH6rcOzYMQA2LiDAAJva0hw94r0GNk888QTSLixrkqVDH4jljXS0VglBQL6xTSq7fA/YCVv09/fX26Rl8ZKXvASAoURt8xCd9zv7ayRuecB/CXwQ8FZNqc84ceIEllDsAVGO9e05Tp065am0rVwun0qW66/SUwnkO6ftfcL9hbhWC0HMpmeWPRnDWbhz2wPu7+9n586dDCVrW4gbSqbZsWMHK1eurJNlC9N0ARaRVwNDxpgnlnjdPSKyV0T2Dg8PN8k6f3Hy5ElWteUnIS/EurYcmWyOc+fONc+wJThy5Ei+/28Nx7e90ubY0WOuT5RwxLOa8gNHgJ0whtusWLECY8yye0IkCyEINxfhHG6//XYmUpmqu6PNZnNMpDK8/OUvr7Nl5XHDA34p8FoROQl8GbhTRP5x/ouMMZ81xuw2xux2+9LGq5w4fox1scXP9usK3rGXOqMtq//DAph+gzGGZ55xN8+5lhiwhRAQ8ZQAw/KLMWYzM8TjbQ1fsKoERzgvVBmGcN53++2318ukRWm6ABtjft8Ys94Ysxn4FeB7xphfa7YdfiedTnP23CDryuT/luIIsJca2Dz11FNIhyx/iFopvfk4sNsLcbUIMEBIxDMhiGqr4ZKZGXp7K5sw0WjWrVvH9u3buTBbpQDPptm6dSvr16+vs2Xl0TxgnzIwMIBt22ULMEqJBmFl/FLLSrcxxrDvqX3kVtTYpS2Qn5Kx76l99TGsSmoWYPBENzSoXoBTLlfBzeeOO+5gvIowRDKbYzyV5o477miQZZfjqgAbYx4xxrzaTRv8ipNatnEJAQbY2Jbm6HPeyAU+e/Ys01PTxQkXtWD32hw9ctRVAXMEuFwMOAnEYjHe8IY3EIvFKOfnBvFODLinJ+/FJpfZES2Vmy2+1ws44YPlhiEcr/mKEWCleg4dOkQ0KKyOL71ivbkjx+mz54rj093E6V1hesvHf2WfwDgwDtYjVv7xApgVhmw2W0zHcwNH/Mt5wEng7rvv5t577+Xuu+8uK8Be8oBjsRiRSITUcj3gTMJTArxhwwa2btnC0BJVcfO5kEizZfNmNm7c2CDLLkcF2Kc88/TTbO9MY1VQxntVt3daUx4+fDjf/3eBIbMyLkimcBsWZHyRL9hzaZ9ukcnkWyCW84CjwJ49e/jUpz7Fnj17yo6tDxrvCDBAV2cXqWzlFYa2sUllZl3pA7wYt99xB2OpNKkKBxKkcjnGUmlub6L3CyrAvmRiYoLjJ06wo7uy3N5tXfleEU8++WSDLVuao8eOYjpNfY68OEhYPOEBB8o8FyXf6ez+++9ndna2rAAHjPGUAHd3dy9LgJ1RRF4T4OVmQwwl8n+D2267rWE2lUMF2Ifs3bsXYwzX9VbWgDoagKu7svz4Rz9ssGWLY4zh6NGj2F11qr8RMF35fbpFOp1GgEAVU5EBAhhPFcl0dXeRyVWeleGItRujiBZj8+bNrFu7tuIwxIXZFGvXrGFrA+e/lUMF2Id8//vfpzMC27oqX+V9fl+a4ydOulqQMTExwdTk1ILhh2qwO22Onzi+aAOWRpLNZgnWMDE3AKQ9sggHeU82vQwBdqYhuzGMczFEhNte/nJGUxkySwxMzdo2Y6kMt7385Q2bfrwQKsA+I5lM8l+PPcbNfamK4r8Ou/vz3vJ//ud/NsiypTl79iwApr2OYtmeb9DuVkVcNpvFqlGAveQBt7e3k8lWfkJwvOXOzjqeVevErbfemu9stoQXPJLM9/596Utf2iTLLqEC7DMee+wxkqkUt6xaXtxwZdxmW1eOh7797QZZtjSOANNev306Yl7cd5PJZrNl47+VYuEtAe7o6CCVTVZ8RZEuiHV7ex3/qHVi165ddHS0M7yEAA/Ppmlvb+faa69tkmWXUAH2GQ8++C1WxOCanuX/aF+6OsWx48ddi5leuHAhf6eeI7YK+xoaGqrjTivHtu2afkQWkPOQALe1tWGMTc6ubH0hk/OuAAcCAV70olu4mM4seEIxxjCayvKiF73IlYGiKsA+Ynh4mMd/8ji3rppdVvjB4cWr0gQteOCBB+pvXAVcvHgRCUt1nWsWInZp325g23aVy295BFyLX5ejrS3fHzSTq+wKy3ldIwdX1sItt9xCKptjKlP+JDeVyZLM5gXYDVSAfcSDDz6IbQwvW1td2lJH2HBzf5qHvv2gK6lPo6OjSLTOixxhwMpPWHYDY0zNAmwvsUjUTGKx/BmtUgHO5tIEAkHC4Woacjaem2++GcjHectxsbB99+7dTbOpFBVgn2CM4VsP7GFnT7ai6reFuG1Nismpaf7rv/6rjtZVxtTUFHaozmIjYIUtZmaqGybpBZq98r4YjiebtSsUYDtdFG0vsmLFCjZt2sRosnxIZTSZYeOGDa6NU1IB9gkHDhzgzNlzvGxNbSlL16/I0hOFb7uwGDczM4MJLnG5nZnbP4FKQpEhfC3AXsIR00pjwFk744k2lItx0003MZHOD6gtxTaG8UyWmwpeshuoAPuE7373u4QseMHK2kIHlsCLVyb58Y9+1PTeENOJ6aXbhmXm9k+oRIBN0LgmwCJCLRFcg7c8YEdMs3ZlC4O5XIaYxwX4xhtvJGvbTKXnfqepTJZszuaGG25wyTIVYF9gjOH7jz7C9b1p4gssYH3pcIyBqQADUwH+5952vnR44cvCF65Kk83l+OEPm1sZl81mMbKEXIXm9k+opM+jkfyQTjcIBAI1zdWygYALq+8L4QhwLlepB5wlEo000qSauf766wEYT839Ts5j53k3UAH2ASdPnmRo+CLP71/4RzEwFWA2ZzGbszg0HmJgauHs1K2dOToj8OMf/7gR5i6IsQ1LrliF5vZPqLTRrluZBIFAgFqk3y7swys4i2k5U6EHbLwfgujv72dFby/j6bm/n4lUht7eHlatWuWSZSrAvsCZ/ntdb33yRS2BXd1pftrkoZYNE0lxL5MgHA6Tq+F7ZcFTGQSRSN6bzVUagrBzxfd4mWt27WIqO/cYmcra7NrV/OKLUlSAfcChQ4fojkJftH4ic1VXloujYzRz4Gk4HG7IHGyxxTURC4fDZI3BVBkJzgJhDwlY0QOuUICNyXrqBLIQO3bsYCadIVs4UWdtm+l0hquvvtpVu1SAfcDxY0fZ2Jahnms1mzqaPysuFAohdv0XnNwU4EgkgoGqwxBZEU95kMsV4JzJ+UKAt2/fDlAsyJjO5P9i27Ztc80mUAH2BWfPnmNVrL6LTKvi+f2dOXOmrvtdjHgsnnf56k0W10TMiX9Wm5uSEfFUHq0jprap7HizTY5QqNqJeM3DaTPpCO90QYhVgJVFSSaTJGZn6alj+AGgK2wQyVenNYuOjg6sbP0POZMxrrVDdMSzWgFOg6cWsQKBACJCzq5MgHO2P0IQq1atIhIOM1P0gLOEQiFWr17tql0qwB7HabPYEarvApYl0B6SprZxbG9vRzJ1DkEYMGnjWjMYp3dCuQ66a4BI4ba58Hg+SbzVyEZECAaD2CVZEN3xlYQCEUKBCP0dG+iOryw+5xcP2LIs1m/YwEzBA05kcmxYvx7LclcCvZOAqJRldjY/cSASqH8GQSRoivtvBt3d3ZhUnb9H6tK+3cARz3IC/CqEwcLi3DvK5N/ZGFK2eyePhQgFQ9jm0hXX8zfeyXgi323ujp2/Mue1tu0PAYb8sM4Lp08BMGsbrtmwwWWL1AP2PE7TnHAD/lIhq7kDIXt7ezFpU984cPLSvt3ACX1UcxpLkq+E89o0iVAohL2MNDS/CPCaNWtIZLIYY5jNZlm7dq3bJqkAex1n6m7Aqr8HHJTmziMrimTlE2+WxmUBdjzvRBXvdd7jtYGWoXCYXAWLcMYY38SAAVavXo1tDFOZLDnbuB7/BRVgz+MIZLAB7QKCYooC3wxWrizEDusY9ZCEzN13k3HEs5pOFI4Ae22gZTgUwq5gEc4JU/hFgJ1jxClBduuYKeWKjgHncjkefPDBOY1cIpEId911l2dyM1OFgY2NiAGHLLu4/2bglHxKQqouXLiMRH7hyK12gtFolFgkwnQV/49OK6Senp76GlUj4XCYTHLpKyNnoc4vIQjnGJkoNOXp7+930xzgChfghx56iD/7sz+7bPv09DRvfvObXbDocpyTQ7QB7QJiAcPMdPM6ohU9jno2LktA74peV8bJOPT09DB1/vyy3zdd8n4vEY5ESFXQjtJJVfOKs7IUK1asACh2RXMeu8kVG4KYnZ3l7+77HCbew8zNbynecp1r+Md//CfGx8fdNhHIj3IHaK93I3OgI2Q39XtGIhF6envqKsDWtMWG9e6uZvevXEk1p7FJ8ulRXhPgSCRcUSWc8xq/eMBOqMcpwvBC6OeKFeD77ruPkeEhkpteCsFI8Zba9BJmEgn+6q/+ym0Tgfwgy4BAd6T+IYjeqM3F0dGmLsRt2LABa7p+h52VsFi/fn3d9lcN/StXMlVFPukk0Nvd46luaJA/UVbSDc0RYL94wMFgkM2bN2OAjRs3unrV5HBFCvAPfvADvvKVr5BZtQu7c+5KqIn3kF73fB5++GG++c1vumThJU6dOkV/nCWHcM5mZc4kidns0qt2q+I2uZzN4OBgnaxdmvXr1mPN1Omwy4A9a7Nu3br67K9K+vv7mTAGe5lx7Qlg1Wr3WiEuRDgcnlOIsRA5kw9T+EWAAT7/+c/zrW99iy984QtumwJcgQJ8+PBhPvzhj2Da+0lvfGHZ12TW3kiuax2f+MQneOKJJ5ps4VyOPneYDW1L5+omsjJnkkSiAgHe2J6P4R05cqRmOytl06ZN2LN29bW7pRSu+zdu3FiHnVXP6tWryRlTjOlWyoRlsXpNufo4d4lGo5WFIHL+8oAh7wW3tbV5wvuFK0yAT5w4wfs/8AFSEmL2qp8Ba4E/glgkt99JLtLJ7/3+7/PMM88019ACFy9e5Nz5C1zVtfSPIR40cyZJxJeavQZsaM8RDgjPPvtsPcytiKJY1mHtTybzJ5lNmzbVvrMacPJJlxNNtzFMGONqM/CFiEajZCtYhHNe46VmQn7jihHgw4cP85vveQ/TqRyJHXdhwm2LvyEYIbHjLlIS4f0f+ECxKXozcT5zR/fSAhwrlBU7kyRiFQhw0ILtXZmmNmZ3xNIRz5qYzDePcbuiyfn85bQ1mgRyxrgePilHLBarSICdwZ1eaibkN64IAX788cf5zfe8h6m0YWbnqzDRyiqPTLiNxM5XkbJifOC3f5uHH364wZbO5Uc/+hEdYdjS2bh5Zzf0pjl+4iQXLlxo2GeUsmbNmvyqeR16AMmksH7DetcvJ9esWYOILEuAnde6ffIoRzweJ5tNLznBJJtLF1+vVEfLC/DXv/51fud3fodUoI3ENa+uWHwdTLiNmWvuJhPr48Mf/jD/8A//0JT5Y9lslh/98L943orUkgtwtXBTYc7cY4891rgPKSEQCLBp8yZkovYvFZgKsG2ru/1cIb9otbKvj4vLeI/zWrczOMoRi8Wwjb1kJkTGThdfr1RHywpwNpvlk5/8JJ/4xCfIdK5jZufdS4cdFiIYZXbnXWRXbOO+++7jIx/5CMlkPRsaXM5TTz3F1PQMNy8yiLMerG2zWdNm+P73H23o55Syfdt2ApM1pl5lwJ62i4223WbDpk2MLmNkyUUgEgp5ohprPo5H63i4C5EpPO+05FSWT0sK8Pj4OO97//v52te+Rmb19SSv/lkI1livbgVJbbud9IYX8PDD3+N/vPvdDb1sf/TRRwkHhOtXNL5Xw+7+JE8+uY+pqeZUxW3fvj2fCVHmHGa6DSZUuPUbTPcCVxsTl/blBdavX8+IVF5iPQKsW7fO9X605XAENbOEAGdzaSzL8lUWhNfw3l+/Ro4dO8avv/OdPP30M6S2vpz0pheB1OlripBZeyPJq3+WYycGeMevv7MhGRLGGB77wfe5vjdFpAk5+jf3Z7Btu2lj6otjYCYuf848z0A30A327Xb+cRmcEIbbI2UcNm3aRNK2K05FG7EsNm3Z0lCbqsXpT5zJLd7fIp1LEo+3IfUcVniF0VIC/OMf/5jfeNe7GB6fJnHN3WT7r2rI5+R6NjKz6zVMpm3ufe97+e53v1vX/Z8+fZqh4RFuaIL3C7C1M0dHWPjJT37SlM+76qr830XGa/jhjkFbR5snOlrBpeyOSmZMZzGM2rbr6XML4QhwOrt4mC2TTdHR4a1m8n6j6QIsIhtE5D9E5KCI7BeR99Zjv9/61rf43d/9XZKBNmZ2vRa7vbE/TBPrYeaa15KJ9/ORj3yEL3/5y3Xb91NPPQXArp7mlAhbAju7Uux7sjmpdp2dnfT198FY9fsITATYcdUOz3hfyxHgEfKN2L0qwE6D+ExucQFO55J0dnQ2w6SWxQ0POAt8wBhzDXAL8G4R2VXLDr/xjW/wsY99jEzHahLX1LDYtlxCUWZ33EW2dwt/8zd/w5e+9KW67PbIkSPEQ8LqeP0b8CzElq4s5y8MNS0OvHPHTgITVcZXbGACrr766rraVAt9fX20xWIMVfBa5zWbN29uoEXV09mZF9XUUh5wLklXt7eayfuNpguwMWbQGPPTwv0p4CBQdTb6I488wp9//OPkujeQvPrnINDk5tBWgNT2O8iu2M7f/d3f8fWvf73mXZ4+fZo18SzNdO7WFcT+7NmzTfm8HTt2YCYNVBNlmQCTM+zYsaPudlWLiLBl61YqWZYdIt8FbYMHZpKVwxHgdHbxzvnpXLL4WqU6XI0Bi8hm4PnAZas/InKPiOwVkb3Dw+Uv7E6ePMn//JM/wW5fSfKqVyxcWtxoxCK17TZy3Rv45Cc/WfPC3PjYKF2hxhVflKMrkhfgsbEa4gLLoCieVXTDlLH8mWnnzp11tKh2tmzdyrBlzcmEWMPl05AvAOvXrfPsJIlwOEw0GpsjwN3xlXOmIQOksrOeG6fkN1wTYBFpB74K/JYx5rK6KGPMZ40xu40xu8vlStq2zUc/+jEyxiK5vTbxDQ/8kPDAD6t+P5DvH7HtDuxwO3/y0Y/WNOrHtm0CTQ5tOsUezSgygUviKaNVfNExiLfFPVdFtmXLFhLzMiFehfCqeRORhy2LrR7J3liIrs5OkplLk+6ev/FOnr/xzuLjnJ0jnUmqANeIKwIsIiHy4vtPxph/q2Yfjz32GIcOHSS5/gWYcPWlkOGBHxIcfo7g8HNED3yzNiEOhkluejHnzp7lgQceqHo30WiM2dzyhGlTR45YwCYWsNnZnWFTx/I86GShe1qzcjq7u7tZuWrl8hooFAiMBdh1zS7PLMA5bCmklS0WhkgXMiC8UkCyED29PaQWCUE43rEXmpr7GTeyIAT4HHDQGPMX1e5nz549SKSdbF9tifjWzEUkl0FyGQJT57FmllNQejm5rvWYthV8o4ZewqtWr2Y4tbwpA2/ZMcumjhybOnL84e5p3rJjeZMvh2fzh0Izu3Ndu+taguPLvHLJghk3XHPNNY0xqgacnOTFBHiIfAaE1wW4t7eXdG7hYyiZzY818do0D7/hhgf8UuAtwJ0isq9we9VydmDbNk/89KekuzbUr8iiXoiQ6d7Ec4cPzxn2uRy2b9/OhRmYyTTPwzs+GSQei7Kmif1pr7nmGuzp8hVxCzIOGO/FfyHvDfZ0dS0qwM5zWzxahOHQ3d1NKrvw8ZsqhCdUgGvDjSyIHxhjxBhzgzHmeYXbsq7Xx8fHSSWT2DFvXv44dp2vYlAjwA033ADAs6PNWVQ0Bp4dj3Dd9Tc0dTzOrl2F7MNlhCGcmHHxvR5j6/btDC0SGhki3wPCa/Hr+axYsYLZdGLBNYFkJi/Ovb29zTSr5fCY+1gZxQUut7IelqJgVzpd3diH6667jq7ODn4y1JxV8lPTAS7MwMte9rKmfJ7D1VdfjWVZyMVlePoXoX9lvycm2pZj27ZtDMGC44kuAJs2b/bcHLj59Pb2Yoy9YBxYBbg++FKAi92XlqhVd42CXU5J53IJBoP8zM/+HE8Mh5lMNz4M8R9nw4RCQe64446Gf1Yp0WiUrdu2LisTIjgW5Prrrm+gVbWxZcsWMsYsWOQ3ZFls80gDocVwTnDJTPnuFrOZGaLRmPYCrhHfCnAs3oaVbE7V1nKxklOISE19Cl73uteRteHhM43NSpjOCN8/H+OOO+50Jan+umuvwxqzqKiJ2CzYM7Znww+weCbEDIYpH2RAwCUBns2UjwMnMzOsUO+3ZnwpwCLCpk0bsZJVZPE3AWt2nL7+lTWldG3evJmXvOQlPHQmzmwDW0J8+1SEVNbwpje9qXEfsgi7du3CZExlEzIKsWIvZkA4OOXF5UqSnW1eX4CDEgFOl/eAk5npfD8PpSZ8KcAAW7dsIZgs08/QAwRT42zfVruX89a3vpWptOHBU42ZuTWVFh48Hee2225zra3jtddeC1BRHFguCoFAwFM9IOYTj8dZ1b9yUQH2ag+IUpYKQSSzM55sJu83fCvAGzduxKQTkK3HfPM6YgySnKxLnf8111zDbbe9jD2n4oyn6h8L/tqJKKkc/Pqv/3rd910p69evp62jraJMCGvU4qqrr/J8A/Ct27cxXCY9chiIx2K+EK5IJEJ7e0dZD9gYw2x62rMLoX7CtwLc15e//JGScklPkEtjctm6/cj++3//DbLG4ivH6jt36+yMxcNnorz6Na9x1SMTEa6/9noCo0tkBdj5HhDX7rq2OYbVwKZNmxjBXJYJMVR4zmsVfAvR39fHbBkPOJ1Lks1lfHEi8Tq+FWAnE0LsGgOkuTSxWIw3vOEN+eGCS4xhWQrJ5e2p1+rwhg0beMMv/RL/eS7CsWrbN87DGPjS4TZi8bir3q/Drl27MBNLdEabBJM1xZCFl9m0aRPZMpkQI5bFZh/Efx1WrlrJbObyhe7ZdH6b4wQp1eNbAc5mHeGtzZuQbJq7776be++9l7vvvhupNaRR8G5yufp1M3vrW9/Kit4evnC4HbsOvXJ+MhTi2dEg7/j1d3qilr+SggwnRuzlDAiHjRs3AvnG6w7JQgaE85wf6O/vL5Ycl+JkRqgHXDu+FeDx8XwGhAnWtkBlgmH27NnDpz71Kfbs2YOpcXinCebjk/Vs69jW1sZvvudeTkxaNaelzWbhH4+0c9X2bbz+9a+vk4W14WQ1OPnAprvMMM5R6OjsaGqpdLWUE+CRec/5gb6+PmZTM9j2XGfC8YBVgGvHtwJ89uxZxApgwjXGRgNhZmdnuf/++5mdna29obsVQCLtnDt3rrb9zOPOO+/k5ptv4l+Pt9W0IPfV4zHGU/CB3/4dz1RjdXR0sGbtmmKfX/M8c9kwTq92QCtHV1cXne3tcwTYafHk1Sbs5cjnsZvLcoEdAdZFuNrxrQAfO3Y833PBa814gEy0myNHjtZ1nyLC+9//AbLG4p+PVHfSGZgK8NDpKK95zWs9dyl/7a5rCYwtcELIgpn0Zge0hVi3fv2ciMpF8n9DP3jwDk6Md34ceDYzTXdXN6HQ8jr2KZfjPfWqkMPPPUc25s1KHDvey8DAyZqaspdjw4YNvOlX38xj5yMcHFteHwzbwBcOt9HR0cE999xTV7vqwc6dO7ETC3RGG8OzHdAWYt369YxZl35eo0Bfb6/nU+hKcUIM81PREukpLcKoE74U4PHxcSYnxrHj3rwEsuO95HI5Tp06Vfd9v+Utb2HVyn6+eLiN3DJmdj42GObIeIDfeNf/8OQcr2JxRZnQuTO+3ssFGPNZu3Yt47ZNrpCKNgas81H4AUo84PRcDziZnampzF65hC8F2Imvmqj3hATARPNjWgYHB+u+70gkwm++517OTFt872xl3lQyC/9yrI1rdu7gla98Zd1tqgdXXXUVIlKMA89hDLp7un2V9rRmzRoMlyqsJyzLV+EHyA/nDIXCl+UCJ9PTugBXJ3wpwNPT+QPCyTjwGo5djp315rbbbuN5z7uRfzsRJ1FBGvSegSjjKXjPve/Fsrz5J29ra2P1mtVFb7eUwESAHVd7ZwJyJaxevRrIe75ZDJO2XdzmF0Sk0Bf40nGcs7MkMwlfnQy9jDd/jUtQnCZbaxFGoyjY1aiptyLCu9/9m0ylYc/JxdPwJlLCA6fj3H777Vx33XUNsadeXH3V1ViT8w5JG5jMTwnxE85opwnyXrChueOe6kV//9xqOKcPsGZA1AdfCvC6desAsBLNGaG+XBy7HDsbwY4dO7jzzjt48EycqUV6Bn9jIErGFt75znc2zJZ6sW3bNsyUgdLz6iQY2/hOgJ1L9InCDfBl3LSvr2/OaCLHG9YQRH3wpQD39/ezfsMGQmMn3DalLMHRE3R0djZcNN72tv9GOmd48FQ+5OEM5XSYSAvfOxvj537u53yRf1ps01jSmlImZe5zPiESidDZ3s4U4Cxh+fGyvW9ePwjnvh+/ixfxpQADvP51r8OauoA1cdZtU+ZgzVwkODbAa1/zmoYXOmzevJmXvew2vnsuRjKXn4xcOg35u6cjpHOGN7/5zQ21o144IuuILgATYFkW69evd0XNK1QAAAy+SURBVMmq6lnR18ck/hbgFStWkMmmyRR6pDgCrCGI+uBbAX7d617HmrVriZ38AWSrH01kt60g17G6eLPbajiw7CzRE4/S2dnJr/7qr1a/n2Xwxje+kZk0/PD83Hhz1obvnYvx4ltuYdOmTU2xpVbWrl1LMBic6wFPCWvWrmlYPL2R9PX3My3CFPlBnMVRWj7iUl/gmeK/gUDAk6mMfsS3AhyJRPh//vAPCWQSRI9+D+zqmt+kN72Y5K5XF2/pTS+uziBjiBx7FJm5yB/8we/T0dFR3X6WyXXXXcfWLZv5j3Nzq+OeHAkxkYLX/8IvNMWOehAMBvMlydOXPGBr2mLzps3uGVUDPT09zIgwTX7Mux/KqOfjDN10GrMnMzN0dXV7NpvGb/j6f/G6667jgx/8IIGJs0SOPly1CNeMsQmf+D7B0eO8613v4iUveUnTPlpEeOWr7ub4hMXgzKU/538Nhunp7uIFL3hB02ypBxs3bMSaLnwPA0z7q39CKd3d3UwbwwzQ49NL9ksCnCj8O0OfT7+LF/G1AAO88pWv5Ld+67cIjp0i+ty3mz8hw84SOfofhIaf421ve5srs9XuvPNOgOIY+1QO9o2GuePOV+Qv6X3E+vXrYZq8+M6CyZmGZpM0ku7ubjLGMCniibaf1XBJgPMhiFQ2QU9vj5smtRS+F2CAX/zFX+QP/uAPCE1foO3gN5FUk6YlZ2aJHfoWwdETvPvd7+btb397cz53Hv39/ey4+ir2XcwL8IHREJkc3Hrrra7YUwtr1qzB5Ey+J0Qh+2nt2rWu2lQtXV35isgRY4r3/UZnZyciVtEDTudm6elRAa4XLSHAAHfddRcf//M/Jy4p2g78O9ZkfdtBzseaGaFt/9eJpMb4yEc+whvf+MaGft5SvPBFt3BsIsBsFvaPBgmHQtxwww2u2lQNxXLdGZAZmbvNZzjrADbQ3t7urjFVEggE6GhvJ5VNFGbBzagA15GWEWCA3bt383ef/SxrV/blPdPz+/Pzd+pMYOQo8QPfpK8jxt985jPcfvvtdf+M5XLjjTdiGzg6EeTwRJhd1+7yZeaAU64rCYHCuD8/FjAAcxZim7Uo2wi6u7tJZRNk7TS2nfNtOMWLtJQAQ37B5u8++795yYtfTGTgh4SPP1q/kmVjEx74EdFjj3D9dbv43OfuY8cOb/QocHrlHpkIcmraYpcPhleWo1hhNQskoLOr05cnEpjr9frVAwbo6e0hnZ0llcnnmKsA14+WE2DIH+wf/ehHedvb3kZo5AjxQw9ArdOTs2mihx8idP5ZfuEXfoG//Mu/9NSlWEdHB6tW9vP4UIicne8u5kfa29uJRCOQAJkV33q/MHcwqx9zgB26urpI55Kks3kB1hzg+tGSAgz56qm3v/3t/PEf/zGR9ARtB76BVNk7QlLTtB38BqHpQT74wQ/yvve9z5PZBZs2b+H0dN4uP80em0/vil5IgpWy6O/zb8+BUgGu15RsN3AEOJVLFh8r9aFlBdjh5S9/OZ/59KfpigZpO/RNrOmhZb1fZsdoO/gNYqT5xMc/zqtf/eoGWVo7pdkCfs0cAOhb0YekBElJMQ3Kj8RisbL3/UZHRwep9Kx6wA2g5QUY8p3D/vf/+ltW9fUSP/wg1lRlIiyJMdoOfYuueJi/+cynufnmmxtsaW04l+uBQMDXl7wrelcQSAWwk7anwjzLJRqNlr3vNzo6OrBNjkRhMoafFxS9xhUhwJD3CD/z6U+zemUf8SPfXjIcIalp2p57kK62CJ/+679m27ZtTbK0elqlQUpnZyf2tA22vy93LcsqLiD6sRGPgyO4idTEnMdK7VwxAgz5Ffa//OQn6WqPEz/yEGTLTYAEclliR75D1DJ88i/+wjfxVD+LVSldXV355Fn8f7n71a9+la985Su+7Obm4AjuTGqCSCTiyfUPv3JFCTDkk/r/9GMfI5BJEDn+/bJ5wuFTP0ISo3z4w/+vLzxfB+eH4vdGKaWi63cB7urq8uUkjFKccFYiPUVbm3/T6byIv3+pVbJr1y7uuecegmMDhM7tw5oeLt6CFw4QGjrEG3/5l7nlllvcNnVZODHgV7ziFS5bUhul8Ws/58+2CpcEeJI2H2dzeJEr9lril3/5l3noO9/h2NEn4MwTc57rX7mSd7zjHS5ZVj2rVq1iz549vl6Ag9YpYGgVnBS6rJ0h7vNjy2tcsQIcCAT49F//NU899dRlz+3atcu3q9atsEBSegLxc/5sqzC3oET/HvXEFQEWkbuAvwICwH3GmD91w462tram9u5VKqP05Ofn/NlWoVUKSrxI02PAIhIAPgO8EtgFvElEdjXbDsW7lP7IVYDdp1UKSryIG4twLwSOGmOOG2PSwJeB17lgh+JRIpFI8b5fG/G0EsFgkEAgf7Hs19CcV3FDgNcBp0senylsUxRgrgD7cY5aKxKN5v8m6gHXFzcEuNwv6rJkXBG5R0T2isje4eHhJpileIVSAVa8QSQSLfyrf5t64oYAnwFKpyyuBy4bX2GM+awxZrcxZnexR6xyRRAKhdw2QZlHoFDcowJcX9wQ4MeBq0Rki4iEgV8B/t0FOxSPogLsPV56662sWrWKa6/1Z6N/r9L0NDRjTFZEfhP4Nvk0tM8bY/Y32w7Fuzi9BnT6rnd4//vfB7zPbTNaDlfygI0xDwAPuPHZij/4l3/5F82AUFqeK7YSTvE2fp2ErCjL4YpsxqMoiuIFVIAVRVFcQgVYURTFJVSAFUVRXEIFWFEUxSVUgBVFUVxCBVhRFMUlVIAVRVFcQgVYURTFJVSAFUVRXEIFWFEUxSXEmMt6oXsOERkGBhr8MX3ASIM/oxno9/AerfJd9HtUzogx5q6lXuQLAW4GIrLXGLPbbTtqRb+H92iV76Lfo/5oCEJRFMUlVIAVRVFcQgX4Ep9124A6od/De7TKd9HvUWc0BqwoiuIS6gEriqK4hAqwoiiKS1zxAiwinxeRIRF51m1bakFENojIf4jIQRHZLyLvddumahCRqIj8RESeKnyPD7ttUy2ISEBEnhSRb7ptS7WIyEkReUZE9onIXrftqQUR6RaR+0XkUOG38mJX7bnSY8AichswDfyDMeY6t+2pFhFZA6wxxvxURDqAJ4DXG2MOuGzashARAdqMMdMiEgJ+ALzXGPMjl02rChF5P7Ab6DTGvNpte6pBRE4Cu40xvi/CEJEvAt83xtwnImEgbowZd8ueK94DNsY8Coy6bUetGGMGjTE/LdyfAg4C69y1avmYPNOFh6HCzZdegoisB+4G7nPbFgVEpBO4DfgcgDEm7ab4ggpwSyIim4HnAz9215LqKFy27wOGgO8YY3z5PYC/BD4I2G4bUiMGeEhEnhCRe9w2pga2AsPA3xfCQveJSJubBqkAtxgi0g58FfgtY8yk2/ZUgzEmZ4x5HrAeeKGI+C40JCKvBoaMMU+4bUsdeKkx5ibglcC7C2E7PxIEbgL+1hjzfGAG+D03DVIBbiEKMdOvAv9kjPk3t+2plcLl4SPAkk1NPMhLgdcW4qdfBu4UkX9016TqMMacK/w7BHwNeKG7FlXNGeBMyRXV/eQF2TVUgFuEwuLV54CDxpi/cNueahGRfhHpLtyPAT8DHHLXquVjjPl9Y8x6Y8xm4FeA7xljfs1ls5aNiLQVFnUpXK7/HODLjCFjzHngtIjsKGx6BeDqInXQzQ/3AiLyz8DtQJ+InAH+yBjzOXetqoqXAm8BninETwH+wBjzgIs2VcMa4IsiEiDvIPyrMca3KVwtwCrga/nzO0Hg/xhjHnTXpJp4D/BPhQyI48B/c9OYKz4NTVEUxS00BKEoiuISKsCKoiguoQKsKIriEirAiqIoLqECrCiK4hIqwMoVQ6H0dJfbdiiKg6ahKYqiuIR6wEpLUqjg2lPoK/ysiLxRRB4Rkd0i8tpCb9t9InJYRE4U3nOziPxnoenMtwstPhWlYagAK63KXcA5Y8yNhT7PxeotY8y/G2OeV2j48xTw8UIfjb8G3mCMuRn4PPAnbhiuXDlc8aXISsvyDHlh/TPgm8aY7xfKaYuIyAeBWWPMZwod164DvlN4XQAYbLLNyhWGCrDSkhhjnhORm4FXAR8TkYdKnxeRVwC/RL5BN4AA+40xro6oUa4sNAShtCQishZIGGP+Efg4JW0HRWQT8DfALxtjZgubDwP9zowwEQmJyLVNNlu5wlAPWGlVrgf+XERsIAP8/+3cMRGEQAyG0T8KKM4VNQJoccOct7OAjaXY4hyQgvcUpNmvyGT2yAxxkuxJPvn/8nWNMdaq2pJ8q2rJfBtnkt/Tg/MeztAAmlhBADQRYIAmAgzQRIABmggwQBMBBmgiwABNbggrNlR7Hok5AAAAAElFTkSuQmCC\n",
      "text/plain": [
       "<Figure size 360x360 with 1 Axes>"
      ]
     },
     "metadata": {
      "needs_background": "light"
     },
     "output_type": "display_data"
    }
   ],
   "source": [
    "sns.catplot(x=\"size\", y=\"tip\", kind=\"violin\", data=tips);"
   ]
  },
  {
   "cell_type": "markdown",
   "metadata": {},
   "source": [
    "<i> This shows the relationship that exists between the size of the group and the amount tipped. </i>"
   ]
  },
  {
   "cell_type": "code",
   "execution_count": 130,
   "metadata": {},
   "outputs": [
    {
     "data": {
      "image/png": "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\n",
      "text/plain": [
       "<Figure size 432.625x360 with 1 Axes>"
      ]
     },
     "metadata": {
      "needs_background": "light"
     },
     "output_type": "display_data"
    }
   ],
   "source": [
    "sns.catplot(x=\"day\", y=\"total_bill\", hue=\"sex\", kind=\"violin\", data=tips);"
   ]
  },
  {
   "cell_type": "markdown",
   "metadata": {},
   "source": [
    "<i> On Friday we can see that female’s total_bill is much less than male’s total_bill. </i>"
   ]
  },
  {
   "cell_type": "markdown",
   "metadata": {},
   "source": [
    "## Point plot:"
   ]
  },
  {
   "cell_type": "markdown",
   "metadata": {},
   "source": [
    "https://towardsdatascience.com/analyze-the-data-through-data-visualization-using-seaborn-255e1cd3948e\n",
    "\n",
    "A point plot represents an estimate of central tendency for a numeric variable by the position of scatter plot points and provides some indication of the uncertainty around that estimate using error bars. Point plot shows only mean values and error rate surrounding those mean values. They are not very much informative but are easy to find the change in a variable based on different categories.\n",
    "\n",
    "The total_bill is rising for male’s as the weekend arises while it decreases on Friday for females and jumps on Saturday and remains mostly constant on Sunday."
   ]
  },
  {
   "cell_type": "code",
   "execution_count": 131,
   "metadata": {},
   "outputs": [
    {
     "data": {
      "image/png": "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\n",
      "text/plain": [
       "<Figure size 432.625x360 with 1 Axes>"
      ]
     },
     "metadata": {
      "needs_background": "light"
     },
     "output_type": "display_data"
    }
   ],
   "source": [
    "sns.catplot(x=\"day\", y=\"total_bill\", hue=\"sex\", kind=\"point\", data=tips);"
   ]
  },
  {
   "cell_type": "markdown",
   "metadata": {},
   "source": [
    "<i> The point plot clearly indicate that the total bill increases for males increases </i>"
   ]
  },
  {
   "cell_type": "markdown",
   "metadata": {},
   "source": [
    "<a name=\"bib\"></a>\n",
    " ## Bibliography:\n",
    " \n",
    " 3. Box and Whisker Plot | Math@TutorVista.com. 2019. Box and Whisker Plot | Math@TutorVista.com. [ONLINE] Available at: https://math.tutorvista.com/statistics/box-and-whisker-plot.html.\n",
    "\n",
    "4. Sciencing. 2019. Advantages & Disadvantages of a Box Plot | Sciencing. [ONLINE] Available at: https://sciencing.com/advantages-disadvantages-box-plot-12025269.html.\n",
    "\n",
    "13. Khan Academy. 2019. Scatterplots and correlation review (article) | Khan Academy. [ONLINE] Available at: https://www.khanacademy.org/math/statistics-probability/describing-relationships-quantitative-data/introduction-to-scatterplots/a/scatterplots-and-correlation-review.\n",
    "\n",
    "14. Nishant Bhushan. 2019. Exploratory Data Analysis on Iris Dataset – DevMins – Medium. [ONLINE] Available at: https://medium.com/devmins/exploratory-data-analysis-on-iris-dataset-7da027acca02. \n"
=======
       "smoker\n",
       "Yes     93\n",
       "No     151\n",
       "dtype: int64"
      ]
     },
     "execution_count": 50,
     "metadata": {},
     "output_type": "execute_result"
    }
   ],
   "source": [
    "tips.groupby(by='smoker').size()"
>>>>>>> ac79f396595ef44d04138b76cf8d50e9d55ea8ab
   ]
  },
  {
   "cell_type": "code",
   "execution_count": null,
   "metadata": {},
   "outputs": [],
   "source": []
  }
 ],
 "metadata": {
  "kernelspec": {
   "display_name": "Python 3",
   "language": "python",
   "name": "python3"
  },
  "language_info": {
   "codemirror_mode": {
    "name": "ipython",
    "version": 3
   },
   "file_extension": ".py",
   "mimetype": "text/x-python",
   "name": "python",
   "nbconvert_exporter": "python",
   "pygments_lexer": "ipython3",
   "version": "3.7.1"
  }
 },
 "nbformat": 4,
 "nbformat_minor": 2
}
